{
 "cells": [
  {
   "cell_type": "code",
   "execution_count": 1,
   "metadata": {},
   "outputs": [],
   "source": [
    "import os\n",
    "import sys\n",
    "import random\n",
    "\n",
    "import numpy as np\n",
    "import pandas as pd\n",
    "\n",
    "from tensorflow.keras.preprocessing.text import Tokenizer\n",
    "from tensorflow.keras.preprocessing.sequence import pad_sequences\n",
    "from tensorflow.keras.utils import to_categorical\n",
    "from tensorflow.keras.models import Model, Sequential\n",
    "from tensorflow.keras.layers import Dense, Input, GlobalMaxPooling1D, Conv1D, Embedding, LSTM, MaxPooling1D\n",
    "from tensorflow.keras.initializers import Constant\n",
    "\n",
    "from sklearn.preprocessing import LabelEncoder"
   ]
  },
  {
   "cell_type": "code",
   "execution_count": 2,
   "metadata": {},
   "outputs": [],
   "source": [
    "def get_data2(filename):\n",
    "    with open(filename) as f:\n",
    "        contents = f.read()\n",
    "    sents,labels,intents = [],[],[]\n",
    "    for line in contents.strip().split('\\n'):\n",
    "        words,labs = [i.split(' ') for i in line.split('\\t')]\n",
    "        sents.append(words[1:-1])\n",
    "        labels.append(labs[1:-1])\n",
    "        intents.append(labs[-1])\n",
    "    return np.array(sents, dtype=object), np.array(labels, dtype=object), np.array(intents, dtype=object)"
   ]
  },
  {
   "cell_type": "code",
   "execution_count": 3,
   "metadata": {},
   "outputs": [],
   "source": [
    "sents, labels, intents = get_data2(\"./data/atis.train.w-intent.iob\")"
   ]
  },
  {
   "cell_type": "code",
   "execution_count": 4,
   "metadata": {},
   "outputs": [
    {
     "data": {
      "text/plain": [
       "'what is the cheapest flight from boston to bwi'"
      ]
     },
     "execution_count": 4,
     "metadata": {},
     "output_type": "execute_result"
    }
   ],
   "source": [
    "train_sentences = [\" \".join(i) for i in sents]\n",
    "\n",
    "train_sentences[13]"
   ]
  },
  {
   "cell_type": "code",
   "execution_count": 5,
   "metadata": {},
   "outputs": [],
   "source": [
    "train_texts = train_sentences\n",
    "train_labels = intents.tolist()"
   ]
  },
  {
   "cell_type": "code",
   "execution_count": 6,
   "metadata": {},
   "outputs": [
    {
     "name": "stdout",
     "output_type": "stream",
     "text": [
      "i want to fly from boston at 838 am and arrive in denver at 1110 in the morning : atis_flight\n",
      "what flights are available from pittsburgh to baltimore on thursday morning : atis_flight\n",
      "what is the arrival time in san francisco for the 755 am flight leaving washington : atis_flight_time\n",
      "cheapest airfare from tacoma to orlando : atis_airfare\n",
      "round trip fares from pittsburgh to philadelphia under 1000 dollars : atis_airfare\n",
      "i need a flight tomorrow from columbus to minneapolis : atis_flight\n",
      "what kind of aircraft is used on a flight from cleveland to dallas : atis_aircraft\n",
      "show me the flights from pittsburgh to los angeles on thursday : atis_flight\n",
      "all flights from boston to washington : atis_flight\n",
      "what kind of ground transportation is available in denver : atis_ground_service\n"
     ]
    }
   ],
   "source": [
    "for text, label in zip(train_texts[:10], train_labels[:10]):\n",
    "    print(f\"{text} : {label}\")"
   ]
  },
  {
   "cell_type": "code",
   "execution_count": 7,
   "metadata": {},
   "outputs": [
    {
     "data": {
      "text/plain": [
       "{'atis_abbreviation',\n",
       " 'atis_aircraft',\n",
       " 'atis_aircraft#atis_flight#atis_flight_no',\n",
       " 'atis_airfare',\n",
       " 'atis_airfare#atis_flight_time',\n",
       " 'atis_airline',\n",
       " 'atis_airline#atis_flight_no',\n",
       " 'atis_airport',\n",
       " 'atis_capacity',\n",
       " 'atis_cheapest',\n",
       " 'atis_city',\n",
       " 'atis_distance',\n",
       " 'atis_flight',\n",
       " 'atis_flight#atis_airfare',\n",
       " 'atis_flight_no',\n",
       " 'atis_flight_time',\n",
       " 'atis_ground_fare',\n",
       " 'atis_ground_service',\n",
       " 'atis_ground_service#atis_ground_fare',\n",
       " 'atis_meal',\n",
       " 'atis_quantity',\n",
       " 'atis_restriction'}"
      ]
     },
     "execution_count": 7,
     "metadata": {},
     "output_type": "execute_result"
    }
   ],
   "source": [
    "set(train_labels)"
   ]
  },
  {
   "cell_type": "code",
   "execution_count": 8,
   "metadata": {},
   "outputs": [
    {
     "data": {
      "text/plain": [
       "22"
      ]
     },
     "execution_count": 8,
     "metadata": {},
     "output_type": "execute_result"
    }
   ],
   "source": [
    "len(set(train_labels))"
   ]
  },
  {
   "cell_type": "code",
   "execution_count": 9,
   "metadata": {},
   "outputs": [
    {
     "data": {
      "text/plain": [
       "[5, 4, 3, 2, 1]"
      ]
     },
     "execution_count": 9,
     "metadata": {},
     "output_type": "execute_result"
    }
   ],
   "source": [
    "[1,2,3,4,5][::-1]"
   ]
  },
  {
   "cell_type": "code",
   "execution_count": 10,
   "metadata": {},
   "outputs": [
    {
     "data": {
      "text/plain": [
       "3"
      ]
     },
     "execution_count": 10,
     "metadata": {},
     "output_type": "execute_result"
    }
   ],
   "source": [
    "[1,2,3,4,5].pop(2)"
   ]
  },
  {
   "cell_type": "code",
   "execution_count": 11,
   "metadata": {},
   "outputs": [],
   "source": [
    "values = []\n",
    "\n",
    "# keep track of intent with class # id in it\n",
    "for i in range(len(train_labels)):\n",
    "    if \"#\" in train_labels[i]:\n",
    "        values.append(i)\n",
    "   \n",
    "     \n",
    "for i in values[::-1]:\n",
    "    train_labels.pop(i)\n",
    "    train_texts.pop(i)"
   ]
  },
  {
   "cell_type": "code",
   "execution_count": 12,
   "metadata": {},
   "outputs": [
    {
     "data": {
      "text/plain": [
       "17"
      ]
     },
     "execution_count": 12,
     "metadata": {},
     "output_type": "execute_result"
    }
   ],
   "source": [
    "len(set(train_labels))"
   ]
  },
  {
   "cell_type": "code",
   "execution_count": 13,
   "metadata": {},
   "outputs": [
    {
     "data": {
      "text/plain": [
       "[570,\n",
       " 602,\n",
       " 719,\n",
       " 859,\n",
       " 1325,\n",
       " 1769,\n",
       " 2019,\n",
       " 2030,\n",
       " 2342,\n",
       " 2693,\n",
       " 2811,\n",
       " 2874,\n",
       " 2954,\n",
       " 3155,\n",
       " 3266,\n",
       " 3336,\n",
       " 3654,\n",
       " 3746,\n",
       " 3878,\n",
       " 3971,\n",
       " 4207,\n",
       " 4373,\n",
       " 4443,\n",
       " 4612,\n",
       " 4814,\n",
       " 4923]"
      ]
     },
     "execution_count": 13,
     "metadata": {},
     "output_type": "execute_result"
    }
   ],
   "source": [
    "values"
   ]
  },
  {
   "cell_type": "code",
   "execution_count": 14,
   "metadata": {},
   "outputs": [
    {
     "name": "stdout",
     "output_type": "stream",
     "text": [
      "Train sentence: \n",
      "4952\n",
      "Train labels: \n",
      "17\n"
     ]
    }
   ],
   "source": [
    "print(\"Train sentence: \")\n",
    "print(len(train_texts))\n",
    "\n",
    "print(\"Train labels: \")\n",
    "print(len(set(train_labels)))"
   ]
  },
  {
   "cell_type": "code",
   "execution_count": 15,
   "metadata": {},
   "outputs": [],
   "source": [
    "def get_data(filename):\n",
    "    df = pd.read_csv(filename,delim_whitespace=True,names=['word','label'])\n",
    "    beg_indices = list(df[df['word'] == 'BOS'].index)+[df.shape[0]]\n",
    "    sents,labels,intents = [],[],[]\n",
    "    for i in range(len(beg_indices[:-1])):\n",
    "        sents.append(df[beg_indices[i]+1:beg_indices[i+1]-1]['word'].values)\n",
    "        labels.append(df[beg_indices[i]+1:beg_indices[i+1]-1]['label'].values)\n",
    "        intents.append(df.loc[beg_indices[i+1]-1]['label'])    \n",
    "    return np.array(sents, dtype=object), np.array(labels, dtype=object), np.array(intents, dtype=object)"
   ]
  },
  {
   "cell_type": "code",
   "execution_count": 16,
   "metadata": {},
   "outputs": [
    {
     "name": "stderr",
     "output_type": "stream",
     "text": [
      "C:\\Users\\acer\\AppData\\Local\\Temp\\ipykernel_1296\\3993574036.py:2: FutureWarning: The 'delim_whitespace' keyword in pd.read_csv is deprecated and will be removed in a future version. Use ``sep='\\s+'`` instead\n",
      "  df = pd.read_csv(filename,delim_whitespace=True,names=['word','label'])\n"
     ]
    }
   ],
   "source": [
    "sents, labels, intents = get_data(\"./data/atis.test.w-intent.iob\")"
   ]
  },
  {
   "cell_type": "code",
   "execution_count": 17,
   "metadata": {},
   "outputs": [],
   "source": [
    "test_sentences = [\" \".join(sent) for sent in sents]"
   ]
  },
  {
   "cell_type": "code",
   "execution_count": 18,
   "metadata": {},
   "outputs": [],
   "source": [
    "test_texts = test_sentences\n",
    "test_labels = intents.tolist()"
   ]
  },
  {
   "cell_type": "code",
   "execution_count": 19,
   "metadata": {},
   "outputs": [
    {
     "data": {
      "text/plain": [
       "{'atis_airfare#atis_flight',\n",
       " 'atis_day_name',\n",
       " 'atis_flight#atis_airfare',\n",
       " 'atis_flight#atis_airline',\n",
       " 'atis_flight_no#atis_airline'}"
      ]
     },
     "execution_count": 19,
     "metadata": {},
     "output_type": "execute_result"
    }
   ],
   "source": [
    "new_labels = set(test_labels) - set(train_labels)\n",
    "\n",
    "new_labels"
   ]
  },
  {
   "cell_type": "code",
   "execution_count": 20,
   "metadata": {},
   "outputs": [
    {
     "name": "stdout",
     "output_type": "stream",
     "text": [
      "atis_day_name\n",
      "atis_day_name\n"
     ]
    }
   ],
   "source": [
    "values = []\n",
    "\n",
    "for i in range(len(test_labels)):\n",
    "    if \"#\" in test_labels[i]:\n",
    "        values.append(i)\n",
    "        \n",
    "    elif test_labels[i] in new_labels:\n",
    "        print(test_labels[i])\n",
    "        values.append(i)"
   ]
  },
  {
   "cell_type": "code",
   "execution_count": 21,
   "metadata": {},
   "outputs": [
    {
     "data": {
      "text/plain": [
       "{'atis_abbreviation',\n",
       " 'atis_aircraft',\n",
       " 'atis_airfare',\n",
       " 'atis_airline',\n",
       " 'atis_airport',\n",
       " 'atis_capacity',\n",
       " 'atis_city',\n",
       " 'atis_distance',\n",
       " 'atis_flight',\n",
       " 'atis_flight_no',\n",
       " 'atis_flight_time',\n",
       " 'atis_ground_fare',\n",
       " 'atis_ground_service',\n",
       " 'atis_meal',\n",
       " 'atis_quantity'}"
      ]
     },
     "execution_count": 21,
     "metadata": {},
     "output_type": "execute_result"
    }
   ],
   "source": [
    "set(test_labels).intersection(set(train_labels))"
   ]
  },
  {
   "cell_type": "code",
   "execution_count": 22,
   "metadata": {},
   "outputs": [
    {
     "data": {
      "text/plain": [
       "20"
      ]
     },
     "execution_count": 22,
     "metadata": {},
     "output_type": "execute_result"
    }
   ],
   "source": [
    "len(set(test_labels))"
   ]
  },
  {
   "cell_type": "code",
   "execution_count": 23,
   "metadata": {},
   "outputs": [
    {
     "data": {
      "text/plain": [
       "[12,\n",
       " 34,\n",
       " 36,\n",
       " 206,\n",
       " 207,\n",
       " 208,\n",
       " 213,\n",
       " 229,\n",
       " 405,\n",
       " 406,\n",
       " 407,\n",
       " 492,\n",
       " 497,\n",
       " 498,\n",
       " 499,\n",
       " 604,\n",
       " 642]"
      ]
     },
     "execution_count": 23,
     "metadata": {},
     "output_type": "execute_result"
    }
   ],
   "source": [
    "values"
   ]
  },
  {
   "cell_type": "code",
   "execution_count": 24,
   "metadata": {},
   "outputs": [],
   "source": [
    "for i in values[::-1]:\n",
    "    test_labels.pop(i)\n",
    "    test_texts.pop(i)"
   ]
  },
  {
   "cell_type": "code",
   "execution_count": 25,
   "metadata": {},
   "outputs": [
    {
     "name": "stdout",
     "output_type": "stream",
     "text": [
      "removing 9\n",
      "removed 786\n",
      "removing 5\n",
      "removed 45\n",
      "removing 4\n",
      "removed 34\n",
      "removing 0\n",
      "removed 10\n",
      "removing 3\n",
      "removed 756\n",
      "removing 2\n",
      "removed 11\n",
      "removing 1\n",
      "removed 12\n"
     ]
    }
   ],
   "source": [
    "array = [10,12,12,11,34,45,756,8,56,786]\n",
    "v = [1,2,3,0,4,5,9]\n",
    "\n",
    "for i in v[::-1]:\n",
    "    print(f\"removing {i}\")\n",
    "    removed = array.pop(i)\n",
    "    print(f\"removed {removed}\")"
   ]
  },
  {
   "cell_type": "code",
   "execution_count": 26,
   "metadata": {},
   "outputs": [],
   "source": [
    "# array = [10,12,12,11,34,45,756,8,56,786]\n",
    "# v = [1,2,3,0,4,5,9]\n",
    "\n",
    "# for i in v: # might occur index out of range so always reverse and pop\n",
    "#     print(f\"removing {i}\")\n",
    "#     removed = array.pop(i)\n",
    "#     print(f\"removed {removed}\")"
   ]
  },
  {
   "cell_type": "code",
   "execution_count": 27,
   "metadata": {},
   "outputs": [
    {
     "name": "stdout",
     "output_type": "stream",
     "text": [
      "Number of test sentences: 876\n"
     ]
    }
   ],
   "source": [
    "print(f\"Number of test sentences: {len(test_texts)}\")"
   ]
  },
  {
   "cell_type": "code",
   "execution_count": 28,
   "metadata": {},
   "outputs": [
    {
     "name": "stdout",
     "output_type": "stream",
     "text": [
      "Number of test labels: 15\n"
     ]
    }
   ],
   "source": [
    "print(f\"Number of test labels: {len(set(test_labels))}\")"
   ]
  },
  {
   "cell_type": "code",
   "execution_count": 29,
   "metadata": {},
   "outputs": [],
   "source": [
    "only_in_test = set(test_labels) - set(train_labels)"
   ]
  },
  {
   "cell_type": "code",
   "execution_count": 30,
   "metadata": {},
   "outputs": [],
   "source": [
    "only_in_train = set(train_labels) - set(test_labels)"
   ]
  },
  {
   "cell_type": "code",
   "execution_count": 31,
   "metadata": {},
   "outputs": [
    {
     "name": "stdout",
     "output_type": "stream",
     "text": [
      "The intent only in train set {'atis_restriction', 'atis_cheapest'}\n"
     ]
    }
   ],
   "source": [
    "print(f\"The intent only in train set {only_in_train}\")"
   ]
  },
  {
   "cell_type": "code",
   "execution_count": 32,
   "metadata": {},
   "outputs": [
    {
     "name": "stdout",
     "output_type": "stream",
     "text": [
      "The intent only in test set set()\n"
     ]
    }
   ],
   "source": [
    "print(f\"The intent only in test set {only_in_test}\")"
   ]
  },
  {
   "cell_type": "code",
   "execution_count": 33,
   "metadata": {},
   "outputs": [],
   "source": [
    "MAX_SEQUENCE_LENGTH = 300\n",
    "MAX_NUM_WORDS = 20000\n",
    "EMBEDDING_DIM = 100\n",
    "VALIDATION_SPLIT = 0.3"
   ]
  },
  {
   "cell_type": "code",
   "execution_count": 34,
   "metadata": {},
   "outputs": [
    {
     "name": "stdout",
     "output_type": "stream",
     "text": [
      "Found 897 unique tokens.\n"
     ]
    }
   ],
   "source": [
    "tokenizer = Tokenizer(num_words=MAX_NUM_WORDS)\n",
    "tokenizer.fit_on_texts(train_texts)\n",
    "train_sequences = tokenizer.texts_to_sequences(train_texts)\n",
    "word_index = tokenizer.word_index\n",
    "print(f\"Found {len(word_index)} unique tokens.\")"
   ]
  },
  {
   "cell_type": "code",
   "execution_count": 35,
   "metadata": {},
   "outputs": [],
   "source": [
    "test_sequences = tokenizer.texts_to_sequences(test_texts)"
   ]
  },
  {
   "cell_type": "code",
   "execution_count": 36,
   "metadata": {},
   "outputs": [],
   "source": [
    "label_encoder = LabelEncoder()\n",
    "label_encoder.fit_transform(train_labels)\n",
    "\n",
    "train_labels = label_encoder.transform(train_labels)\n",
    "test_labels = label_encoder.transform(test_labels)"
   ]
  },
  {
   "cell_type": "code",
   "execution_count": 37,
   "metadata": {},
   "outputs": [
    {
     "data": {
      "text/plain": [
       "((4952,), (876,))"
      ]
     },
     "execution_count": 37,
     "metadata": {},
     "output_type": "execute_result"
    }
   ],
   "source": [
    "train_labels.shape, test_labels.shape"
   ]
  },
  {
   "cell_type": "code",
   "execution_count": 38,
   "metadata": {},
   "outputs": [
    {
     "data": {
      "text/plain": [
       "(array([ 9,  9, 11,  2,  2,  9,  1,  9,  9, 13]),\n",
       " array([9, 2, 9, 9, 9, 9, 9, 9, 9, 9]))"
      ]
     },
     "execution_count": 38,
     "metadata": {},
     "output_type": "execute_result"
    }
   ],
   "source": [
    "train_labels[:10], test_labels[:10]"
   ]
  },
  {
   "cell_type": "code",
   "execution_count": 39,
   "metadata": {},
   "outputs": [
    {
     "data": {
      "text/plain": [
       "[[18, 70, 1, 38, 2, 9, 67, 402, 86, 16, 79, 15, 12, 67, 530, 15, 4, 35],\n",
       " [6, 3, 26, 58, 2, 19, 1, 22, 5, 77, 35],\n",
       " [6, 20, 4, 403, 180, 15, 11, 14, 37, 4, 531, 86, 8, 33, 32],\n",
       " [52, 274, 2, 181, 1, 119],\n",
       " [55, 49, 71, 2, 19, 1, 24, 319, 227, 169],\n",
       " [18, 54, 13, 8, 134, 2, 213, 1, 170],\n",
       " [6, 219, 29, 135, 20, 208, 5, 13, 8, 2, 136, 1, 21],\n",
       " [10, 7, 4, 3, 2, 19, 1, 138, 139, 5, 77],\n",
       " [23, 3, 2, 9, 1, 32],\n",
       " [6, 219, 29, 46, 51, 20, 58, 15, 12]]"
      ]
     },
     "execution_count": 39,
     "metadata": {},
     "output_type": "execute_result"
    }
   ],
   "source": [
    "train_sequences[:10]"
   ]
  },
  {
   "cell_type": "code",
   "execution_count": 40,
   "metadata": {},
   "outputs": [],
   "source": [
    "train_valid_data = pad_sequences(train_sequences, maxlen=MAX_SEQUENCE_LENGTH)\n",
    "test_data = pad_sequences(test_sequences, maxlen=MAX_SEQUENCE_LENGTH)"
   ]
  },
  {
   "cell_type": "code",
   "execution_count": 41,
   "metadata": {},
   "outputs": [
    {
     "data": {
      "text/plain": [
       "array([[0., 1., 0., 0.],\n",
       "       [0., 0., 1., 0.],\n",
       "       [0., 0., 0., 1.]])"
      ]
     },
     "execution_count": 41,
     "metadata": {},
     "output_type": "execute_result"
    }
   ],
   "source": [
    "to_categorical([1,2,3])"
   ]
  },
  {
   "cell_type": "code",
   "execution_count": 42,
   "metadata": {},
   "outputs": [
    {
     "data": {
      "text/plain": [
       "array([[0., 0., 0., 0., 0., 0., 0., 0., 0., 1., 0., 0., 0., 0., 0., 0.,\n",
       "        0.],\n",
       "       [0., 0., 0., 0., 0., 0., 0., 0., 0., 1., 0., 0., 0., 0., 0., 0.,\n",
       "        0.],\n",
       "       [0., 0., 0., 0., 0., 0., 0., 0., 0., 0., 0., 1., 0., 0., 0., 0.,\n",
       "        0.],\n",
       "       [0., 0., 1., 0., 0., 0., 0., 0., 0., 0., 0., 0., 0., 0., 0., 0.,\n",
       "        0.],\n",
       "       [0., 0., 1., 0., 0., 0., 0., 0., 0., 0., 0., 0., 0., 0., 0., 0.,\n",
       "        0.],\n",
       "       [0., 0., 0., 0., 0., 0., 0., 0., 0., 1., 0., 0., 0., 0., 0., 0.,\n",
       "        0.],\n",
       "       [0., 1., 0., 0., 0., 0., 0., 0., 0., 0., 0., 0., 0., 0., 0., 0.,\n",
       "        0.],\n",
       "       [0., 0., 0., 0., 0., 0., 0., 0., 0., 1., 0., 0., 0., 0., 0., 0.,\n",
       "        0.],\n",
       "       [0., 0., 0., 0., 0., 0., 0., 0., 0., 1., 0., 0., 0., 0., 0., 0.,\n",
       "        0.],\n",
       "       [0., 0., 0., 0., 0., 0., 0., 0., 0., 0., 0., 0., 0., 1., 0., 0.,\n",
       "        0.]])"
      ]
     },
     "execution_count": 42,
     "metadata": {},
     "output_type": "execute_result"
    }
   ],
   "source": [
    "train_valid_labels = to_categorical(train_labels)\n",
    "\n",
    "train_valid_labels[:10]"
   ]
  },
  {
   "cell_type": "code",
   "execution_count": 43,
   "metadata": {},
   "outputs": [
    {
     "data": {
      "text/plain": [
       "array([[  0,   0,   0, ...,  15,   4,  35],\n",
       "       [  0,   0,   0, ...,   5,  77,  35],\n",
       "       [  0,   0,   0, ...,   8,  33,  32],\n",
       "       ...,\n",
       "       [  0,   0,   0, ..., 139,   5,  77],\n",
       "       [  0,   0,   0, ...,   9,   1,  32],\n",
       "       [  0,   0,   0, ...,  58,  15,  12]])"
      ]
     },
     "execution_count": 43,
     "metadata": {},
     "output_type": "execute_result"
    }
   ],
   "source": [
    "train_valid_data[:10]"
   ]
  },
  {
   "cell_type": "code",
   "execution_count": 44,
   "metadata": {},
   "outputs": [
    {
     "data": {
      "text/plain": [
       "(876, 17)"
      ]
     },
     "execution_count": 44,
     "metadata": {},
     "output_type": "execute_result"
    }
   ],
   "source": [
    "test_labels = to_categorical(np.asarray(test_labels), num_classes=train_valid_labels.shape[1])\n",
    "\n",
    "test_labels.shape"
   ]
  },
  {
   "cell_type": "code",
   "execution_count": 45,
   "metadata": {},
   "outputs": [
    {
     "name": "stdout",
     "output_type": "stream",
     "text": [
      "Training data: (4952, 300)\n"
     ]
    }
   ],
   "source": [
    "print(f\"Training data: {train_valid_data.shape}\")"
   ]
  },
  {
   "cell_type": "code",
   "execution_count": 46,
   "metadata": {},
   "outputs": [
    {
     "name": "stdout",
     "output_type": "stream",
     "text": [
      "Testing data shape: (876, 300)\n"
     ]
    }
   ],
   "source": [
    "print(f\"Testing data shape: {test_data.shape}\")"
   ]
  },
  {
   "cell_type": "code",
   "execution_count": 47,
   "metadata": {},
   "outputs": [
    {
     "name": "stdout",
     "output_type": "stream",
     "text": [
      "Train labels: (4952, 17)\n"
     ]
    }
   ],
   "source": [
    "print(f\"Train labels: {train_valid_labels.shape}\")"
   ]
  },
  {
   "cell_type": "code",
   "execution_count": 48,
   "metadata": {},
   "outputs": [
    {
     "name": "stdout",
     "output_type": "stream",
     "text": [
      "Test labels: (876, 17)\n"
     ]
    }
   ],
   "source": [
    "print(f\"Test labels: {test_labels.shape}\")"
   ]
  },
  {
   "cell_type": "code",
   "execution_count": 49,
   "metadata": {},
   "outputs": [],
   "source": [
    "# splitting the data\n",
    "\n",
    "indices = np.arange(train_valid_data.shape[0])\n",
    "np.random.shuffle(indices)\n",
    "\n",
    "train_valid_data_shuffled = train_valid_data[indices]\n",
    "train_valid_labels_shuffled = train_valid_labels[indices]\n",
    "\n",
    "num_validation_samples = int(VALIDATION_SPLIT * train_valid_data.shape[0])\n",
    "\n",
    "x_train = train_valid_data_shuffled[:-num_validation_samples]\n",
    "y_train = train_valid_labels_shuffled[:-num_validation_samples]\n",
    "\n",
    "x_val = train_valid_data_shuffled[-num_validation_samples:]\n",
    "y_val = train_valid_labels_shuffled[-num_validation_samples:]"
   ]
  },
  {
   "cell_type": "code",
   "execution_count": 50,
   "metadata": {},
   "outputs": [
    {
     "data": {
      "text/plain": [
       "([1, 2, 3, 4, 5, 6, 7, 8], [9, 10, 11])"
      ]
     },
     "execution_count": 50,
     "metadata": {},
     "output_type": "execute_result"
    }
   ],
   "source": [
    "array = [1,2,3,4,5,6,7,8,9,10,11]\n",
    "v = 3\n",
    "x = array[:-v]\n",
    "y = array[-v:]\n",
    "\n",
    "x, y"
   ]
  },
  {
   "cell_type": "code",
   "execution_count": 51,
   "metadata": {},
   "outputs": [
    {
     "name": "stdout",
     "output_type": "stream",
     "text": [
      "Number of words: 898 and max : 20000\n"
     ]
    }
   ],
   "source": [
    "# modeling\n",
    "\n",
    "num_words = len(word_index) + 1\n",
    "\n",
    "print(f\"Number of words: {num_words} and max : {MAX_NUM_WORDS}\")"
   ]
  },
  {
   "cell_type": "markdown",
   "metadata": {},
   "source": [
    "## Embedding"
   ]
  },
  {
   "cell_type": "code",
   "execution_count": 52,
   "metadata": {},
   "outputs": [
    {
     "data": {
      "text/plain": [
       "{'name': 'embedding',\n",
       " 'trainable': True,\n",
       " 'dtype': 'float32',\n",
       " 'input_dim': 898,\n",
       " 'output_dim': 100,\n",
       " 'embeddings_initializer': {'module': 'keras.initializers',\n",
       "  'class_name': 'RandomUniform',\n",
       "  'config': {'minval': -0.05, 'maxval': 0.05, 'seed': None},\n",
       "  'registered_name': None},\n",
       " 'embeddings_regularizer': None,\n",
       " 'activity_regularizer': None,\n",
       " 'embeddings_constraint': None,\n",
       " 'mask_zero': False}"
      ]
     },
     "execution_count": 52,
     "metadata": {},
     "output_type": "execute_result"
    }
   ],
   "source": [
    "embedding_layer = Embedding(\n",
    "    num_words,\n",
    "    EMBEDDING_DIM\n",
    ")\n",
    "\n",
    "# input dim : 898 one hot encoded\n",
    "# output dim: 100 dim embedding\n",
    "# input length: 300 words input sequence\n",
    "\n",
    "embedding_layer.get_config()"
   ]
  },
  {
   "cell_type": "markdown",
   "metadata": {},
   "source": [
    "### MODEL1: CNN"
   ]
  },
  {
   "cell_type": "code",
   "execution_count": 53,
   "metadata": {},
   "outputs": [],
   "source": [
    "cnn_model = Sequential()\n",
    "\n",
    "cnn_model.add(embedding_layer)\n",
    "cnn_model.add(Conv1D(128, 5, activation=\"relu\"))\n",
    "cnn_model.add(MaxPooling1D(5))\n",
    "cnn_model.add(Conv1D(128, 5, activation=\"relu\"))\n",
    "cnn_model.add(MaxPooling1D(5))\n",
    "cnn_model.add(Conv1D(128, 5, activation=\"relu\"))\n",
    "cnn_model.add(GlobalMaxPooling1D())\n",
    "cnn_model.add(Dense(128, activation=\"relu\"))\n",
    "cnn_model.add(Dense(len(set(train_labels)), activation=\"softmax\"))"
   ]
  },
  {
   "cell_type": "code",
   "execution_count": 54,
   "metadata": {},
   "outputs": [],
   "source": [
    "cnn_model.compile(\n",
    "    loss=\"categorical_crossentropy\",\n",
    "    optimizer=\"rmsprop\",\n",
    "    metrics=[\"accuracy\"]\n",
    ")"
   ]
  },
  {
   "cell_type": "code",
   "execution_count": 55,
   "metadata": {},
   "outputs": [
    {
     "name": "stdout",
     "output_type": "stream",
     "text": [
      "Epoch 1/20\n",
      "\u001b[1m28/28\u001b[0m \u001b[32m━━━━━━━━━━━━━━━━━━━━\u001b[0m\u001b[37m\u001b[0m \u001b[1m4s\u001b[0m 79ms/step - accuracy: 0.6355 - loss: 1.8495 - val_accuracy: 0.7441 - val_loss: 1.1567\n",
      "Epoch 2/20\n",
      "\u001b[1m28/28\u001b[0m \u001b[32m━━━━━━━━━━━━━━━━━━━━\u001b[0m\u001b[37m\u001b[0m \u001b[1m2s\u001b[0m 75ms/step - accuracy: 0.7398 - loss: 1.1694 - val_accuracy: 0.7441 - val_loss: 1.1094\n",
      "Epoch 3/20\n",
      "\u001b[1m28/28\u001b[0m \u001b[32m━━━━━━━━━━━━━━━━━━━━\u001b[0m\u001b[37m\u001b[0m \u001b[1m2s\u001b[0m 73ms/step - accuracy: 0.7334 - loss: 1.0821 - val_accuracy: 0.7441 - val_loss: 0.9893\n",
      "Epoch 4/20\n",
      "\u001b[1m28/28\u001b[0m \u001b[32m━━━━━━━━━━━━━━━━━━━━\u001b[0m\u001b[37m\u001b[0m \u001b[1m2s\u001b[0m 71ms/step - accuracy: 0.7554 - loss: 0.8636 - val_accuracy: 0.7212 - val_loss: 1.0965\n",
      "Epoch 5/20\n",
      "\u001b[1m28/28\u001b[0m \u001b[32m━━━━━━━━━━━━━━━━━━━━\u001b[0m\u001b[37m\u001b[0m \u001b[1m2s\u001b[0m 69ms/step - accuracy: 0.7718 - loss: 0.8043 - val_accuracy: 0.7872 - val_loss: 0.6967\n",
      "Epoch 6/20\n",
      "\u001b[1m28/28\u001b[0m \u001b[32m━━━━━━━━━━━━━━━━━━━━\u001b[0m\u001b[37m\u001b[0m \u001b[1m2s\u001b[0m 69ms/step - accuracy: 0.8068 - loss: 0.6710 - val_accuracy: 0.7960 - val_loss: 0.6937\n",
      "Epoch 7/20\n",
      "\u001b[1m28/28\u001b[0m \u001b[32m━━━━━━━━━━━━━━━━━━━━\u001b[0m\u001b[37m\u001b[0m \u001b[1m2s\u001b[0m 69ms/step - accuracy: 0.8255 - loss: 0.6116 - val_accuracy: 0.3845 - val_loss: 1.5508\n",
      "Epoch 8/20\n",
      "\u001b[1m28/28\u001b[0m \u001b[32m━━━━━━━━━━━━━━━━━━━━\u001b[0m\u001b[37m\u001b[0m \u001b[1m2s\u001b[0m 70ms/step - accuracy: 0.7997 - loss: 0.6416 - val_accuracy: 0.8774 - val_loss: 0.4855\n",
      "Epoch 9/20\n",
      "\u001b[1m28/28\u001b[0m \u001b[32m━━━━━━━━━━━━━━━━━━━━\u001b[0m\u001b[37m\u001b[0m \u001b[1m2s\u001b[0m 70ms/step - accuracy: 0.8890 - loss: 0.4166 - val_accuracy: 0.8862 - val_loss: 0.4217\n",
      "Epoch 10/20\n",
      "\u001b[1m28/28\u001b[0m \u001b[32m━━━━━━━━━━━━━━━━━━━━\u001b[0m\u001b[37m\u001b[0m \u001b[1m2s\u001b[0m 71ms/step - accuracy: 0.8955 - loss: 0.3636 - val_accuracy: 0.8283 - val_loss: 0.6007\n",
      "Epoch 11/20\n",
      "\u001b[1m28/28\u001b[0m \u001b[32m━━━━━━━━━━━━━━━━━━━━\u001b[0m\u001b[37m\u001b[0m \u001b[1m2s\u001b[0m 71ms/step - accuracy: 0.8872 - loss: 0.3754 - val_accuracy: 0.9057 - val_loss: 0.3831\n",
      "Epoch 12/20\n",
      "\u001b[1m28/28\u001b[0m \u001b[32m━━━━━━━━━━━━━━━━━━━━\u001b[0m\u001b[37m\u001b[0m \u001b[1m2s\u001b[0m 74ms/step - accuracy: 0.9130 - loss: 0.2925 - val_accuracy: 0.8923 - val_loss: 0.5471\n",
      "Epoch 13/20\n",
      "\u001b[1m28/28\u001b[0m \u001b[32m━━━━━━━━━━━━━━━━━━━━\u001b[0m\u001b[37m\u001b[0m \u001b[1m2s\u001b[0m 75ms/step - accuracy: 0.9194 - loss: 0.2743 - val_accuracy: 0.9131 - val_loss: 0.3305\n",
      "Epoch 14/20\n",
      "\u001b[1m28/28\u001b[0m \u001b[32m━━━━━━━━━━━━━━━━━━━━\u001b[0m\u001b[37m\u001b[0m \u001b[1m2s\u001b[0m 73ms/step - accuracy: 0.9267 - loss: 0.2385 - val_accuracy: 0.9091 - val_loss: 0.3541\n",
      "Epoch 15/20\n",
      "\u001b[1m28/28\u001b[0m \u001b[32m━━━━━━━━━━━━━━━━━━━━\u001b[0m\u001b[37m\u001b[0m \u001b[1m2s\u001b[0m 72ms/step - accuracy: 0.9381 - loss: 0.2188 - val_accuracy: 0.8963 - val_loss: 0.5134\n",
      "Epoch 16/20\n",
      "\u001b[1m28/28\u001b[0m \u001b[32m━━━━━━━━━━━━━━━━━━━━\u001b[0m\u001b[37m\u001b[0m \u001b[1m2s\u001b[0m 74ms/step - accuracy: 0.9391 - loss: 0.2128 - val_accuracy: 0.8929 - val_loss: 0.4199\n",
      "Epoch 17/20\n",
      "\u001b[1m28/28\u001b[0m \u001b[32m━━━━━━━━━━━━━━━━━━━━\u001b[0m\u001b[37m\u001b[0m \u001b[1m2s\u001b[0m 75ms/step - accuracy: 0.9462 - loss: 0.1874 - val_accuracy: 0.9239 - val_loss: 0.3565\n",
      "Epoch 18/20\n",
      "\u001b[1m28/28\u001b[0m \u001b[32m━━━━━━━━━━━━━━━━━━━━\u001b[0m\u001b[37m\u001b[0m \u001b[1m2s\u001b[0m 74ms/step - accuracy: 0.9428 - loss: 0.1794 - val_accuracy: 0.9347 - val_loss: 0.2959\n",
      "Epoch 19/20\n",
      "\u001b[1m28/28\u001b[0m \u001b[32m━━━━━━━━━━━━━━━━━━━━\u001b[0m\u001b[37m\u001b[0m \u001b[1m2s\u001b[0m 74ms/step - accuracy: 0.9582 - loss: 0.1505 - val_accuracy: 0.9246 - val_loss: 0.3205\n",
      "Epoch 20/20\n",
      "\u001b[1m28/28\u001b[0m \u001b[32m━━━━━━━━━━━━━━━━━━━━\u001b[0m\u001b[37m\u001b[0m \u001b[1m2s\u001b[0m 74ms/step - accuracy: 0.9661 - loss: 0.1199 - val_accuracy: 0.7684 - val_loss: 0.8251\n"
     ]
    }
   ],
   "source": [
    "model_1_history = cnn_model.fit(\n",
    "    x_train,\n",
    "    y_train,\n",
    "    batch_size=128,\n",
    "    epochs=20,\n",
    "    validation_data=(x_val, y_val)\n",
    ")"
   ]
  },
  {
   "cell_type": "code",
   "execution_count": 56,
   "metadata": {},
   "outputs": [
    {
     "name": "stdout",
     "output_type": "stream",
     "text": [
      "\u001b[1m28/28\u001b[0m \u001b[32m━━━━━━━━━━━━━━━━━━━━\u001b[0m\u001b[37m\u001b[0m \u001b[1m0s\u001b[0m 6ms/step - accuracy: 0.7535 - loss: 0.8265\n",
      "Test score: 0.9316849112510681\n",
      "Accuracy: 0.7397260069847107\n"
     ]
    }
   ],
   "source": [
    "score, acc = cnn_model.evaluate(test_data, test_labels)\n",
    "\n",
    "print(f\"Test score: {score}\")\n",
    "print(f\"Accuracy: {acc}\")"
   ]
  },
  {
   "cell_type": "code",
   "execution_count": 57,
   "metadata": {},
   "outputs": [
    {
     "data": {
      "text/plain": [
       "[<matplotlib.lines.Line2D at 0x24c2aa391c0>]"
      ]
     },
     "execution_count": 57,
     "metadata": {},
     "output_type": "execute_result"
    },
    {
     "data": {
      "image/png": "[encoded data removed]",
      "text/plain": [
       "<Figure size 640x480 with 1 Axes>"
      ]
     },
     "metadata": {},
     "output_type": "display_data"
    }
   ],
   "source": [
    "import matplotlib.pyplot as plt\n",
    "\n",
    "plt.plot(model_1_history.history[\"accuracy\"], label=\"train accuracy\")\n"
   ]
  },
  {
   "cell_type": "code",
   "execution_count": 61,
   "metadata": {},
   "outputs": [
    {
     "data": {
      "text/plain": [
       "(300,)"
      ]
     },
     "execution_count": 61,
     "metadata": {},
     "output_type": "execute_result"
    }
   ],
   "source": [
    "test_data[0].shape"
   ]
  },
  {
   "cell_type": "code",
   "execution_count": 66,
   "metadata": {},
   "outputs": [],
   "source": [
    "reshaped = test_data[0].reshape(1, 300)"
   ]
  },
  {
   "cell_type": "code",
   "execution_count": 68,
   "metadata": {},
   "outputs": [
    {
     "data": {
      "text/plain": [
       "(1, 300)"
      ]
     },
     "execution_count": 68,
     "metadata": {},
     "output_type": "execute_result"
    }
   ],
   "source": [
    "reshaped.shape"
   ]
  },
  {
   "cell_type": "code",
   "execution_count": 69,
   "metadata": {},
   "outputs": [
    {
     "name": "stdout",
     "output_type": "stream",
     "text": [
      "\u001b[1m1/1\u001b[0m \u001b[32m━━━━━━━━━━━━━━━━━━━━\u001b[0m\u001b[37m\u001b[0m \u001b[1m0s\u001b[0m 17ms/step\n"
     ]
    }
   ],
   "source": [
    "logits = cnn_model.predict(reshaped)"
   ]
  },
  {
   "cell_type": "code",
   "execution_count": 70,
   "metadata": {},
   "outputs": [
    {
     "data": {
      "text/plain": [
       "(1, 17)"
      ]
     },
     "execution_count": 70,
     "metadata": {},
     "output_type": "execute_result"
    }
   ],
   "source": [
    "logits.shape"
   ]
  },
  {
   "cell_type": "code",
   "execution_count": 81,
   "metadata": {},
   "outputs": [
    {
     "data": {
      "text/plain": [
       "array([3, 0], dtype=int64)"
      ]
     },
     "execution_count": 81,
     "metadata": {},
     "output_type": "execute_result"
    }
   ],
   "source": [
    "logits_sample = [[0, 1, 2, 3, 2, 1, 0], [9, 8, 1, 2, 8, 9, 0]]\n",
    "logits_sample = np.asarray(logits_sample)\n",
    "\n",
    "logits_sample.argmax(axis=-1)"
   ]
  },
  {
   "cell_type": "code",
   "execution_count": 86,
   "metadata": {},
   "outputs": [
    {
     "data": {
      "text/plain": [
       "array([0, 1, 1], dtype=int64)"
      ]
     },
     "execution_count": 86,
     "metadata": {},
     "output_type": "execute_result"
    }
   ],
   "source": [
    "np.argmax([[9,2,3],[4,5,6]], axis=0)"
   ]
  },
  {
   "cell_type": "code",
   "execution_count": 92,
   "metadata": {},
   "outputs": [
    {
     "data": {
      "text/plain": [
       "array([0, 2], dtype=int64)"
      ]
     },
     "execution_count": 92,
     "metadata": {},
     "output_type": "execute_result"
    }
   ],
   "source": [
    "np.argmax([[9,2,3],[4,5,6]], axis=1)"
   ]
  },
  {
   "cell_type": "code",
   "execution_count": 71,
   "metadata": {},
   "outputs": [
    {
     "data": {
      "text/plain": [
       "array([9], dtype=int64)"
      ]
     },
     "execution_count": 71,
     "metadata": {},
     "output_type": "execute_result"
    }
   ],
   "source": [
    "logits.argmax(axis=1)"
   ]
  },
  {
   "cell_type": "code",
   "execution_count": 93,
   "metadata": {},
   "outputs": [
    {
     "data": {
      "text/plain": [
       "(1, 17)"
      ]
     },
     "execution_count": 93,
     "metadata": {},
     "output_type": "execute_result"
    }
   ],
   "source": [
    "logits.shape"
   ]
  },
  {
   "cell_type": "code",
   "execution_count": 94,
   "metadata": {},
   "outputs": [],
   "source": [
    "pred_label = logits.argmax(axis=1)"
   ]
  },
  {
   "cell_type": "code",
   "execution_count": 100,
   "metadata": {},
   "outputs": [],
   "source": [
    "true_label = test_labels[0].argmax()"
   ]
  },
  {
   "cell_type": "code",
   "execution_count": 103,
   "metadata": {},
   "outputs": [
    {
     "data": {
      "text/plain": [
       "(9, 9)"
      ]
     },
     "execution_count": 103,
     "metadata": {},
     "output_type": "execute_result"
    }
   ],
   "source": [
    "pred_label.tolist()[0], true_label"
   ]
  },
  {
   "cell_type": "code",
   "execution_count": 105,
   "metadata": {},
   "outputs": [],
   "source": [
    "classes = label_encoder.classes_"
   ]
  },
  {
   "cell_type": "code",
   "execution_count": 107,
   "metadata": {},
   "outputs": [
    {
     "name": "stdout",
     "output_type": "stream",
     "text": [
      "i would like to find a flight from charlotte to las vegas that makes a stop in st. louis: atis_flight\n"
     ]
    }
   ],
   "source": [
    "print(f\"{test_texts[0]}: {classes[pred_label.tolist()[0]]}\")"
   ]
  },
  {
   "cell_type": "code",
   "execution_count": 111,
   "metadata": {},
   "outputs": [],
   "source": [
    "def predict_intent(text):\n",
    "    seq = tokenizer.texts_to_sequences([text])\n",
    "    padded = pad_sequences(seq, maxlen=MAX_SEQUENCE_LENGTH)\n",
    "    tensor = np.asarray(padded).reshape(1, 300)\n",
    "    logits = cnn_model.predict(tensor)\n",
    "    pred_label = logits.argmax(axis=-1)\n",
    "    pred_class = classes[pred_label.tolist()[0]]\n",
    "    \n",
    "    print(f\"{text}:\\n => {pred_class}\")"
   ]
  },
  {
   "cell_type": "code",
   "execution_count": 112,
   "metadata": {},
   "outputs": [
    {
     "name": "stdout",
     "output_type": "stream",
     "text": [
      "\u001b[1m1/1\u001b[0m \u001b[32m━━━━━━━━━━━━━━━━━━━━\u001b[0m\u001b[37m\u001b[0m \u001b[1m0s\u001b[0m 20ms/step\n",
      "I want to fly from Boston to San Francisco:\n",
      " => atis_flight\n"
     ]
    }
   ],
   "source": [
    "predict_intent(\"I want to fly from Boston to San Francisco\")"
   ]
  },
  {
   "cell_type": "code",
   "execution_count": 113,
   "metadata": {},
   "outputs": [
    {
     "name": "stdout",
     "output_type": "stream",
     "text": [
      "\u001b[1m1/1\u001b[0m \u001b[32m━━━━━━━━━━━━━━━━━━━━\u001b[0m\u001b[37m\u001b[0m \u001b[1m0s\u001b[0m 20ms/step\n",
      "What is the ticket price from New York to Antartica:\n",
      " => atis_airfare\n"
     ]
    }
   ],
   "source": [
    "predict_intent(\"What is the ticket price from New York to Antartica\")"
   ]
  },
  {
   "cell_type": "code",
   "execution_count": 121,
   "metadata": {},
   "outputs": [
    {
     "name": "stdout",
     "output_type": "stream",
     "text": [
      "\u001b[1m1/1\u001b[0m \u001b[32m━━━━━━━━━━━━━━━━━━━━\u001b[0m\u001b[37m\u001b[0m \u001b[1m0s\u001b[0m 20ms/step\n",
      "service available from new york to boston:\n",
      " => atis_airline\n"
     ]
    }
   ],
   "source": [
    "predict_intent(\"service available from new york to boston\")"
   ]
  },
  {
   "cell_type": "code",
   "execution_count": 131,
   "metadata": {},
   "outputs": [
    {
     "name": "stdout",
     "output_type": "stream",
     "text": [
      "\u001b[1m1/1\u001b[0m \u001b[32m━━━━━━━━━━━━━━━━━━━━\u001b[0m\u001b[37m\u001b[0m \u001b[1m0s\u001b[0m 21ms/step\n",
      "services available:\n",
      " => atis_abbreviation\n"
     ]
    }
   ],
   "source": [
    "predict_intent(\"services available\")"
   ]
  },
  {
   "cell_type": "code",
   "execution_count": 134,
   "metadata": {},
   "outputs": [
    {
     "name": "stdout",
     "output_type": "stream",
     "text": [
      "\u001b[1m1/1\u001b[0m \u001b[32m━━━━━━━━━━━━━━━━━━━━\u001b[0m\u001b[37m\u001b[0m \u001b[1m0s\u001b[0m 19ms/step\n",
      "cheapest airfare:\n",
      " => atis_abbreviation\n"
     ]
    }
   ],
   "source": [
    "predict_intent(\"cheapest airfare\")"
   ]
  }
 ],
 "metadata": {
  "kernelspec": {
   "display_name": "Python 3",
   "language": "python",
   "name": "python3"
  },
  "language_info": {
   "codemirror_mode": {
    "name": "ipython",
    "version": 3
   },
   "file_extension": ".py",
   "mimetype": "text/x-python",
   "name": "python",
   "nbconvert_exporter": "python",
   "pygments_lexer": "ipython3",
   "version": "3.12.1"
  }
 },
 "nbformat": 4,
 "nbformat_minor": 2
}
