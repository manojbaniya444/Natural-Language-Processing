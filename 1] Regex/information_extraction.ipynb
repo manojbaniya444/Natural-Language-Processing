{
 "cells": [
  {
   "cell_type": "markdown",
   "metadata": {},
   "source": [
    "# Information Extraction\n",
    "\n",
    "This totally depends on what kinds of data we are working on and what kind of patterns we get."
   ]
  },
  {
   "cell_type": "code",
   "execution_count": 1,
   "metadata": {},
   "outputs": [],
   "source": [
    "import re"
   ]
  },
  {
   "cell_type": "code",
   "execution_count": 2,
   "metadata": {},
   "outputs": [
    {
     "name": "stdout",
     "output_type": "stream",
     "text": [
      "['20']\n"
     ]
    }
   ],
   "source": [
    "age = \"hi my age is (age 20)\"\n",
    "\n",
    "pattern = r\"age (\\d+)\"\n",
    "\n",
    "matches = re.findall(pattern, age)\n",
    "print(matches)"
   ]
  },
  {
   "cell_type": "code",
   "execution_count": 3,
   "metadata": {},
   "outputs": [
    {
     "name": "stdout",
     "output_type": "stream",
     "text": [
      "[' Manoj Kumar Baniya']\n"
     ]
    }
   ],
   "source": [
    "name = \"Name Manoj Kumar Baniya\"\n",
    "\n",
    "pattern = r\"Name(.*)\"\n",
    "\n",
    "# Explanation\n",
    "# . - Any character except newline\n",
    "# * - 0 or more occurences\n",
    "# .* - 0 or more occurences of any character except newline\n",
    "\n",
    "matches = re.findall(pattern, name)\n",
    "print(matches)"
   ]
  },
  {
   "cell_type": "code",
   "execution_count": 4,
   "metadata": {},
   "outputs": [
    {
     "name": "stdout",
     "output_type": "stream",
     "text": [
      "['Born John Christopher Depp II\\nMay 1 1998 (age 26)']\n"
     ]
    }
   ],
   "source": [
    "text = \"\"\"Born John Christopher Depp II\n",
    "May 1 1998 (age 26)\"\"\"\n",
    "\n",
    "pattern1 = r\"Born.*\\n.*\"\n",
    "\n",
    "match1 = re.findall(pattern1, text)\n",
    "\n",
    "print(match1)\n"
   ]
  },
  {
   "cell_type": "code",
   "execution_count": 6,
   "metadata": {},
   "outputs": [
    {
     "name": "stdout",
     "output_type": "stream",
     "text": [
      "['May 1 1998 (age 26)']\n"
     ]
    }
   ],
   "source": [
    "pattern2 = r\"Born.*\\n(.*)\" # grouping all after new line\n",
    "\n",
    "match2 = re.findall(pattern2, text)\n",
    "print(match2)"
   ]
  },
  {
   "cell_type": "code",
   "execution_count": 8,
   "metadata": {},
   "outputs": [
    {
     "name": "stdout",
     "output_type": "stream",
     "text": [
      "['May 1 1998 ']\n"
     ]
    }
   ],
   "source": [
    "pattern3 = r\"Born.*\\n(.*)\\(age\"\n",
    "\n",
    "# Explanation\n",
    "# \\(age - escape character for ( so that it is not treated as group\n",
    "\n",
    "match3 = re.findall(pattern3, text)\n",
    "print(match3)"
   ]
  }
 ],
 "metadata": {
  "kernelspec": {
   "display_name": "Python 3",
   "language": "python",
   "name": "python3"
  },
  "language_info": {
   "codemirror_mode": {
    "name": "ipython",
    "version": 3
   },
   "file_extension": ".py",
   "mimetype": "text/x-python",
   "name": "python",
   "nbconvert_exporter": "python",
   "pygments_lexer": "ipython3",
   "version": "3.12.1"
  }
 },
 "nbformat": 4,
 "nbformat_minor": 2
}
