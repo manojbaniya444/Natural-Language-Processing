{
 "cells": [
  {
   "cell_type": "code",
   "execution_count": 1,
   "metadata": {},
   "outputs": [],
   "source": [
    "import pandas as pd"
   ]
  },
  {
   "cell_type": "code",
   "execution_count": 2,
   "metadata": {},
   "outputs": [],
   "source": [
    "df = pd.read_csv(\"./classification.csv\")"
   ]
  },
  {
   "cell_type": "code",
   "execution_count": 3,
   "metadata": {},
   "outputs": [
    {
     "data": {
      "text/html": [
       "<div>\n",
       "<style scoped>\n",
       "    .dataframe tbody tr th:only-of-type {\n",
       "        vertical-align: middle;\n",
       "    }\n",
       "\n",
       "    .dataframe tbody tr th {\n",
       "        vertical-align: top;\n",
       "    }\n",
       "\n",
       "    .dataframe thead th {\n",
       "        text-align: right;\n",
       "    }\n",
       "</style>\n",
       "<table border=\"1\" class=\"dataframe\">\n",
       "  <thead>\n",
       "    <tr style=\"text-align: right;\">\n",
       "      <th></th>\n",
       "      <th>id</th>\n",
       "      <th>question</th>\n",
       "      <th>answer</th>\n",
       "      <th>intent</th>\n",
       "    </tr>\n",
       "  </thead>\n",
       "  <tbody>\n",
       "    <tr>\n",
       "      <th>0</th>\n",
       "      <td>1</td>\n",
       "      <td>order kasari garne?</td>\n",
       "      <td>kunei product lai add to cart garera checkout ...</td>\n",
       "      <td>order</td>\n",
       "    </tr>\n",
       "    <tr>\n",
       "      <th>1</th>\n",
       "      <td>2</td>\n",
       "      <td>product order process kasto cha?</td>\n",
       "      <td>product page maa gayera 'Add to Cart' button m...</td>\n",
       "      <td>order</td>\n",
       "    </tr>\n",
       "    <tr>\n",
       "      <th>2</th>\n",
       "      <td>3</td>\n",
       "      <td>online order kasari thapne?</td>\n",
       "      <td>account maa login garera chahine product selec...</td>\n",
       "      <td>order</td>\n",
       "    </tr>\n",
       "    <tr>\n",
       "      <th>3</th>\n",
       "      <td>4</td>\n",
       "      <td>product kasari kinne?</td>\n",
       "      <td>product select garera add to cart maa rakhne, ...</td>\n",
       "      <td>order</td>\n",
       "    </tr>\n",
       "    <tr>\n",
       "      <th>4</th>\n",
       "      <td>5</td>\n",
       "      <td>kasari order garna milcha?</td>\n",
       "      <td>tapai le product select garera cart maa add ga...</td>\n",
       "      <td>order</td>\n",
       "    </tr>\n",
       "  </tbody>\n",
       "</table>\n",
       "</div>"
      ],
      "text/plain": [
       "   id                          question  \\\n",
       "0   1               order kasari garne?   \n",
       "1   2  product order process kasto cha?   \n",
       "2   3       online order kasari thapne?   \n",
       "3   4             product kasari kinne?   \n",
       "4   5        kasari order garna milcha?   \n",
       "\n",
       "                                              answer intent  \n",
       "0  kunei product lai add to cart garera checkout ...  order  \n",
       "1  product page maa gayera 'Add to Cart' button m...  order  \n",
       "2  account maa login garera chahine product selec...  order  \n",
       "3  product select garera add to cart maa rakhne, ...  order  \n",
       "4  tapai le product select garera cart maa add ga...  order  "
      ]
     },
     "execution_count": 3,
     "metadata": {},
     "output_type": "execute_result"
    }
   ],
   "source": [
    "df.head()"
   ]
  },
  {
   "cell_type": "code",
   "execution_count": 4,
   "metadata": {},
   "outputs": [
    {
     "data": {
      "text/html": [
       "<div>\n",
       "<style scoped>\n",
       "    .dataframe tbody tr th:only-of-type {\n",
       "        vertical-align: middle;\n",
       "    }\n",
       "\n",
       "    .dataframe tbody tr th {\n",
       "        vertical-align: top;\n",
       "    }\n",
       "\n",
       "    .dataframe thead th {\n",
       "        text-align: right;\n",
       "    }\n",
       "</style>\n",
       "<table border=\"1\" class=\"dataframe\">\n",
       "  <thead>\n",
       "    <tr style=\"text-align: right;\">\n",
       "      <th></th>\n",
       "      <th>id</th>\n",
       "      <th>question</th>\n",
       "      <th>answer</th>\n",
       "      <th>intent</th>\n",
       "    </tr>\n",
       "  </thead>\n",
       "  <tbody>\n",
       "    <tr>\n",
       "      <th>1144</th>\n",
       "      <td>145</td>\n",
       "      <td>Yo product ajhai pani available chha ki chhain...</td>\n",
       "      <td>Ho, yo product ajhai pani available chha.</td>\n",
       "      <td>inquiry</td>\n",
       "    </tr>\n",
       "    <tr>\n",
       "      <th>495</th>\n",
       "      <td>496</td>\n",
       "      <td>order ko lagi address kasari add garne?</td>\n",
       "      <td>order ko lagi address add garna checkout page ...</td>\n",
       "      <td>order</td>\n",
       "    </tr>\n",
       "    <tr>\n",
       "      <th>1186</th>\n",
       "      <td>187</td>\n",
       "      <td>Yo item ko stock ma ajhai chha bhane, kripaya ...</td>\n",
       "      <td>Ho, yo item stock ma ajhai chha.</td>\n",
       "      <td>inquiry</td>\n",
       "    </tr>\n",
       "    <tr>\n",
       "      <th>463</th>\n",
       "      <td>464</td>\n",
       "      <td>order garne process kasari cha?</td>\n",
       "      <td>order garne process ho product add to cart maa...</td>\n",
       "      <td>order</td>\n",
       "    </tr>\n",
       "    <tr>\n",
       "      <th>1289</th>\n",
       "      <td>290</td>\n",
       "      <td>Kripaya bhanidinuhos, yo item stock ajhai chha...</td>\n",
       "      <td>Sakchha! Yo item stock ma chha.</td>\n",
       "      <td>inquiry</td>\n",
       "    </tr>\n",
       "    <tr>\n",
       "      <th>1052</th>\n",
       "      <td>53</td>\n",
       "      <td>Yo product stock ma ajhai pani chha ki chhaina?</td>\n",
       "      <td>Ho, yo product stock ma ajhai pani chha.</td>\n",
       "      <td>inquiry</td>\n",
       "    </tr>\n",
       "    <tr>\n",
       "      <th>1390</th>\n",
       "      <td>391</td>\n",
       "      <td>Yo item ajhai stock ma chha ki chhaina?</td>\n",
       "      <td>Yo item ajhai stock ma chha.</td>\n",
       "      <td>inquiry</td>\n",
       "    </tr>\n",
       "    <tr>\n",
       "      <th>722</th>\n",
       "      <td>223</td>\n",
       "      <td>Namaste, sab thikai chha?</td>\n",
       "      <td>Namaste! Sab thikai chha, tapai lai kasari mad...</td>\n",
       "      <td>greetings</td>\n",
       "    </tr>\n",
       "    <tr>\n",
       "      <th>538</th>\n",
       "      <td>39</td>\n",
       "      <td>Tapai kasto chha aaj?</td>\n",
       "      <td>Ma thikai chhu, tapai lai ke chahincha?</td>\n",
       "      <td>greetings</td>\n",
       "    </tr>\n",
       "    <tr>\n",
       "      <th>1478</th>\n",
       "      <td>479</td>\n",
       "      <td>Yo product ajhai stock ma chha ki chhaina?</td>\n",
       "      <td>Yo product ajhai stock ma chha.</td>\n",
       "      <td>inquiry</td>\n",
       "    </tr>\n",
       "  </tbody>\n",
       "</table>\n",
       "</div>"
      ],
      "text/plain": [
       "       id                                           question  \\\n",
       "1144  145  Yo product ajhai pani available chha ki chhain...   \n",
       "495   496            order ko lagi address kasari add garne?   \n",
       "1186  187  Yo item ko stock ma ajhai chha bhane, kripaya ...   \n",
       "463   464                    order garne process kasari cha?   \n",
       "1289  290  Kripaya bhanidinuhos, yo item stock ajhai chha...   \n",
       "1052   53    Yo product stock ma ajhai pani chha ki chhaina?   \n",
       "1390  391            Yo item ajhai stock ma chha ki chhaina?   \n",
       "722   223                          Namaste, sab thikai chha?   \n",
       "538    39                              Tapai kasto chha aaj?   \n",
       "1478  479         Yo product ajhai stock ma chha ki chhaina?   \n",
       "\n",
       "                                                 answer     intent  \n",
       "1144          Ho, yo product ajhai pani available chha.    inquiry  \n",
       "495   order ko lagi address add garna checkout page ...      order  \n",
       "1186                   Ho, yo item stock ma ajhai chha.    inquiry  \n",
       "463   order garne process ho product add to cart maa...      order  \n",
       "1289                    Sakchha! Yo item stock ma chha.    inquiry  \n",
       "1052           Ho, yo product stock ma ajhai pani chha.    inquiry  \n",
       "1390                       Yo item ajhai stock ma chha.    inquiry  \n",
       "722   Namaste! Sab thikai chha, tapai lai kasari mad...  greetings  \n",
       "538             Ma thikai chhu, tapai lai ke chahincha?  greetings  \n",
       "1478                    Yo product ajhai stock ma chha.    inquiry  "
      ]
     },
     "execution_count": 4,
     "metadata": {},
     "output_type": "execute_result"
    }
   ],
   "source": [
    "df.sample(10)"
   ]
  },
  {
   "cell_type": "code",
   "execution_count": 5,
   "metadata": {},
   "outputs": [],
   "source": [
    "greetings_df = df[df[\"intent\"] == \"greetings\"]"
   ]
  },
  {
   "cell_type": "code",
   "execution_count": 6,
   "metadata": {},
   "outputs": [
    {
     "data": {
      "text/plain": [
       "500"
      ]
     },
     "execution_count": 6,
     "metadata": {},
     "output_type": "execute_result"
    }
   ],
   "source": [
    "len(greetings_df)"
   ]
  },
  {
   "cell_type": "code",
   "execution_count": 7,
   "metadata": {},
   "outputs": [],
   "source": [
    "with open(\"./greetings.txt\", \"w\", encoding=\"utf-8\") as f:\n",
    "    for i, row in greetings_df.iterrows():\n",
    "        f.write(row[\"answer\"]+ \"\\t\" + row[\"question\"] + \"\\n\")"
   ]
  },
  {
   "cell_type": "code",
   "execution_count": 8,
   "metadata": {},
   "outputs": [],
   "source": [
    "# save \n",
    "greetings_df.to_csv(\"greetings.csv\", index=False)"
   ]
  }
 ],
 "metadata": {
  "kernelspec": {
   "display_name": "Python 3",
   "language": "python",
   "name": "python3"
  },
  "language_info": {
   "codemirror_mode": {
    "name": "ipython",
    "version": 3
   },
   "file_extension": ".py",
   "mimetype": "text/x-python",
   "name": "python",
   "nbconvert_exporter": "python",
   "pygments_lexer": "ipython3",
   "version": "3.12.1"
  }
 },
 "nbformat": 4,
 "nbformat_minor": 2
}
