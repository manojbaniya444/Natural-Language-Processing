{
 "cells": [
  {
   "cell_type": "markdown",
   "metadata": {},
   "source": [
    "# Sequence to Sequence Chatbot"
   ]
  },
  {
   "cell_type": "code",
   "execution_count": 1,
   "metadata": {},
   "outputs": [],
   "source": [
    "from __future__ import unicode_literals, print_function, division\n",
    "from io import open\n",
    "import unicodedata\n",
    "import re\n",
    "import random\n",
    "\n",
    "import torch\n",
    "import torch.nn as nn\n",
    "from torch import optim\n",
    "import torch.nn.functional as F\n",
    "\n",
    "import numpy as np\n",
    "from torch.utils.data import TensorDataset, DataLoader, RandomSampler\n",
    "\n",
    "device = torch.device(\"cuda\" if torch.cuda.is_available() else \"cpu\")"
   ]
  },
  {
   "cell_type": "markdown",
   "metadata": {},
   "source": [
    "## Special Tokens"
   ]
  },
  {
   "cell_type": "code",
   "execution_count": 2,
   "metadata": {},
   "outputs": [],
   "source": [
    "SOS_token = 0\n",
    "EOS_token = 1\n",
    "UNK_TOKEN = 2"
   ]
  },
  {
   "cell_type": "markdown",
   "metadata": {},
   "source": [
    "## Tokenizer"
   ]
  },
  {
   "cell_type": "code",
   "execution_count": 3,
   "metadata": {},
   "outputs": [],
   "source": [
    "class QuestionAnswer:\n",
    "    def __init__(self, name):\n",
    "        self.name = name\n",
    "        self.word2index = {\"<SOS>\": 0, \"<EOS>\": 1, \"<UNK>\": 2}\n",
    "        self.word2count = {}\n",
    "        self.index2word = {0: \"<SOS>\", 1: \"<EOS>\", 2: \"<UNK>\"}\n",
    "        self.n_words = 3\n",
    "        \n",
    "    def addSentence(self, sentence):\n",
    "        for word in sentence.split():\n",
    "            self.addWord(word)\n",
    "            \n",
    "    def addWord(self, word):\n",
    "        if word not in self.word2index:\n",
    "            self.word2index[word] = self.n_words # for new word assign index starting from 2\n",
    "            self.word2count[word] = 1 # count the word\n",
    "            self.index2word[self.n_words] = word # assign word to index for mapping\n",
    "            self.n_words += 1 # increase the count of words\n",
    "        else:\n",
    "            self.word2count[word] += 1 # if word already exists, increase the count"
   ]
  },
  {
   "cell_type": "markdown",
   "metadata": {},
   "source": [
    "## PreProcessing"
   ]
  },
  {
   "cell_type": "code",
   "execution_count": 4,
   "metadata": {},
   "outputs": [],
   "source": [
    "def unicodeToAscii(s):\n",
    "    \"\"\"Converts the unicode string to ascii\"\"\"\n",
    "    return ''.join(\n",
    "        c for c in unicodedata.normalize('NFD', s)\n",
    "        if unicodedata.category(c) != 'Mn'\n",
    "    )\n",
    "\n",
    "# Lowercase, trim, and remove non-letter characters\n",
    "def normalizeString(s):\n",
    "    \"\"\"lowercase, trim and remote non letter characters\"\"\"\n",
    "    s = unicodeToAscii(s.lower().strip())\n",
    "    s = re.sub(r\"([.!?])\", r\" \\1\", s)\n",
    "    s = re.sub(r\"[^a-zA-Z!?]+\", r\" \", s)\n",
    "    return s.strip()"
   ]
  },
  {
   "cell_type": "code",
   "execution_count": 5,
   "metadata": {},
   "outputs": [
    {
     "data": {
      "text/plain": [
       "'aa !s ss ?'"
      ]
     },
     "execution_count": 5,
     "metadata": {},
     "output_type": "execute_result"
    }
   ],
   "source": [
    "normalizeString(\"aa123!s'ss?\")"
   ]
  },
  {
   "cell_type": "markdown",
   "metadata": {},
   "source": [
    "## Dataset"
   ]
  },
  {
   "cell_type": "code",
   "execution_count": 6,
   "metadata": {},
   "outputs": [
    {
     "data": {
      "text/html": [
       "<div>\n",
       "<style scoped>\n",
       "    .dataframe tbody tr th:only-of-type {\n",
       "        vertical-align: middle;\n",
       "    }\n",
       "\n",
       "    .dataframe tbody tr th {\n",
       "        vertical-align: top;\n",
       "    }\n",
       "\n",
       "    .dataframe thead th {\n",
       "        text-align: right;\n",
       "    }\n",
       "</style>\n",
       "<table border=\"1\" class=\"dataframe\">\n",
       "  <thead>\n",
       "    <tr style=\"text-align: right;\">\n",
       "      <th></th>\n",
       "      <th>id</th>\n",
       "      <th>question</th>\n",
       "      <th>answer</th>\n",
       "      <th>intent</th>\n",
       "    </tr>\n",
       "  </thead>\n",
       "  <tbody>\n",
       "    <tr>\n",
       "      <th>480</th>\n",
       "      <td>481</td>\n",
       "      <td>Hi</td>\n",
       "      <td>Hi! Ke chahincha? Ma madat garna tayar chhu.</td>\n",
       "      <td>greetings</td>\n",
       "    </tr>\n",
       "    <tr>\n",
       "      <th>209</th>\n",
       "      <td>210</td>\n",
       "      <td>Hello, tapai kasto chha?</td>\n",
       "      <td>Hello! Ma thikai chhu, tapai lai kasari madat ...</td>\n",
       "      <td>greetings</td>\n",
       "    </tr>\n",
       "    <tr>\n",
       "      <th>55</th>\n",
       "      <td>56</td>\n",
       "      <td>Hello, tapai kasto chha?</td>\n",
       "      <td>Hello! Ma thikai chhu, tapai lai kasari madat ...</td>\n",
       "      <td>greetings</td>\n",
       "    </tr>\n",
       "    <tr>\n",
       "      <th>484</th>\n",
       "      <td>485</td>\n",
       "      <td>Namaste</td>\n",
       "      <td>Namaste! Ma tapai ko madat kasari garna sakchu?</td>\n",
       "      <td>greetings</td>\n",
       "    </tr>\n",
       "    <tr>\n",
       "      <th>94</th>\n",
       "      <td>95</td>\n",
       "      <td>Tapai ko din kasto chha?</td>\n",
       "      <td>Din ramro chha, tapai lai kasari madat garna s...</td>\n",
       "      <td>greetings</td>\n",
       "    </tr>\n",
       "    <tr>\n",
       "      <th>33</th>\n",
       "      <td>34</td>\n",
       "      <td>Good afternoon, kasari chha?</td>\n",
       "      <td>Good afternoon! Ma sanchai chhu, tapai lai ke ...</td>\n",
       "      <td>greetings</td>\n",
       "    </tr>\n",
       "    <tr>\n",
       "      <th>390</th>\n",
       "      <td>391</td>\n",
       "      <td>Namaste, sab thikai chha?</td>\n",
       "      <td>Namaste! Sab thikai chha, tapai lai kasari mad...</td>\n",
       "      <td>greetings</td>\n",
       "    </tr>\n",
       "    <tr>\n",
       "      <th>134</th>\n",
       "      <td>135</td>\n",
       "      <td>K cha tapai?</td>\n",
       "      <td>Sab thikai chha, tapai lai kasari madat garna ...</td>\n",
       "      <td>greetings</td>\n",
       "    </tr>\n",
       "    <tr>\n",
       "      <th>234</th>\n",
       "      <td>235</td>\n",
       "      <td>Tapai ko din kasto chha?</td>\n",
       "      <td>Din ramro chha, tapai lai kasari madat garna s...</td>\n",
       "      <td>greetings</td>\n",
       "    </tr>\n",
       "    <tr>\n",
       "      <th>131</th>\n",
       "      <td>132</td>\n",
       "      <td>Namaste, sab thikai chha?</td>\n",
       "      <td>Namaste! Sab thikai chha, tapai lai kasari mad...</td>\n",
       "      <td>greetings</td>\n",
       "    </tr>\n",
       "  </tbody>\n",
       "</table>\n",
       "</div>"
      ],
      "text/plain": [
       "      id                      question  \\\n",
       "480  481                            Hi   \n",
       "209  210      Hello, tapai kasto chha?   \n",
       "55    56      Hello, tapai kasto chha?   \n",
       "484  485                       Namaste   \n",
       "94    95      Tapai ko din kasto chha?   \n",
       "33    34  Good afternoon, kasari chha?   \n",
       "390  391     Namaste, sab thikai chha?   \n",
       "134  135                  K cha tapai?   \n",
       "234  235      Tapai ko din kasto chha?   \n",
       "131  132     Namaste, sab thikai chha?   \n",
       "\n",
       "                                                answer     intent  \n",
       "480       Hi! Ke chahincha? Ma madat garna tayar chhu.  greetings  \n",
       "209  Hello! Ma thikai chhu, tapai lai kasari madat ...  greetings  \n",
       "55   Hello! Ma thikai chhu, tapai lai kasari madat ...  greetings  \n",
       "484    Namaste! Ma tapai ko madat kasari garna sakchu?  greetings  \n",
       "94   Din ramro chha, tapai lai kasari madat garna s...  greetings  \n",
       "33   Good afternoon! Ma sanchai chhu, tapai lai ke ...  greetings  \n",
       "390  Namaste! Sab thikai chha, tapai lai kasari mad...  greetings  \n",
       "134  Sab thikai chha, tapai lai kasari madat garna ...  greetings  \n",
       "234  Din ramro chha, tapai lai kasari madat garna s...  greetings  \n",
       "131  Namaste! Sab thikai chha, tapai lai kasari mad...  greetings  "
      ]
     },
     "execution_count": 6,
     "metadata": {},
     "output_type": "execute_result"
    }
   ],
   "source": [
    "import pandas as pd\n",
    "\n",
    "data = pd.read_csv(\"./greetings.csv\")\n",
    "\n",
    "data.sample(10)"
   ]
  },
  {
   "cell_type": "code",
   "execution_count": 7,
   "metadata": {},
   "outputs": [],
   "source": [
    "questions = data[\"question\"].values\n",
    "answers = data[\"answer\"].values"
   ]
  },
  {
   "cell_type": "code",
   "execution_count": 8,
   "metadata": {},
   "outputs": [
    {
     "data": {
      "text/plain": [
       "(array(['Namaste', 'Hello', 'K cha?', 'Kasto chha?', 'Hi', 'Good morning',\n",
       "        'Good afternoon', 'Good evening', 'Sanchai?', 'K chha?'],\n",
       "       dtype=object),\n",
       " array(['Namaste! Ma tapai lai kasari madat garna sakchu?',\n",
       "        'Hello! Ma tapai ko lagi ke garna sakchu?',\n",
       "        'Thikai chha, tapai lai kasari madat garna sakchu?',\n",
       "        'Ma thikai chhu, tapai lai ke chahincha?',\n",
       "        'Hi! Tapai lai ma ke madat garna sakchu?',\n",
       "        'Good morning! Tapai ko lagi ma ke garna sakchu?',\n",
       "        'Good afternoon! Ma tapai lai kasari madat garna sakchu?',\n",
       "        'Good evening! Tapai ko lagi ma ke garna sakchu?',\n",
       "        'Sanchai chhu, tapai lai kasari madat garna sakchu?',\n",
       "        'Sab thikai chha, tapai lai kasari madat garna sakchu?'],\n",
       "       dtype=object))"
      ]
     },
     "execution_count": 8,
     "metadata": {},
     "output_type": "execute_result"
    }
   ],
   "source": [
    "questions[:10], answers[:10]"
   ]
  },
  {
   "cell_type": "code",
   "execution_count": 9,
   "metadata": {},
   "outputs": [],
   "source": [
    "question_data_class = QuestionAnswer(\"question\")\n",
    "answer_data_class = QuestionAnswer(\"answer\")"
   ]
  },
  {
   "cell_type": "code",
   "execution_count": 10,
   "metadata": {},
   "outputs": [
    {
     "data": {
      "text/plain": [
       "3"
      ]
     },
     "execution_count": 10,
     "metadata": {},
     "output_type": "execute_result"
    }
   ],
   "source": [
    "question_data_class.n_words"
   ]
  },
  {
   "cell_type": "code",
   "execution_count": 11,
   "metadata": {},
   "outputs": [
    {
     "data": {
      "text/plain": [
       "3"
      ]
     },
     "execution_count": 11,
     "metadata": {},
     "output_type": "execute_result"
    }
   ],
   "source": [
    "answer_data_class.n_words"
   ]
  },
  {
   "cell_type": "code",
   "execution_count": 12,
   "metadata": {},
   "outputs": [],
   "source": [
    "def prepareData(question: list[str], answer: list[str]):\n",
    "    pairs = []\n",
    "    for q, a in zip(question, answer):\n",
    "        # normalize first\n",
    "        ques = normalizeString(q)\n",
    "        ans = normalizeString(a)\n",
    "        question_data_class.addSentence(ques)\n",
    "        answer_data_class.addSentence(ans)\n",
    "        pairs.append([q, a])\n",
    "    print(\"Question and Answer\", question_data_class.n_words, answer_data_class.n_words)\n",
    "    return question_data_class, answer_data_class, pairs"
   ]
  },
  {
   "cell_type": "code",
   "execution_count": 13,
   "metadata": {},
   "outputs": [
    {
     "name": "stdout",
     "output_type": "stream",
     "text": [
      "Question and Answer 39 39\n"
     ]
    }
   ],
   "source": [
    "question_data_class, answer_data_class, pairs = prepareData(questions, answers)"
   ]
  },
  {
   "cell_type": "code",
   "execution_count": 14,
   "metadata": {},
   "outputs": [
    {
     "data": {
      "text/plain": [
       "[['Namaste', 'Namaste! Ma tapai lai kasari madat garna sakchu?'],\n",
       " ['Hello', 'Hello! Ma tapai ko lagi ke garna sakchu?'],\n",
       " ['K cha?', 'Thikai chha, tapai lai kasari madat garna sakchu?'],\n",
       " ['Kasto chha?', 'Ma thikai chhu, tapai lai ke chahincha?'],\n",
       " ['Hi', 'Hi! Tapai lai ma ke madat garna sakchu?'],\n",
       " ['Good morning', 'Good morning! Tapai ko lagi ma ke garna sakchu?'],\n",
       " ['Good afternoon', 'Good afternoon! Ma tapai lai kasari madat garna sakchu?'],\n",
       " ['Good evening', 'Good evening! Tapai ko lagi ma ke garna sakchu?'],\n",
       " ['Sanchai?', 'Sanchai chhu, tapai lai kasari madat garna sakchu?'],\n",
       " ['K chha?', 'Sab thikai chha, tapai lai kasari madat garna sakchu?'],\n",
       " ['Ma tapai lai kasari madat garna sakchu?',\n",
       "  'Namaste! Tapai ko lagi ma ke garna sakchu?'],\n",
       " ['Ke chha k k?', 'Sab thikai chha, tapai lai kasari madat garna sakchu?'],\n",
       " ['Tapai lai ke cha?', 'Sab thikai chha, tapai ko lagi ma ke garna sakchu?'],\n",
       " ['Tapai lai kasari madat garna sakchu?', 'Tapai lai k chahincha?'],\n",
       " ['Sanchai hunuhunchha?',\n",
       "  'Sanchai chhu, tapai lai kasari madat garna sakchu?'],\n",
       " ['Ma sanchai chhu, tapai?',\n",
       "  'Ma pani sanchai chhu, tapai lai kasari madat garna sakchu?'],\n",
       " ['Sab thikai chha?', 'Sab thikai chha, tapai lai kasari madat garna sakchu?'],\n",
       " ['Tapai lai ke chahincha?', 'Tapai ko lagi ma ke garna sakchu?'],\n",
       " ['Hello ma sanchai chhu',\n",
       "  'Hello! Ma pani sanchai chhu, tapai lai ke chahincha?'],\n",
       " ['Hi, kasari chha?', 'Ma sanchai chhu, tapai lai kasari madat garna sakchu?'],\n",
       " ['Namaskar', 'Namaskar! Ma tapai lai kasari madat garna sakchu?'],\n",
       " ['Hello, kasari chha?', 'Thikai chha, tapai lai kasari madat garna sakchu?'],\n",
       " ['Kasto din bhayo?', 'Din ramro bhayo, tapai lai kasari madat garna sakchu?'],\n",
       " ['Tapai ko din kasto bhayo?',\n",
       "  'Mero din ramro bhayo, tapai lai ke chahincha?'],\n",
       " ['Good day', 'Good day! Tapai ko lagi ma ke garna sakchu?'],\n",
       " ['Namaste, kasto chha?',\n",
       "  'Namaste! Ma thikai chhu, tapai lai kasari madat garna sakchu?'],\n",
       " ['Hello, tapai lai kasari madat garna sakchu?',\n",
       "  'Hello! Tapai ko lagi ma ke garna sakchu?'],\n",
       " ['Sanchai hunu hunchha?',\n",
       "  'Sanchai chhu, tapai lai kasari madat garna sakchu?'],\n",
       " ['K cha? Sabai thikai?', 'Thikai chha, tapai lai kasari madat garna sakchu?'],\n",
       " ['Hello, ma sanchai chhu',\n",
       "  'Hello! Ma pani sanchai chhu, tapai lai ke chahincha?'],\n",
       " ['Tapai kasto chha?',\n",
       "  'Ma sanchai chhu, tapai lai kasari madat garna sakchu?'],\n",
       " ['Namaste! Ma sanchai chhu',\n",
       "  'Namaste! Ma pani sanchai chhu, tapai lai ke chahincha?'],\n",
       " ['Good morning, kasari chha?',\n",
       "  'Good morning! Ma sanchai chhu, tapai lai ke chahincha?'],\n",
       " ['Good afternoon, kasari chha?',\n",
       "  'Good afternoon! Ma sanchai chhu, tapai lai ke chahincha?'],\n",
       " ['Good evening, kasari chha?',\n",
       "  'Good evening! Ma sanchai chhu, tapai lai ke chahincha?'],\n",
       " ['Hi, ma thikai chhu',\n",
       "  'Hi! Ma pani thikai chhu, tapai lai kasari madat garna sakchu?'],\n",
       " ['Namaste, tapai lai kasto chha?',\n",
       "  'Namaste! Ma thikai chhu, tapai lai kasari madat garna sakchu?'],\n",
       " ['Tapai sanchai hunuhunchha?',\n",
       "  'Sanchai chhu, tapai lai kasari madat garna sakchu?'],\n",
       " ['Tapai kasto chha aaj?', 'Ma thikai chhu, tapai lai ke chahincha?'],\n",
       " ['Tapai ko din kasto chha?',\n",
       "  'Din ramro chha, tapai lai kasari madat garna sakchu?'],\n",
       " ['Hello, kasari hunuhunchha?',\n",
       "  'Hello! Ma thikai chhu, tapai lai kasari madat garna sakchu?'],\n",
       " ['Namaste, k cha?',\n",
       "  'Namaste! Sab thikai chha, tapai lai kasari madat garna sakchu?'],\n",
       " ['Hi, kasto chha?',\n",
       "  'Hi! Ma thikai chhu, tapai lai kasari madat garna sakchu?'],\n",
       " ['Good morning, k cha?',\n",
       "  'Good morning! Sab thikai chha, tapai lai ke chahincha?'],\n",
       " ['Good afternoon, k cha?',\n",
       "  'Good afternoon! Sab thikai chha, tapai lai ke chahincha?'],\n",
       " ['Good evening, k cha?',\n",
       "  'Good evening! Sab thikai chha, tapai lai ke chahincha?'],\n",
       " ['Hi, sab thikai chha?',\n",
       "  'Hi! Sab thikai chha, tapai lai kasari madat garna sakchu?'],\n",
       " ['Namaste, sab thikai chha?',\n",
       "  'Namaste! Sab thikai chha, tapai lai kasari madat garna sakchu?'],\n",
       " ['Hello, sab thikai chha?',\n",
       "  'Hello! Sab thikai chha, tapai lai kasari madat garna sakchu?'],\n",
       " ['Sanchai hunuhunchha?',\n",
       "  'Sanchai chhu, tapai lai kasari madat garna sakchu?'],\n",
       " ['K cha tapai?', 'Sab thikai chha, tapai lai kasari madat garna sakchu?'],\n",
       " ['Kasto din bhayo?', 'Din ramro bhayo, tapai lai ke chahincha?'],\n",
       " ['Tapai ko din kasto chha?',\n",
       "  'Din ramro chha, tapai lai kasari madat garna sakchu?'],\n",
       " ['Good day, kasari chha?',\n",
       "  'Good day! Ma sanchai chhu, tapai lai ke chahincha?'],\n",
       " ['Namaste, sab thikai chha?',\n",
       "  'Namaste! Sab thikai chha, tapai lai kasari madat garna sakchu?'],\n",
       " ['Hello, tapai kasto chha?',\n",
       "  'Hello! Ma thikai chhu, tapai lai kasari madat garna sakchu?'],\n",
       " ['Hi, kasari chha?',\n",
       "  'Hi! Ma thikai chhu, tapai lai kasari madat garna sakchu?'],\n",
       " ['Good morning, tapai lai kasto chha?',\n",
       "  'Good morning! Ma thikai chhu, tapai lai ke chahincha?'],\n",
       " ['Good afternoon, tapai lai kasto chha?',\n",
       "  'Good afternoon! Ma thikai chhu, tapai lai ke chahincha?'],\n",
       " ['Good evening, tapai lai kasto chha?',\n",
       "  'Good evening! Ma thikai chhu, tapai lai ke chahincha?'],\n",
       " ['Hi, sab thikai chha?',\n",
       "  'Hi! Sab thikai chha, tapai lai kasari madat garna sakchu?'],\n",
       " ['Namaste, sab thikai chha?',\n",
       "  'Namaste! Sab thikai chha, tapai lai kasari madat garna sakchu?'],\n",
       " ['Hello, sab thikai chha?',\n",
       "  'Hello! Sab thikai chha, tapai lai kasari madat garna sakchu?'],\n",
       " ['Sanchai hunuhunchha?',\n",
       "  'Sanchai chhu, tapai lai kasari madat garna sakchu?'],\n",
       " ['K cha tapai?', 'Sab thikai chha, tapai lai kasari madat garna sakchu?'],\n",
       " ['Kasto din bhayo?', 'Din ramro bhayo, tapai lai ke chahincha?'],\n",
       " ['Tapai ko din kasto chha?',\n",
       "  'Din ramro chha, tapai lai kasari madat garna sakchu?'],\n",
       " ['Good day, kasari chha?',\n",
       "  'Good day! Ma sanchai chhu, tapai lai ke chahincha?'],\n",
       " ['Namaste, sab thikai chha?',\n",
       "  'Namaste! Sab thikai chha, tapai lai kasari madat garna sakchu?'],\n",
       " ['Hello, tapai kasto chha?',\n",
       "  'Hello! Ma thikai chhu, tapai lai kasari madat garna sakchu?'],\n",
       " ['Hi, kasari chha?',\n",
       "  'Hi! Ma thikai chhu, tapai lai kasari madat garna sakchu?'],\n",
       " ['Good morning, tapai lai kasto chha?',\n",
       "  'Good morning! Ma thikai chhu, tapai lai ke chahincha?'],\n",
       " ['Good afternoon, tapai lai kasto chha?',\n",
       "  'Good afternoon! Ma thikai chhu, tapai lai ke chahincha?'],\n",
       " ['Good evening, tapai lai kasto chha?',\n",
       "  'Good evening! Ma thikai chhu, tapai lai ke chahincha?'],\n",
       " ['Hi, sab thikai chha?',\n",
       "  'Hi! Sab thikai chha, tapai lai kasari madat garna sakchu?'],\n",
       " ['Namaste, sab thikai chha?',\n",
       "  'Namaste! Sab thikai chha, tapai lai kasari madat garna sakchu?'],\n",
       " ['Hello, sab thikai chha?',\n",
       "  'Hello! Sab thikai chha, tapai lai kasari madat garna sakchu?'],\n",
       " ['Sanchai hunuhunchha?',\n",
       "  'Sanchai chhu, tapai lai kasari madat garna sakchu?'],\n",
       " ['K cha tapai?', 'Sab thikai chha, tapai lai kasari madat garna sakchu?'],\n",
       " ['Kasto din bhayo?', 'Din ramro bhayo, tapai lai ke chahincha?'],\n",
       " ['Tapai ko din kasto chha?',\n",
       "  'Din ramro chha, tapai lai kasari madat garna sakchu?'],\n",
       " ['Good day, kasari chha?',\n",
       "  'Good day! Ma sanchai chhu, tapai lai ke chahincha?'],\n",
       " ['Namaste, sab thikai chha?',\n",
       "  'Namaste! Sab thikai chha, tapai lai kasari madat garna sakchu?'],\n",
       " ['Hello, tapai kasto chha?',\n",
       "  'Hello! Ma thikai chhu, tapai lai kasari madat garna sakchu?'],\n",
       " ['Hi, kasari chha?',\n",
       "  'Hi! Ma thikai chhu, tapai lai kasari madat garna sakchu?'],\n",
       " ['Good morning, tapai lai kasto chha?',\n",
       "  'Good morning! Ma thikai chhu, tapai lai ke chahincha?'],\n",
       " ['Good afternoon, tapai lai kasto chha?',\n",
       "  'Good afternoon! Ma thikai chhu, tapai lai ke chahincha?'],\n",
       " ['Good evening, tapai lai kasto chha?',\n",
       "  'Good evening! Ma thikai chhu, tapai lai ke chahincha?'],\n",
       " ['Hi, sab thikai chha?',\n",
       "  'Hi! Sab thikai chha, tapai lai kasari madat garna sakchu?'],\n",
       " ['Namaste, sab thikai chha?',\n",
       "  'Namaste! Sab thikai chha, tapai lai kasari madat garna sakchu?'],\n",
       " ['Hello, sab thikai chha?',\n",
       "  'Hello! Sab thikai chha, tapai lai kasari madat garna sakchu?'],\n",
       " ['Sanchai hunuhunchha?',\n",
       "  'Sanchai chhu, tapai lai kasari madat garna sakchu?'],\n",
       " ['K cha tapai?', 'Sab thikai chha, tapai lai kasari madat garna sakchu?'],\n",
       " ['Kasto din bhayo?', 'Din ramro bhayo, tapai lai ke chahincha?'],\n",
       " ['Tapai ko din kasto chha?',\n",
       "  'Din ramro chha, tapai lai kasari madat garna sakchu?'],\n",
       " ['Good day, kasari chha?',\n",
       "  'Good day! Ma sanchai chhu, tapai lai ke chahincha?'],\n",
       " ['Namaste, sab thikai chha?',\n",
       "  'Namaste! Sab thikai chha, tapai lai kasari madat garna sakchu?'],\n",
       " ['Hello, tapai kasto chha?',\n",
       "  'Hello! Ma thikai chhu, tapai lai kasari madat garna sakchu?'],\n",
       " ['Hi, kasari chha?',\n",
       "  'Hi! Ma thikai chhu, tapai lai kasari madat garna sakchu?'],\n",
       " ['Good morning, tapai lai kasto chha?',\n",
       "  'Good morning! Ma thikai chhu, tapai lai ke chahincha?'],\n",
       " ['Good afternoon, tapai lai kasto chha?',\n",
       "  'Good afternoon! Ma thikai chhu, tapai lai ke chahincha?'],\n",
       " ['Good evening, tapai lai kasto chha?',\n",
       "  'Good evening! Ma thikai chhu, tapai lai ke chahincha?'],\n",
       " ['Hi, sab thikai chha?',\n",
       "  'Hi! Sab thikai chha, tapai lai kasari madat garna sakchu?'],\n",
       " ['Namaste, sab thikai chha?',\n",
       "  'Namaste! Sab thikai chha, tapai lai kasari madat garna sakchu?'],\n",
       " ['Hello, sab thikai chha?',\n",
       "  'Hello! Sab thikai chha, tapai lai kasari madat garna sakchu?'],\n",
       " ['Sanchai hunuhunchha?',\n",
       "  'Sanchai chhu, tapai lai kasari madat garna sakchu?'],\n",
       " ['K cha tapai?', 'Sab thikai chha, tapai lai kasari madat garna sakchu?'],\n",
       " ['Kasto din bhayo?', 'Din ramro bhayo, tapai lai ke chahincha?'],\n",
       " ['Tapai ko din kasto chha?',\n",
       "  'Din ramro chha, tapai lai kasari madat garna sakchu?'],\n",
       " ['Good day, kasari chha?',\n",
       "  'Good day! Ma sanchai chhu, tapai lai ke chahincha?'],\n",
       " ['Namaste, sab thikai chha?',\n",
       "  'Namaste! Sab thikai chha, tapai lai kasari madat garna sakchu?'],\n",
       " ['Hello, tapai kasto chha?',\n",
       "  'Hello! Ma thikai chhu, tapai lai kasari madat garna sakchu?'],\n",
       " ['Hi, kasari chha?',\n",
       "  'Hi! Ma thikai chhu, tapai lai kasari madat garna sakchu?'],\n",
       " ['Good morning, tapai lai kasto chha?',\n",
       "  'Good morning! Ma thikai chhu, tapai lai ke chahincha?'],\n",
       " ['Good afternoon, tapai lai kasto chha?',\n",
       "  'Good afternoon! Ma thikai chhu, tapai lai ke chahincha?'],\n",
       " ['Good evening, tapai lai kasto chha?',\n",
       "  'Good evening! Ma thikai chhu, tapai lai ke chahincha?'],\n",
       " ['Hi, sab thikai chha?',\n",
       "  'Hi! Sab thikai chha, tapai lai kasari madat garna sakchu?'],\n",
       " ['Namaste, sab thikai chha?',\n",
       "  'Namaste! Sab thikai chha, tapai lai kasari madat garna sakchu?'],\n",
       " ['Hello, sab thikai chha?',\n",
       "  'Hello! Sab thikai chha, tapai lai kasari madat garna sakchu?'],\n",
       " ['Sanchai hunuhunchha?',\n",
       "  'Sanchai chhu, tapai lai kasari madat garna sakchu?'],\n",
       " ['K cha tapai?', 'Sab thikai chha, tapai lai kasari madat garna sakchu?'],\n",
       " ['Kasto din bhayo?', 'Din ramro bhayo, tapai lai ke chahincha?'],\n",
       " ['Tapai ko din kasto chha?',\n",
       "  'Din ramro chha, tapai lai kasari madat garna sakchu?'],\n",
       " ['Good day, kasari chha?',\n",
       "  'Good day! Ma sanchai chhu, tapai lai ke chahincha?'],\n",
       " ['Namaste, sab thikai chha?',\n",
       "  'Namaste! Sab thikai chha, tapai lai kasari madat garna sakchu?'],\n",
       " ['Hello, tapai kasto chha?',\n",
       "  'Hello! Ma thikai chhu, tapai lai kasari madat garna sakchu?'],\n",
       " ['Hi, kasari chha?',\n",
       "  'Hi! Ma thikai chhu, tapai lai kasari madat garna sakchu?'],\n",
       " ['Good morning, tapai lai kasto chha?',\n",
       "  'Good morning! Ma thikai chhu, tapai lai ke chahincha?'],\n",
       " ['Good afternoon, tapai lai kasto chha?',\n",
       "  'Good afternoon! Ma thikai chhu, tapai lai ke chahincha?'],\n",
       " ['Good evening, tapai lai kasto chha?',\n",
       "  'Good evening! Ma thikai chhu, tapai lai ke chahincha?'],\n",
       " ['Hi, sab thikai chha?',\n",
       "  'Hi! Sab thikai chha, tapai lai kasari madat garna sakchu?'],\n",
       " ['Namaste, sab thikai chha?',\n",
       "  'Namaste! Sab thikai chha, tapai lai kasari madat garna sakchu?'],\n",
       " ['Hello, sab thikai chha?',\n",
       "  'Hello! Sab thikai chha, tapai lai kasari madat garna sakchu?'],\n",
       " ['Sanchai hunuhunchha?',\n",
       "  'Sanchai chhu, tapai lai kasari madat garna sakchu?'],\n",
       " ['K cha tapai?', 'Sab thikai chha, tapai lai kasari madat garna sakchu?'],\n",
       " ['Kasto din bhayo?', 'Din ramro bhayo, tapai lai ke chahincha?'],\n",
       " ['Tapai ko din kasto chha?',\n",
       "  'Din ramro chha, tapai lai kasari madat garna sakchu?'],\n",
       " ['Good day, kasari chha?',\n",
       "  'Good day! Ma sanchai chhu, tapai lai ke chahincha?'],\n",
       " ['Namaste, sab thikai chha?',\n",
       "  'Namaste! Sab thikai chha, tapai lai kasari madat garna sakchu?'],\n",
       " ['Hello, tapai kasto chha?',\n",
       "  'Hello! Ma thikai chhu, tapai lai kasari madat garna sakchu?'],\n",
       " ['Hi, kasari chha?',\n",
       "  'Hi! Ma thikai chhu, tapai lai kasari madat garna sakchu?'],\n",
       " ['Good morning, tapai lai kasto chha?',\n",
       "  'Good morning! Ma thikai chhu, tapai lai ke chahincha?'],\n",
       " ['Good afternoon, tapai lai kasto chha?',\n",
       "  'Good afternoon! Ma thikai chhu, tapai lai ke chahincha?'],\n",
       " ['Good evening, tapai lai kasto chha?',\n",
       "  'Good evening! Ma thikai chhu, tapai lai ke chahincha?'],\n",
       " ['Hi, sab thikai chha?',\n",
       "  'Hi! Sab thikai chha, tapai lai kasari madat garna sakchu?'],\n",
       " ['Namaste, sab thikai chha?',\n",
       "  'Namaste! Sab thikai chha, tapai lai kasari madat garna sakchu?'],\n",
       " ['Hello, sab thikai chha?',\n",
       "  'Hello! Sab thikai chha, tapai lai kasari madat garna sakchu?'],\n",
       " ['Sanchai hunuhunchha?',\n",
       "  'Sanchai chhu, tapai lai kasari madat garna sakchu?'],\n",
       " ['K cha tapai?', 'Sab thikai chha, tapai lai kasari madat garna sakchu?'],\n",
       " ['Kasto din bhayo?', 'Din ramro bhayo, tapai lai ke chahincha?'],\n",
       " ['Tapai ko din kasto chha?',\n",
       "  'Din ramro chha, tapai lai kasari madat garna sakchu?'],\n",
       " ['Good day, kasari chha?',\n",
       "  'Good day! Ma sanchai chhu, tapai lai ke chahincha?'],\n",
       " ['Namaste, sab thikai chha?',\n",
       "  'Namaste! Sab thikai chha, tapai lai kasari madat garna sakchu?'],\n",
       " ['Hello, tapai kasto chha?',\n",
       "  'Hello! Ma thikai chhu, tapai lai kasari madat garna sakchu?'],\n",
       " ['Hi, kasari chha?',\n",
       "  'Hi! Ma thikai chhu, tapai lai kasari madat garna sakchu?'],\n",
       " ['Good morning, tapai lai kasto chha?',\n",
       "  'Good morning! Ma thikai chhu, tapai lai ke chahincha?'],\n",
       " ['Good afternoon, tapai lai kasto chha?',\n",
       "  'Good afternoon! Ma thikai chhu, tapai lai ke chahincha?'],\n",
       " ['Good evening, tapai lai kasto chha?',\n",
       "  'Good evening! Ma thikai chhu, tapai lai ke chahincha?'],\n",
       " ['Hi, sab thikai chha?',\n",
       "  'Hi! Sab thikai chha, tapai lai kasari madat garna sakchu?'],\n",
       " ['Namaste, sab thikai chha?',\n",
       "  'Namaste! Sab thikai chha, tapai lai kasari madat garna sakchu?'],\n",
       " ['Hello, sab thikai chha?',\n",
       "  'Hello! Sab thikai chha, tapai lai kasari madat garna sakchu?'],\n",
       " ['Sanchai hunuhunchha?',\n",
       "  'Sanchai chhu, tapai lai kasari madat garna sakchu?'],\n",
       " ['K cha tapai?', 'Sab thikai chha, tapai lai kasari madat garna sakchu?'],\n",
       " ['Kasto din bhayo?', 'Din ramro bhayo, tapai lai ke chahincha?'],\n",
       " ['Tapai ko din kasto chha?',\n",
       "  'Din ramro chha, tapai lai kasari madat garna sakchu?'],\n",
       " ['Good day, kasari chha?',\n",
       "  'Good day! Ma sanchai chhu, tapai lai ke chahincha?'],\n",
       " ['Namaste, sab thikai chha?',\n",
       "  'Namaste! Sab thikai chha, tapai lai kasari madat garna sakchu?'],\n",
       " ['Hello, tapai kasto chha?',\n",
       "  'Hello! Ma thikai chhu, tapai lai kasari madat garna sakchu?'],\n",
       " ['Hi, kasari chha?',\n",
       "  'Hi! Ma thikai chhu, tapai lai kasari madat garna sakchu?'],\n",
       " ['Good morning, tapai lai kasto chha?',\n",
       "  'Good morning! Ma thikai chhu, tapai lai ke chahincha?'],\n",
       " ['Good afternoon, tapai lai kasto chha?',\n",
       "  'Good afternoon! Ma thikai chhu, tapai lai ke chahincha?'],\n",
       " ['Good evening, tapai lai kasto chha?',\n",
       "  'Good evening! Ma thikai chhu, tapai lai ke chahincha?'],\n",
       " ['Hi, sab thikai chha?',\n",
       "  'Hi! Sab thikai chha, tapai lai kasari madat garna sakchu?'],\n",
       " ['Namaste, sab thikai chha?',\n",
       "  'Namaste! Sab thikai chha, tapai lai kasari madat garna sakchu?'],\n",
       " ['Hello, sab thikai chha?',\n",
       "  'Hello! Sab thikai chha, tapai lai kasari madat garna sakchu?'],\n",
       " ['Sanchai hunuhunchha?',\n",
       "  'Sanchai chhu, tapai lai kasari madat garna sakchu?'],\n",
       " ['K cha tapai?', 'Sab thikai chha, tapai lai kasari madat garna sakchu?'],\n",
       " ['Kasto din bhayo?', 'Din ramro bhayo, tapai lai ke chahincha?'],\n",
       " ['Tapai ko din kasto chha?',\n",
       "  'Din ramro chha, tapai lai kasari madat garna sakchu?'],\n",
       " ['Good day, kasari chha?',\n",
       "  'Good day! Ma sanchai chhu, tapai lai ke chahincha?'],\n",
       " ['Namaste, sab thikai chha?',\n",
       "  'Namaste! Sab thikai chha, tapai lai kasari madat garna sakchu?'],\n",
       " ['Hello, tapai kasto chha?',\n",
       "  'Hello! Ma thikai chhu, tapai lai kasari madat garna sakchu?'],\n",
       " ['Hi, kasari chha?',\n",
       "  'Hi! Ma thikai chhu, tapai lai kasari madat garna sakchu?'],\n",
       " ['Good morning, tapai lai kasto chha?',\n",
       "  'Good morning! Ma thikai chhu, tapai lai ke chahincha?'],\n",
       " ['Good afternoon, tapai lai kasto chha?',\n",
       "  'Good afternoon! Ma thikai chhu, tapai lai ke chahincha?'],\n",
       " ['Good evening, tapai lai kasto chha?',\n",
       "  'Good evening! Ma thikai chhu, tapai lai ke chahincha?'],\n",
       " ['Hi, sab thikai chha?',\n",
       "  'Hi! Sab thikai chha, tapai lai kasari madat garna sakchu?'],\n",
       " ['Namaste, sab thikai chha?',\n",
       "  'Namaste! Sab thikai chha, tapai lai kasari madat garna sakchu?'],\n",
       " ['Hello, sab thikai chha?',\n",
       "  'Hello! Sab thikai chha, tapai lai kasari madat garna sakchu?'],\n",
       " ['Sanchai hunuhunchha?',\n",
       "  'Sanchai chhu, tapai lai kasari madat garna sakchu?'],\n",
       " ['K cha tapai?', 'Sab thikai chha, tapai lai kasari madat garna sakchu?'],\n",
       " ['Kasto din bhayo?', 'Din ramro bhayo, tapai lai ke chahincha?'],\n",
       " ['Tapai ko din kasto chha?',\n",
       "  'Din ramro chha, tapai lai kasari madat garna sakchu?'],\n",
       " ['Good day, kasari chha?',\n",
       "  'Good day! Ma sanchai chhu, tapai lai ke chahincha?'],\n",
       " ['Namaste, sab thikai chha?',\n",
       "  'Namaste! Sab thikai chha, tapai lai kasari madat garna sakchu?'],\n",
       " ['Hello, tapai kasto chha?',\n",
       "  'Hello! Ma thikai chhu, tapai lai kasari madat garna sakchu?'],\n",
       " ['Hi, kasari chha?',\n",
       "  'Hi! Ma thikai chhu, tapai lai kasari madat garna sakchu?'],\n",
       " ['Good morning, tapai lai kasto chha?',\n",
       "  'Good morning! Ma thikai chhu, tapai lai ke chahincha?'],\n",
       " ['Good afternoon, tapai lai kasto chha?',\n",
       "  'Good afternoon! Ma thikai chhu, tapai lai ke chahincha?'],\n",
       " ['Good evening, tapai lai kasto chha?',\n",
       "  'Good evening! Ma thikai chhu, tapai lai ke chahincha?'],\n",
       " ['Hi, sab thikai chha?',\n",
       "  'Hi! Sab thikai chha, tapai lai kasari madat garna sakchu?'],\n",
       " ['Namaste, sab thikai chha?',\n",
       "  'Namaste! Sab thikai chha, tapai lai kasari madat garna sakchu?'],\n",
       " ['Hello, sab thikai chha?',\n",
       "  'Hello! Sab thikai chha, tapai lai kasari madat garna sakchu?'],\n",
       " ['Sanchai hunuhunchha?',\n",
       "  'Sanchai chhu, tapai lai kasari madat garna sakchu?'],\n",
       " ['K cha tapai?', 'Sab thikai chha, tapai lai kasari madat garna sakchu?'],\n",
       " ['Kasto din bhayo?', 'Din ramro bhayo, tapai lai ke chahincha?'],\n",
       " ['Tapai ko din kasto chha?',\n",
       "  'Din ramro chha, tapai lai kasari madat garna sakchu?'],\n",
       " ['Good day, kasari chha?',\n",
       "  'Good day! Ma sanchai chhu, tapai lai ke chahincha?'],\n",
       " ['Namaste, sab thikai chha?',\n",
       "  'Namaste! Sab thikai chha, tapai lai kasari madat garna sakchu?'],\n",
       " ['Hello, tapai kasto chha?',\n",
       "  'Hello! Ma thikai chhu, tapai lai kasari madat garna sakchu?'],\n",
       " ['Hi, kasari chha?',\n",
       "  'Hi! Ma thikai chhu, tapai lai kasari madat garna sakchu?'],\n",
       " ['Good morning, tapai lai kasto chha?',\n",
       "  'Good morning! Ma thikai chhu, tapai lai ke chahincha?'],\n",
       " ['Good afternoon, tapai lai kasto chha?',\n",
       "  'Good afternoon! Ma thikai chhu, tapai lai ke chahincha?'],\n",
       " ['Good evening, tapai lai kasto chha?',\n",
       "  'Good evening! Ma thikai chhu, tapai lai ke chahincha?'],\n",
       " ['Hi, sab thikai chha?',\n",
       "  'Hi! Sab thikai chha, tapai lai kasari madat garna sakchu?'],\n",
       " ['Namaste, sab thikai chha?',\n",
       "  'Namaste! Sab thikai chha, tapai lai kasari madat garna sakchu?'],\n",
       " ['Hello, sab thikai chha?',\n",
       "  'Hello! Sab thikai chha, tapai lai kasari madat garna sakchu?'],\n",
       " ['Sanchai hunuhunchha?',\n",
       "  'Sanchai chhu, tapai lai kasari madat garna sakchu?'],\n",
       " ['K cha tapai?', 'Sab thikai chha, tapai lai kasari madat garna sakchu?'],\n",
       " ['Kasto din bhayo?', 'Din ramro bhayo, tapai lai ke chahincha?'],\n",
       " ['Tapai ko din kasto chha?',\n",
       "  'Din ramro chha, tapai lai kasari madat garna sakchu?'],\n",
       " ['Good day, kasari chha?',\n",
       "  'Good day! Ma sanchai chhu, tapai lai ke chahincha?'],\n",
       " ['Namaste, sab thikai chha?',\n",
       "  'Namaste! Sab thikai chha, tapai lai kasari madat garna sakchu?'],\n",
       " ['Hello, tapai kasto chha?',\n",
       "  'Hello! Ma thikai chhu, tapai lai kasari madat garna sakchu?'],\n",
       " ['Hi, kasari chha?',\n",
       "  'Hi! Ma thikai chhu, tapai lai kasari madat garna sakchu?'],\n",
       " ['Good morning, tapai lai kasto chha?',\n",
       "  'Good morning! Ma thikai chhu, tapai lai ke chahincha?'],\n",
       " ['Good afternoon, tapai lai kasto chha?',\n",
       "  'Good afternoon! Ma thikai chhu, tapai lai ke chahincha?'],\n",
       " ['Good evening, tapai lai kasto chha?',\n",
       "  'Good evening! Ma thikai chhu, tapai lai ke chahincha?'],\n",
       " ['Hi, sab thikai chha?',\n",
       "  'Hi! Sab thikai chha, tapai lai kasari madat garna sakchu?'],\n",
       " ['Namaste, sab thikai chha?',\n",
       "  'Namaste! Sab thikai chha, tapai lai kasari madat garna sakchu?'],\n",
       " ['Hello, sab thikai chha?',\n",
       "  'Hello! Sab thikai chha, tapai lai kasari madat garna sakchu?'],\n",
       " ['Sanchai hunuhunchha?',\n",
       "  'Sanchai chhu, tapai lai kasari madat garna sakchu?'],\n",
       " ['K cha tapai?', 'Sab thikai chha, tapai lai kasari madat garna sakchu?'],\n",
       " ['Kasto din bhayo?', 'Din ramro bhayo, tapai lai ke chahincha?'],\n",
       " ['Tapai ko din kasto chha?',\n",
       "  'Din ramro chha, tapai lai kasari madat garna sakchu?'],\n",
       " ['Good day, kasari chha?',\n",
       "  'Good day! Ma sanchai chhu, tapai lai ke chahincha?'],\n",
       " ['Namaste, sab thikai chha?',\n",
       "  'Namaste! Sab thikai chha, tapai lai kasari madat garna sakchu?'],\n",
       " ['Hello, tapai kasto chha?',\n",
       "  'Hello! Ma thikai chhu, tapai lai kasari madat garna sakchu?'],\n",
       " ['Hi, kasari chha?',\n",
       "  'Hi! Ma thikai chhu, tapai lai kasari madat garna sakchu?'],\n",
       " ['Good morning, tapai lai kasto chha?',\n",
       "  'Good morning! Ma thikai chhu, tapai lai ke chahincha?'],\n",
       " ['Good afternoon, tapai lai kasto chha?',\n",
       "  'Good afternoon! Ma thikai chhu, tapai lai ke chahincha?'],\n",
       " ['Good evening, tapai lai kasto chha?',\n",
       "  'Good evening! Ma thikai chhu, tapai lai ke chahincha?'],\n",
       " ['Hi, sab thikai chha?',\n",
       "  'Hi! Sab thikai chha, tapai lai kasari madat garna sakchu?'],\n",
       " ['Namaste, sab thikai chha?',\n",
       "  'Namaste! Sab thikai chha, tapai lai kasari madat garna sakchu?'],\n",
       " ['Hello, sab thikai chha?',\n",
       "  'Hello! Sab thikai chha, tapai lai kasari madat garna sakchu?'],\n",
       " ['Sanchai hunuhunchha?',\n",
       "  'Sanchai chhu, tapai lai kasari madat garna sakchu?'],\n",
       " ['K cha tapai?', 'Sab thikai chha, tapai lai kasari madat garna sakchu?'],\n",
       " ['Kasto din bhayo?', 'Din ramro bhayo, tapai lai ke chahincha?'],\n",
       " ['Tapai ko din kasto chha?',\n",
       "  'Din ramro chha, tapai lai kasari madat garna sakchu?'],\n",
       " ['Good day, kasari chha?',\n",
       "  'Good day! Ma sanchai chhu, tapai lai ke chahincha?'],\n",
       " ['Namaste, sab thikai chha?',\n",
       "  'Namaste! Sab thikai chha, tapai lai kasari madat garna sakchu?'],\n",
       " ['Hello, tapai kasto chha?',\n",
       "  'Hello! Ma thikai chhu, tapai lai kasari madat garna sakchu?'],\n",
       " ['Hi, kasari chha?',\n",
       "  'Hi! Ma thikai chhu, tapai lai kasari madat garna sakchu?'],\n",
       " ['Good morning, tapai lai kasto chha?',\n",
       "  'Good morning! Ma thikai chhu, tapai lai ke chahincha?'],\n",
       " ['Good afternoon, tapai lai kasto chha?',\n",
       "  'Good afternoon! Ma thikai chhu, tapai lai ke chahincha?'],\n",
       " ['Good evening, tapai lai kasto chha?',\n",
       "  'Good evening! Ma thikai chhu, tapai lai ke chahincha?'],\n",
       " ['Hi, sab thikai chha?',\n",
       "  'Hi! Sab thikai chha, tapai lai kasari madat garna sakchu?'],\n",
       " ['Namaste, sab thikai chha?',\n",
       "  'Namaste! Sab thikai chha, tapai lai kasari madat garna sakchu?'],\n",
       " ['Hello, sab thikai chha?',\n",
       "  'Hello! Sab thikai chha, tapai lai kasari madat garna sakchu?'],\n",
       " ['Sanchai hunuhunchha?',\n",
       "  'Sanchai chhu, tapai lai kasari madat garna sakchu?'],\n",
       " ['K cha tapai?', 'Sab thikai chha, tapai lai kasari madat garna sakchu?'],\n",
       " ['Kasto din bhayo?', 'Din ramro bhayo, tapai lai ke chahincha?'],\n",
       " ['Tapai ko din kasto chha?',\n",
       "  'Din ramro chha, tapai lai kasari madat garna sakchu?'],\n",
       " ['Good day, kasari chha?',\n",
       "  'Good day! Ma sanchai chhu, tapai lai ke chahincha?'],\n",
       " ['Namaste, sab thikai chha?',\n",
       "  'Namaste! Sab thikai chha, tapai lai kasari madat garna sakchu?'],\n",
       " ['Hello, tapai kasto chha?',\n",
       "  'Hello! Ma thikai chhu, tapai lai kasari madat garna sakchu?'],\n",
       " ['Hi, kasari chha?',\n",
       "  'Hi! Ma thikai chhu, tapai lai kasari madat garna sakchu?'],\n",
       " ['Good morning, tapai lai kasto chha?',\n",
       "  'Good morning! Ma thikai chhu, tapai lai ke chahincha?'],\n",
       " ['Good afternoon, tapai lai kasto chha?',\n",
       "  'Good afternoon! Ma thikai chhu, tapai lai ke chahincha?'],\n",
       " ['Good evening, tapai lai kasto chha?',\n",
       "  'Good evening! Ma thikai chhu, tapai lai ke chahincha?'],\n",
       " ['Hi, sab thikai chha?',\n",
       "  'Hi! Sab thikai chha, tapai lai kasari madat garna sakchu?'],\n",
       " ['Namaste, sab thikai chha?',\n",
       "  'Namaste! Sab thikai chha, tapai lai kasari madat garna sakchu?'],\n",
       " ['Hello, sab thikai chha?',\n",
       "  'Hello! Sab thikai chha, tapai lai kasari madat garna sakchu?'],\n",
       " ['Sanchai hunuhunchha?',\n",
       "  'Sanchai chhu, tapai lai kasari madat garna sakchu?'],\n",
       " ['K cha tapai?', 'Sab thikai chha, tapai lai kasari madat garna sakchu?'],\n",
       " ['Kasto din bhayo?', 'Din ramro bhayo, tapai lai ke chahincha?'],\n",
       " ['Tapai ko din kasto chha?',\n",
       "  'Din ramro chha, tapai lai kasari madat garna sakchu?'],\n",
       " ['Good day, kasari chha?',\n",
       "  'Good day! Ma sanchai chhu, tapai lai ke chahincha?'],\n",
       " ['Namaste, sab thikai chha?',\n",
       "  'Namaste! Sab thikai chha, tapai lai kasari madat garna sakchu?'],\n",
       " ['Hello, tapai kasto chha?',\n",
       "  'Hello! Ma thikai chhu, tapai lai kasari madat garna sakchu?'],\n",
       " ['Hi, kasari chha?',\n",
       "  'Hi! Ma thikai chhu, tapai lai kasari madat garna sakchu?'],\n",
       " ['Good morning, tapai lai kasto chha?',\n",
       "  'Good morning! Ma thikai chhu, tapai lai ke chahincha?'],\n",
       " ['Good afternoon, tapai lai kasto chha?',\n",
       "  'Good afternoon! Ma thikai chhu, tapai lai ke chahincha?'],\n",
       " ['Good evening, tapai lai kasto chha?',\n",
       "  'Good evening! Ma thikai chhu, tapai lai ke chahincha?'],\n",
       " ['Hi, sab thikai chha?',\n",
       "  'Hi! Sab thikai chha, tapai lai kasari madat garna sakchu?'],\n",
       " ['Namaste, sab thikai chha?',\n",
       "  'Namaste! Sab thikai chha, tapai lai kasari madat garna sakchu?'],\n",
       " ['Hello, sab thikai chha?',\n",
       "  'Hello! Sab thikai chha, tapai lai kasari madat garna sakchu?'],\n",
       " ['Sanchai hunuhunchha?',\n",
       "  'Sanchai chhu, tapai lai kasari madat garna sakchu?'],\n",
       " ['K cha tapai?', 'Sab thikai chha, tapai lai kasari madat garna sakchu?'],\n",
       " ['Kasto din bhayo?', 'Din ramro bhayo, tapai lai ke chahincha?'],\n",
       " ['Tapai ko din kasto chha?',\n",
       "  'Din ramro chha, tapai lai kasari madat garna sakchu?'],\n",
       " ['Good day, kasari chha?',\n",
       "  'Good day! Ma sanchai chhu, tapai lai ke chahincha?'],\n",
       " ['Namaste, sab thikai chha?',\n",
       "  'Namaste! Sab thikai chha, tapai lai kasari madat garna sakchu?'],\n",
       " ['Hello, tapai kasto chha?',\n",
       "  'Hello! Ma thikai chhu, tapai lai kasari madat garna sakchu?'],\n",
       " ['Hi, kasari chha?',\n",
       "  'Hi! Ma thikai chhu, tapai lai kasari madat garna sakchu?'],\n",
       " ['Good morning, tapai lai kasto chha?',\n",
       "  'Good morning! Ma thikai chhu, tapai lai ke chahincha?'],\n",
       " ['Good afternoon, tapai lai kasto chha?',\n",
       "  'Good afternoon! Ma thikai chhu, tapai lai ke chahincha?'],\n",
       " ['Good evening, tapai lai kasto chha?',\n",
       "  'Good evening! Ma thikai chhu, tapai lai ke chahincha?'],\n",
       " ['Hi, sab thikai chha?',\n",
       "  'Hi! Sab thikai chha, tapai lai kasari madat garna sakchu?'],\n",
       " ['Namaste, sab thikai chha?',\n",
       "  'Namaste! Sab thikai chha, tapai lai kasari madat garna sakchu?'],\n",
       " ['Hello, sab thikai chha?',\n",
       "  'Hello! Sab thikai chha, tapai lai kasari madat garna sakchu?'],\n",
       " ['Sanchai hunuhunchha?',\n",
       "  'Sanchai chhu, tapai lai kasari madat garna sakchu?'],\n",
       " ['K cha tapai?', 'Sab thikai chha, tapai lai kasari madat garna sakchu?'],\n",
       " ['Kasto din bhayo?', 'Din ramro bhayo, tapai lai ke chahincha?'],\n",
       " ['Tapai ko din kasto chha?',\n",
       "  'Din ramro chha, tapai lai kasari madat garna sakchu?'],\n",
       " ['Good day, kasari chha?',\n",
       "  'Good day! Ma sanchai chhu, tapai lai ke chahincha?'],\n",
       " ['Namaste, sab thikai chha?',\n",
       "  'Namaste! Sab thikai chha, tapai lai kasari madat garna sakchu?'],\n",
       " ['Hello, tapai kasto chha?',\n",
       "  'Hello! Ma thikai chhu, tapai lai kasari madat garna sakchu?'],\n",
       " ['Hi, kasari chha?',\n",
       "  'Hi! Ma thikai chhu, tapai lai kasari madat garna sakchu?'],\n",
       " ['Good morning, tapai lai kasto chha?',\n",
       "  'Good morning! Ma thikai chhu, tapai lai ke chahincha?'],\n",
       " ['Good afternoon, tapai lai kasto chha?',\n",
       "  'Good afternoon! Ma thikai chhu, tapai lai ke chahincha?'],\n",
       " ['Good evening, tapai lai kasto chha?',\n",
       "  'Good evening! Ma thikai chhu, tapai lai ke chahincha?'],\n",
       " ['Hi, sab thikai chha?',\n",
       "  'Hi! Sab thikai chha, tapai lai kasari madat garna sakchu?'],\n",
       " ['Namaste, sab thikai chha?',\n",
       "  'Namaste! Sab thikai chha, tapai lai kasari madat garna sakchu?'],\n",
       " ['Hello, sab thikai chha?',\n",
       "  'Hello! Sab thikai chha, tapai lai kasari madat garna sakchu?'],\n",
       " ['Sanchai hunuhunchha?',\n",
       "  'Sanchai chhu, tapai lai kasari madat garna sakchu?'],\n",
       " ['K cha tapai?', 'Sab thikai chha, tapai lai kasari madat garna sakchu?'],\n",
       " ['Kasto din bhayo?', 'Din ramro bhayo, tapai lai ke chahincha?'],\n",
       " ['Tapai ko din kasto chha?',\n",
       "  'Din ramro chha, tapai lai kasari madat garna sakchu?'],\n",
       " ['Good day, kasari chha?',\n",
       "  'Good day! Ma sanchai chhu, tapai lai ke chahincha?'],\n",
       " ['Namaste, sab thikai chha?',\n",
       "  'Namaste! Sab thikai chha, tapai lai kasari madat garna sakchu?'],\n",
       " ['Hello, tapai kasto chha?',\n",
       "  'Hello! Ma thikai chhu, tapai lai kasari madat garna sakchu?'],\n",
       " ['Hi, kasari chha?',\n",
       "  'Hi! Ma thikai chhu, tapai lai kasari madat garna sakchu?'],\n",
       " ['Good morning, tapai lai kasto chha?',\n",
       "  'Good morning! Ma thikai chhu, tapai lai ke chahincha?'],\n",
       " ['Good afternoon, tapai lai kasto chha?',\n",
       "  'Good afternoon! Ma thikai chhu, tapai lai ke chahincha?'],\n",
       " ['Good evening, tapai lai kasto chha?',\n",
       "  'Good evening! Ma thikai chhu, tapai lai ke chahincha?'],\n",
       " ['Hi, sab thikai chha?',\n",
       "  'Hi! Sab thikai chha, tapai lai kasari madat garna sakchu?'],\n",
       " ['Namaste, sab thikai chha?',\n",
       "  'Namaste! Sab thikai chha, tapai lai kasari madat garna sakchu?'],\n",
       " ['Hello, sab thikai chha?',\n",
       "  'Hello! Sab thikai chha, tapai lai kasari madat garna sakchu?'],\n",
       " ['Sanchai hunuhunchha?',\n",
       "  'Sanchai chhu, tapai lai kasari madat garna sakchu?'],\n",
       " ['K cha tapai?', 'Sab thikai chha, tapai lai kasari madat garna sakchu?'],\n",
       " ['Kasto din bhayo?', 'Din ramro bhayo, tapai lai ke chahincha?'],\n",
       " ['Tapai ko din kasto chha?',\n",
       "  'Din ramro chha, tapai lai kasari madat garna sakchu?'],\n",
       " ['Good day, kasari chha?',\n",
       "  'Good day! Ma sanchai chhu, tapai lai ke chahincha?'],\n",
       " ['Namaste, sab thikai chha?',\n",
       "  'Namaste! Sab thikai chha, tapai lai kasari madat garna sakchu?'],\n",
       " ['Hello, tapai kasto chha?',\n",
       "  'Hello! Ma thikai chhu, tapai lai kasari madat garna sakchu?'],\n",
       " ['Hi, kasari chha?',\n",
       "  'Hi! Ma thikai chhu, tapai lai kasari madat garna sakchu?'],\n",
       " ['Good morning, tapai lai kasto chha?',\n",
       "  'Good morning! Ma thikai chhu, tapai lai ke chahincha?'],\n",
       " ['Good afternoon, tapai lai kasto chha?',\n",
       "  'Good afternoon! Ma thikai chhu, tapai lai ke chahincha?'],\n",
       " ['Good evening, tapai lai kasto chha?',\n",
       "  'Good evening! Ma thikai chhu, tapai lai ke chahincha?'],\n",
       " ['Hi, sab thikai chha?',\n",
       "  'Hi! Sab thikai chha, tapai lai kasari madat garna sakchu?'],\n",
       " ['Namaste, sab thikai chha?',\n",
       "  'Namaste! Sab thikai chha, tapai lai kasari madat garna sakchu?'],\n",
       " ['Hello, sab thikai chha?',\n",
       "  'Hello! Sab thikai chha, tapai lai kasari madat garna sakchu?'],\n",
       " ['Sanchai hunuhunchha?',\n",
       "  'Sanchai chhu, tapai lai kasari madat garna sakchu?'],\n",
       " ['K cha tapai?', 'Sab thikai chha, tapai lai kasari madat garna sakchu?'],\n",
       " ['Kasto din bhayo?', 'Din ramro bhayo, tapai lai ke chahincha?'],\n",
       " ['Tapai ko din kasto chha?',\n",
       "  'Din ramro chha, tapai lai kasari madat garna sakchu?'],\n",
       " ['Good day, kasari chha?',\n",
       "  'Good day! Ma sanchai chhu, tapai lai ke chahincha?'],\n",
       " ['Namaste, sab thikai chha?',\n",
       "  'Namaste! Sab thikai chha, tapai lai kasari madat garna sakchu?'],\n",
       " ['Hello, tapai kasto chha?',\n",
       "  'Hello! Ma thikai chhu, tapai lai kasari madat garna sakchu?'],\n",
       " ['Hi, kasari chha?',\n",
       "  'Hi! Ma thikai chhu, tapai lai kasari madat garna sakchu?'],\n",
       " ['Good morning, tapai lai kasto chha?',\n",
       "  'Good morning! Ma thikai chhu, tapai lai ke chahincha?'],\n",
       " ['Good afternoon, tapai lai kasto chha?',\n",
       "  'Good afternoon! Ma thikai chhu, tapai lai ke chahincha?'],\n",
       " ['Good evening, tapai lai kasto chha?',\n",
       "  'Good evening! Ma thikai chhu, tapai lai ke chahincha?'],\n",
       " ['Hi, sab thikai chha?',\n",
       "  'Hi! Sab thikai chha, tapai lai kasari madat garna sakchu?'],\n",
       " ['Namaste, sab thikai chha?',\n",
       "  'Namaste! Sab thikai chha, tapai lai kasari madat garna sakchu?'],\n",
       " ['Hello, sab thikai chha?',\n",
       "  'Hello! Sab thikai chha, tapai lai kasari madat garna sakchu?'],\n",
       " ['Sanchai hunuhunchha?',\n",
       "  'Sanchai chhu, tapai lai kasari madat garna sakchu?'],\n",
       " ['K cha tapai?', 'Sab thikai chha, tapai lai kasari madat garna sakchu?'],\n",
       " ['Kasto din bhayo?', 'Din ramro bhayo, tapai lai ke chahincha?'],\n",
       " ['Tapai ko din kasto chha?',\n",
       "  'Din ramro chha, tapai lai kasari madat garna sakchu?'],\n",
       " ['Good day, kasari chha?',\n",
       "  'Good day! Ma sanchai chhu, tapai lai ke chahincha?'],\n",
       " ['Namaste, sab thikai chha?',\n",
       "  'Namaste! Sab thikai chha, tapai lai kasari madat garna sakchu?'],\n",
       " ['Hello, tapai kasto chha?',\n",
       "  'Hello! Ma thikai chhu, tapai lai kasari madat garna sakchu?'],\n",
       " ['Hi, kasari chha?',\n",
       "  'Hi! Ma thikai chhu, tapai lai kasari madat garna sakchu?'],\n",
       " ['Good morning, tapai lai kasto chha?',\n",
       "  'Good morning! Ma thikai chhu, tapai lai ke chahincha?'],\n",
       " ['Good afternoon, tapai lai kasto chha?',\n",
       "  'Good afternoon! Ma thikai chhu, tapai lai ke chahincha?'],\n",
       " ['Good evening, tapai lai kasto chha?',\n",
       "  'Good evening! Ma thikai chhu, tapai lai ke chahincha?'],\n",
       " ['Hi, sab thikai chha?',\n",
       "  'Hi! Sab thikai chha, tapai lai kasari madat garna sakchu?'],\n",
       " ['Namaste, sab thikai chha?',\n",
       "  'Namaste! Sab thikai chha, tapai lai kasari madat garna sakchu?'],\n",
       " ['Hello, sab thikai chha?',\n",
       "  'Hello! Sab thikai chha, tapai lai kasari madat garna sakchu?'],\n",
       " ['Sanchai hunuhunchha?',\n",
       "  'Sanchai chhu, tapai lai kasari madat garna sakchu?'],\n",
       " ['K cha tapai?', 'Sab thikai chha, tapai lai kasari madat garna sakchu?'],\n",
       " ['Kasto din bhayo?', 'Din ramro bhayo, tapai lai ke chahincha?'],\n",
       " ['Tapai ko din kasto chha?',\n",
       "  'Din ramro chha, tapai lai kasari madat garna sakchu?'],\n",
       " ['Good day, kasari chha?',\n",
       "  'Good day! Ma sanchai chhu, tapai lai ke chahincha?'],\n",
       " ['Namaste, sab thikai chha?',\n",
       "  'Namaste! Sab thikai chha, tapai lai kasari madat garna sakchu?'],\n",
       " ['Hello, tapai kasto chha?',\n",
       "  'Hello! Ma thikai chhu, tapai lai kasari madat garna sakchu?'],\n",
       " ['Hi, kasari chha?',\n",
       "  'Hi! Ma thikai chhu, tapai lai kasari madat garna sakchu?'],\n",
       " ['Good morning, tapai lai kasto chha?',\n",
       "  'Good morning! Ma thikai chhu, tapai lai ke chahincha?'],\n",
       " ['Good afternoon, tapai lai kasto chha?',\n",
       "  'Good afternoon! Ma thikai chhu, tapai lai ke chahincha?'],\n",
       " ['Good evening, tapai lai kasto chha?',\n",
       "  'Good evening! Ma thikai chhu, tapai lai ke chahincha?'],\n",
       " ['Hi, sab thikai chha?',\n",
       "  'Hi! Sab thikai chha, tapai lai kasari madat garna sakchu?'],\n",
       " ['Namaste, sab thikai chha?',\n",
       "  'Namaste! Sab thikai chha, tapai lai kasari madat garna sakchu?'],\n",
       " ['Hello, sab thikai chha?',\n",
       "  'Hello! Sab thikai chha, tapai lai kasari madat garna sakchu?'],\n",
       " ['Sanchai hunuhunchha?',\n",
       "  'Sanchai chhu, tapai lai kasari madat garna sakchu?'],\n",
       " ['K cha tapai?', 'Sab thikai chha, tapai lai kasari madat garna sakchu?'],\n",
       " ['Kasto din bhayo?', 'Din ramro bhayo, tapai lai ke chahincha?'],\n",
       " ['Tapai ko din kasto chha?',\n",
       "  'Din ramro chha, tapai lai kasari madat garna sakchu?'],\n",
       " ['Good day, kasari chha?',\n",
       "  'Good day! Ma sanchai chhu, tapai lai ke chahincha?'],\n",
       " ['Namaste, sab thikai chha?',\n",
       "  'Namaste! Sab thikai chha, tapai lai kasari madat garna sakchu?'],\n",
       " ['Hello, tapai kasto chha?',\n",
       "  'Hello! Ma thikai chhu, tapai lai kasari madat garna sakchu?'],\n",
       " ['Hi, kasari chha?',\n",
       "  'Hi! Ma thikai chhu, tapai lai kasari madat garna sakchu?'],\n",
       " ['Good morning, tapai lai kasto chha?',\n",
       "  'Good morning! Ma thikai chhu, tapai lai ke chahincha?'],\n",
       " ['Good afternoon, tapai lai kasto chha?',\n",
       "  'Good afternoon! Ma thikai chhu, tapai lai ke chahincha?'],\n",
       " ['Good evening, tapai lai kasto chha?',\n",
       "  'Good evening! Ma thikai chhu, tapai lai ke chahincha?'],\n",
       " ['Hi, sab thikai chha?',\n",
       "  'Hi! Sab thikai chha, tapai lai kasari madat garna sakchu?'],\n",
       " ['Namaste, sab thikai chha?',\n",
       "  'Namaste! Sab thikai chha, tapai lai kasari madat garna sakchu?'],\n",
       " ['Hello, sab thikai chha?',\n",
       "  'Hello! Sab thikai chha, tapai lai kasari madat garna sakchu?'],\n",
       " ['Sanchai hunuhunchha?',\n",
       "  'Sanchai chhu, tapai lai kasari madat garna sakchu?'],\n",
       " ['K cha tapai?', 'Sab thikai chha, tapai lai kasari madat garna sakchu?'],\n",
       " ['Kasto din bhayo?', 'Din ramro bhayo, tapai lai ke chahincha?'],\n",
       " ['Tapai ko din kasto chha?',\n",
       "  'Din ramro chha, tapai lai kasari madat garna sakchu?'],\n",
       " ['Good day, kasari chha?',\n",
       "  'Good day! Ma sanchai chhu, tapai lai ke chahincha?'],\n",
       " ['Namaste, sab thikai chha?',\n",
       "  'Namaste! Sab thikai chha, tapai lai kasari madat garna sakchu?'],\n",
       " ['Hello, tapai kasto chha?',\n",
       "  'Hello! Ma thikai chhu, tapai lai kasari madat garna sakchu?'],\n",
       " ['Hi, kasari chha?',\n",
       "  'Hi! Ma thikai chhu, tapai lai kasari madat garna sakchu?'],\n",
       " ['Good morning, tapai lai kasto chha?',\n",
       "  'Good morning! Ma thikai chhu, tapai lai ke chahincha?'],\n",
       " ['Good afternoon, tapai lai kasto chha?',\n",
       "  'Good afternoon! Ma thikai chhu, tapai lai ke chahincha?'],\n",
       " ['Good evening, tapai lai kasto chha?',\n",
       "  'Good evening! Ma thikai chhu, tapai lai ke chahincha?'],\n",
       " ['Hi, sab thikai chha?',\n",
       "  'Hi! Sab thikai chha, tapai lai kasari madat garna sakchu?'],\n",
       " ['Namaste, sab thikai chha?',\n",
       "  'Namaste! Sab thikai chha, tapai lai kasari madat garna sakchu?'],\n",
       " ['Hello', 'Hello! Ma tapai ko madat kasari garna sakchu?'],\n",
       " ['Hello', 'Hello! Ma tapai ko madat kasari garna sakchu?'],\n",
       " ['Hello', 'Hello! Ma tapai ko lagi ke garna sakchu?'],\n",
       " ['Hello', 'Hello! Ma tapai lai kasari sahayog garna sakchu?'],\n",
       " ['Hello', 'Hello! Ke chahincha? Ma madat garna tayar chhu.'],\n",
       " ['Hello', 'Hello! Ma kasari sahayog garna sakchu?'],\n",
       " ['Hello', 'Hello! Ma ke garna sakchu tapai ko lagi?'],\n",
       " ['Hello', 'Hello! Tapai ko lagi ma k garna sakchu?'],\n",
       " ['Hi', 'Hi! Ma tapai ko madat kasari garna sakchu?'],\n",
       " ['Hi', 'Hi! Ma tapai ko lagi ke garna sakchu?'],\n",
       " ['Hi', 'Hi! Ma tapai lai kasari sahayog garna sakchu?'],\n",
       " ['Hi', 'Hi! Ke chahincha? Ma madat garna tayar chhu.'],\n",
       " ['Hi', 'Hi! Ma kasari sahayog garna sakchu?'],\n",
       " ['Hi', 'Hi! Ma ke garna sakchu tapai ko lagi?'],\n",
       " ['Hi', 'Hi! Tapai ko lagi ma k garna sakchu?'],\n",
       " ['Hello', 'Hello! Ma tapai ko madat kasari garna sakchu?'],\n",
       " ['Hello', 'Hello! Ma tapai ko lagi ke garna sakchu?'],\n",
       " ['Hello', 'Hello! Ma tapai lai kasari sahayog garna sakchu?'],\n",
       " ['Hello', 'Hello! Ke chahincha? Ma madat garna tayar chhu.'],\n",
       " ['Hello', 'Hello! Ma kasari sahayog garna sakchu?'],\n",
       " ['Hello', 'Hello! Ma ke garna sakchu tapai ko lagi?'],\n",
       " ['Hello', 'Hello! Tapai ko lagi ma k garna sakchu?'],\n",
       " ['Hi', 'Hi! Ma tapai ko madat kasari garna sakchu?'],\n",
       " ['Hi', 'Hi! Ma tapai ko lagi ke garna sakchu?'],\n",
       " ['Hi', 'Hi! Ma tapai lai kasari sahayog garna sakchu?'],\n",
       " ['Hi', 'Hi! Ke chahincha? Ma madat garna tayar chhu.'],\n",
       " ['Hi', 'Hi! Ma kasari sahayog garna sakchu?'],\n",
       " ['Hi', 'Hi! Ma ke garna sakchu tapai ko lagi?'],\n",
       " ['Hi', 'Hi! Tapai ko lagi ma k garna sakchu?'],\n",
       " ['Namaste', 'Namaste! Ma tapai ko madat kasari garna sakchu?'],\n",
       " ['Namaste', 'Namaste! Ma tapai ko lagi ke garna sakchu?'],\n",
       " ['Namaste', 'Namaste! Ma tapai lai kasari sahayog garna sakchu?'],\n",
       " ['Namaste', 'Namaste! Ke chahincha? Ma madat garna tayar chhu.'],\n",
       " ['Namaste', 'Namaste! Ma kasari sahayog garna sakchu?'],\n",
       " ['Namaste', 'Namaste! Ma ke garna sakchu tapai ko lagi?'],\n",
       " ['Namaste', 'Namaste! Tapai ko lagi ma k garna sakchu?'],\n",
       " ['Hello', 'Hello! Ma tapai ko madat kasari garna sakchu?'],\n",
       " ['Hello', 'Hello! Ma tapai ko lagi ke garna sakchu?'],\n",
       " ['Hello', 'Hello! Ma tapai lai kasari sahayog garna sakchu?'],\n",
       " ['Hello', 'Hello! Ke chahincha? Ma madat garna tayar chhu.'],\n",
       " ['Hello', 'Hello! Ma kasari sahayog garna sakchu?'],\n",
       " ['Hello', 'Hello! Ma ke garna sakchu tapai ko lagi?'],\n",
       " ['Hello', 'Hello! Tapai ko lagi ma k garna sakchu?'],\n",
       " ['Hi', 'Hi! Ma tapai ko madat kasari garna sakchu?'],\n",
       " ['Hi', 'Hi! Ma tapai ko lagi ke garna sakchu?'],\n",
       " ['Hi', 'Hi! Ma tapai lai kasari sahayog garna sakchu?'],\n",
       " ['Hi', 'Hi! Ke chahincha? Ma madat garna tayar chhu.'],\n",
       " ['Hi', 'Hi! Ma kasari sahayog garna sakchu?'],\n",
       " ['Hi', 'Hi! Ma ke garna sakchu tapai ko lagi?'],\n",
       " ['Hi', 'Hi! Tapai ko lagi ma k garna sakchu?'],\n",
       " ['Namaste', 'Namaste! Ma tapai ko madat kasari garna sakchu?'],\n",
       " ['Namaste', 'Namaste! Ma tapai ko lagi ke garna sakchu?'],\n",
       " ['Namaste', 'Namaste! Ma tapai lai kasari sahayog garna sakchu?'],\n",
       " ['Namaste', 'Namaste! Ke chahincha? Ma madat garna tayar chhu.'],\n",
       " ['Namaste', 'Namaste! Ma kasari sahayog garna sakchu?'],\n",
       " ['Namaste', 'Namaste! Ma ke garna sakchu tapai ko lagi?'],\n",
       " ['Namaste', 'Namaste! Tapai ko lagi ma k garna sakchu?'],\n",
       " ['Hello', 'Hello! Ma tapai ko madat kasari garna sakchu hola.'],\n",
       " ['Hello', 'Hello! Ma tapai ko madat kasari garna sakchu?'],\n",
       " ['Hello', 'Hello! Ma tapai ko lagi ke garna sakchu?'],\n",
       " ['Hello', 'Hello! Ma tapai lai kasari sahayog garna sakchu?'],\n",
       " ['Hello', 'Hello! Ke chahincha? Ma madat garna tayar chhu.'],\n",
       " ['Hello', 'Hello! Ma kasari sahayog garna sakchu?'],\n",
       " ['Hello', 'Hello! Ma ke garna sakchu tapai ko lagi?'],\n",
       " ['Hello', 'Hello! Tapai ko lagi ma k garna sakchu?'],\n",
       " ['Hi', 'Hi! Ma tapai ko madat kasari garna sakchu?'],\n",
       " ['Hi', 'Hi! Ma tapai ko lagi ke garna sakchu?'],\n",
       " ['Hi', 'Hi! Ma tapai lai kasari sahayog garna sakchu?'],\n",
       " ['Hi', 'Hi! Ke chahincha? Ma madat garna tayar chhu.'],\n",
       " ['Hi', 'Hi! Ma kasari sahayog garna sakchu?'],\n",
       " ['Hi', 'Hi! Ma ke garna sakchu tapai ko lagi?'],\n",
       " ['Hi', 'Hi! Tapai ko lagi ma k garna sakchu?'],\n",
       " ['Namaste', 'Namaste! Ma tapai ko madat kasari garna sakchu?'],\n",
       " ['Namaste', 'Namaste! Ma tapai ko lagi ke garna sakchu?'],\n",
       " ['Namaste', 'Namaste! Ma tapai lai kasari sahayog garna sakchu?'],\n",
       " ['Namaste', 'Namaste! Ke chahincha? Ma madat garna tayar chhu.'],\n",
       " ['Namaste', 'Namaste! Ma kasari sahayog garna sakchu?'],\n",
       " ['Namaste', 'Namaste! Ma ke garna sakchu tapai ko lagi?'],\n",
       " ['Namaste', 'Namaste! Tapai ko lagi ma k garna sakchu?'],\n",
       " ['Hello', 'Hello! Ma tapai ko madat kasari garna sakchu?'],\n",
       " ['Hello', 'Hello! Ma tapai ko lagi ke garna sakchu?'],\n",
       " ['Hello', 'Hello! Ma tapai lai kasari sahayog garna sakchu?'],\n",
       " ['Hello', 'Hello! Ke chahincha? Ma madat garna tayar chhu.'],\n",
       " ['Hello', 'Hello! Ma kasari sahayog garna sakchu?'],\n",
       " ['Hello', 'Hello! Ma ke garna sakchu tapai ko lagi?'],\n",
       " ['Hello', 'Hello! Tapai ko lagi ma k garna sakchu?'],\n",
       " ['Hi', 'Hi! Ma tapai ko madat kasari garna sakchu?'],\n",
       " ['Hi', 'Hi! Ma tapai ko lagi ke garna sakchu?']]"
      ]
     },
     "execution_count": 14,
     "metadata": {},
     "output_type": "execute_result"
    }
   ],
   "source": [
    "pairs"
   ]
  },
  {
   "cell_type": "code",
   "execution_count": 15,
   "metadata": {},
   "outputs": [
    {
     "data": {
      "text/plain": [
       "{'<SOS>': 0,\n",
       " '<EOS>': 1,\n",
       " '<UNK>': 2,\n",
       " 'namaste': 3,\n",
       " 'hello': 4,\n",
       " 'k': 5,\n",
       " 'cha': 6,\n",
       " '?': 7,\n",
       " 'kasto': 8,\n",
       " 'chha': 9,\n",
       " 'hi': 10,\n",
       " 'good': 11,\n",
       " 'morning': 12,\n",
       " 'afternoon': 13,\n",
       " 'evening': 14,\n",
       " 'sanchai': 15,\n",
       " 'ma': 16,\n",
       " 'tapai': 17,\n",
       " 'lai': 18,\n",
       " 'kasari': 19,\n",
       " 'madat': 20,\n",
       " 'garna': 21,\n",
       " 'sakchu': 22,\n",
       " 'ke': 23,\n",
       " 'hunuhunchha': 24,\n",
       " 'chhu': 25,\n",
       " 'sab': 26,\n",
       " 'thikai': 27,\n",
       " 'chahincha': 28,\n",
       " 'namaskar': 29,\n",
       " 'din': 30,\n",
       " 'bhayo': 31,\n",
       " 'ko': 32,\n",
       " 'day': 33,\n",
       " 'hunu': 34,\n",
       " 'hunchha': 35,\n",
       " 'sabai': 36,\n",
       " '!': 37,\n",
       " 'aaj': 38}"
      ]
     },
     "execution_count": 15,
     "metadata": {},
     "output_type": "execute_result"
    }
   ],
   "source": [
    "question_data_class.word2index"
   ]
  },
  {
   "cell_type": "code",
   "execution_count": 16,
   "metadata": {},
   "outputs": [
    {
     "data": {
      "text/plain": [
       "{'<SOS>': 0,\n",
       " '<EOS>': 1,\n",
       " '<UNK>': 2,\n",
       " 'namaste': 3,\n",
       " '!': 4,\n",
       " 'ma': 5,\n",
       " 'tapai': 6,\n",
       " 'lai': 7,\n",
       " 'kasari': 8,\n",
       " 'madat': 9,\n",
       " 'garna': 10,\n",
       " 'sakchu': 11,\n",
       " '?': 12,\n",
       " 'hello': 13,\n",
       " 'ko': 14,\n",
       " 'lagi': 15,\n",
       " 'ke': 16,\n",
       " 'thikai': 17,\n",
       " 'chha': 18,\n",
       " 'chhu': 19,\n",
       " 'chahincha': 20,\n",
       " 'hi': 21,\n",
       " 'good': 22,\n",
       " 'morning': 23,\n",
       " 'afternoon': 24,\n",
       " 'evening': 25,\n",
       " 'sanchai': 26,\n",
       " 'sab': 27,\n",
       " 'k': 28,\n",
       " 'pani': 29,\n",
       " 'namaskar': 30,\n",
       " 'din': 31,\n",
       " 'ramro': 32,\n",
       " 'bhayo': 33,\n",
       " 'mero': 34,\n",
       " 'day': 35,\n",
       " 'sahayog': 36,\n",
       " 'tayar': 37,\n",
       " 'hola': 38}"
      ]
     },
     "execution_count": 16,
     "metadata": {},
     "output_type": "execute_result"
    }
   ],
   "source": [
    "answer_data_class.word2index"
   ]
  },
  {
   "cell_type": "code",
   "execution_count": 17,
   "metadata": {},
   "outputs": [
    {
     "data": {
      "text/plain": [
       "{0: '<SOS>',\n",
       " 1: '<EOS>',\n",
       " 2: '<UNK>',\n",
       " 3: 'namaste',\n",
       " 4: 'hello',\n",
       " 5: 'k',\n",
       " 6: 'cha',\n",
       " 7: '?',\n",
       " 8: 'kasto',\n",
       " 9: 'chha',\n",
       " 10: 'hi',\n",
       " 11: 'good',\n",
       " 12: 'morning',\n",
       " 13: 'afternoon',\n",
       " 14: 'evening',\n",
       " 15: 'sanchai',\n",
       " 16: 'ma',\n",
       " 17: 'tapai',\n",
       " 18: 'lai',\n",
       " 19: 'kasari',\n",
       " 20: 'madat',\n",
       " 21: 'garna',\n",
       " 22: 'sakchu',\n",
       " 23: 'ke',\n",
       " 24: 'hunuhunchha',\n",
       " 25: 'chhu',\n",
       " 26: 'sab',\n",
       " 27: 'thikai',\n",
       " 28: 'chahincha',\n",
       " 29: 'namaskar',\n",
       " 30: 'din',\n",
       " 31: 'bhayo',\n",
       " 32: 'ko',\n",
       " 33: 'day',\n",
       " 34: 'hunu',\n",
       " 35: 'hunchha',\n",
       " 36: 'sabai',\n",
       " 37: '!',\n",
       " 38: 'aaj'}"
      ]
     },
     "execution_count": 17,
     "metadata": {},
     "output_type": "execute_result"
    }
   ],
   "source": [
    "question_data_class.index2word"
   ]
  },
  {
   "cell_type": "code",
   "execution_count": 18,
   "metadata": {},
   "outputs": [
    {
     "data": {
      "text/plain": [
       "{0: '<SOS>',\n",
       " 1: '<EOS>',\n",
       " 2: '<UNK>',\n",
       " 3: 'namaste',\n",
       " 4: '!',\n",
       " 5: 'ma',\n",
       " 6: 'tapai',\n",
       " 7: 'lai',\n",
       " 8: 'kasari',\n",
       " 9: 'madat',\n",
       " 10: 'garna',\n",
       " 11: 'sakchu',\n",
       " 12: '?',\n",
       " 13: 'hello',\n",
       " 14: 'ko',\n",
       " 15: 'lagi',\n",
       " 16: 'ke',\n",
       " 17: 'thikai',\n",
       " 18: 'chha',\n",
       " 19: 'chhu',\n",
       " 20: 'chahincha',\n",
       " 21: 'hi',\n",
       " 22: 'good',\n",
       " 23: 'morning',\n",
       " 24: 'afternoon',\n",
       " 25: 'evening',\n",
       " 26: 'sanchai',\n",
       " 27: 'sab',\n",
       " 28: 'k',\n",
       " 29: 'pani',\n",
       " 30: 'namaskar',\n",
       " 31: 'din',\n",
       " 32: 'ramro',\n",
       " 33: 'bhayo',\n",
       " 34: 'mero',\n",
       " 35: 'day',\n",
       " 36: 'sahayog',\n",
       " 37: 'tayar',\n",
       " 38: 'hola'}"
      ]
     },
     "execution_count": 18,
     "metadata": {},
     "output_type": "execute_result"
    }
   ],
   "source": [
    "answer_data_class.index2word"
   ]
  },
  {
   "cell_type": "markdown",
   "metadata": {},
   "source": [
    "## Sequence to Sequence Model Architecture"
   ]
  },
  {
   "cell_type": "markdown",
   "metadata": {},
   "source": [
    "#### Encoder"
   ]
  },
  {
   "cell_type": "code",
   "execution_count": 19,
   "metadata": {},
   "outputs": [],
   "source": [
    "class Encoder(torch.nn.Module):\n",
    "    def __init__(self, input_size, hidden_size, dropout_p=0.1):\n",
    "        super().__init__()\n",
    "        self.hidden_size = hidden_size\n",
    "        \n",
    "        self.embedding = torch.nn.Embedding(input_size, hidden_size) # vocab_size, embedding_dim\n",
    "        self.gru = torch.nn.GRU(hidden_size, hidden_size, batch_first=True)\n",
    "        self.dropout = torch.nn.Dropout(dropout_p)\n",
    "        \n",
    "    def forward(self, input):\n",
    "        embedded = self.dropout(self.embedding(input))\n",
    "        output, hidden = self.gru(embedded)\n",
    "        return output, hidden"
   ]
  },
  {
   "cell_type": "code",
   "execution_count": 20,
   "metadata": {},
   "outputs": [],
   "source": [
    "encoder_ = Encoder(question_data_class.n_words, 256)\n",
    "encoder_ = encoder_.to(device)\n",
    "\n",
    "output, hidden = encoder_(torch.tensor([[1, 2, 3, 4, 5]]).to(device))"
   ]
  },
  {
   "cell_type": "code",
   "execution_count": 21,
   "metadata": {},
   "outputs": [
    {
     "data": {
      "text/plain": [
       "(torch.Size([1, 5, 256]), torch.Size([1, 1, 256]))"
      ]
     },
     "execution_count": 21,
     "metadata": {},
     "output_type": "execute_result"
    }
   ],
   "source": [
    "output.shape, hidden.shape"
   ]
  },
  {
   "cell_type": "markdown",
   "metadata": {},
   "source": [
    "#### Decoder"
   ]
  },
  {
   "cell_type": "code",
   "execution_count": 22,
   "metadata": {},
   "outputs": [
    {
     "data": {
      "text/plain": [
       "tensor([[99.],\n",
       "        [99.],\n",
       "        [99.],\n",
       "        [99.]])"
      ]
     },
     "execution_count": 22,
     "metadata": {},
     "output_type": "execute_result"
    }
   ],
   "source": [
    "torch.empty(4, 1).fill_(99)"
   ]
  },
  {
   "cell_type": "code",
   "execution_count": 23,
   "metadata": {},
   "outputs": [],
   "source": [
    "MAX_SEQUENCE_LENGTH = 30"
   ]
  },
  {
   "cell_type": "code",
   "execution_count": 24,
   "metadata": {},
   "outputs": [],
   "source": [
    "class Decoder(torch.nn.Module):\n",
    "    \"\"\"\n",
    "    Decoder architecture\n",
    "    \n",
    "    Args:\n",
    "    hidden_size: int, hidden size of the model\n",
    "    output_size: int, output size of the model\n",
    "    \"\"\"\n",
    "    def __init__(self, hidden_size, output_size):\n",
    "        super().__init__()\n",
    "        self.embedding = torch.nn.Embedding(output_size, hidden_size)\n",
    "        self.gru = torch.nn.GRU(hidden_size, hidden_size, batch_first=True)\n",
    "        self.out = torch.nn.Linear(hidden_size, output_size)\n",
    "        \n",
    "    def forward(self, encoder_outputs, encoder_hidden, target_tensor=None):\n",
    "        batch_size = encoder_outputs.size(0)\n",
    "        decoder_input = torch.empty(batch_size, 1, dtype=torch.long, device=device).fill_(SOS_token)\n",
    "        decoder_hidden = encoder_hidden\n",
    "        decoder_outputs = []\n",
    "        \n",
    "        for i in range(MAX_SEQUENCE_LENGTH):\n",
    "            decoder_output, decoder_hidden = self.forward_step(decoder_input, decoder_hidden)\n",
    "            decoder_outputs.append(decoder_output)\n",
    "            \n",
    "            if target_tensor is not None:\n",
    "                # teacher forcing\n",
    "                decoder_input = target_tensor[:, i].unsqueeze(1)\n",
    "            else:\n",
    "                _, topi = decoder_output.topk(1)\n",
    "                decoder_input = topi.squeeze(-1).detach()\n",
    "                \n",
    "        decoder_outputs = torch.cat(decoder_outputs, dim=1)\n",
    "        decoder_outputs = F.log_softmax(decoder_outputs, dim=-1)\n",
    "        \n",
    "        return decoder_outputs, decoder_hidden, None # return non for consistency\n",
    "    \n",
    "    def forward_step(self, input, hidden):\n",
    "        output = self.embedding(input)\n",
    "        output = F.relu(output)\n",
    "        output, hidden = self.gru(output, hidden)\n",
    "        output = self.out(output)\n",
    "        \n",
    "        return output, hidden\n",
    "        "
   ]
  },
  {
   "cell_type": "markdown",
   "metadata": {},
   "source": [
    "## Attention"
   ]
  },
  {
   "cell_type": "code",
   "execution_count": 25,
   "metadata": {},
   "outputs": [],
   "source": [
    "class BahdanauAttention(nn.Module):\n",
    "    def __init__(self, hidden_size):\n",
    "        super(BahdanauAttention, self).__init__()\n",
    "        self.Wa = nn.Linear(hidden_size, hidden_size)\n",
    "        self.Ua = nn.Linear(hidden_size, hidden_size)\n",
    "        self.Va = nn.Linear(hidden_size, 1)\n",
    "\n",
    "    def forward(self, query, keys):\n",
    "        scores = self.Va(torch.tanh(self.Wa(query) + self.Ua(keys)))\n",
    "        scores = scores.squeeze(2).unsqueeze(1)\n",
    "\n",
    "        weights = F.softmax(scores, dim=-1)\n",
    "        context = torch.bmm(weights, keys)\n",
    "\n",
    "        return context, weights\n",
    "\n",
    "class AttnDecoderRNN(nn.Module):\n",
    "    def __init__(self, hidden_size, output_size, dropout_p=0.1):\n",
    "        super(AttnDecoderRNN, self).__init__()\n",
    "        self.embedding = nn.Embedding(output_size, hidden_size)\n",
    "        self.attention = BahdanauAttention(hidden_size)\n",
    "        self.gru = nn.GRU(2 * hidden_size, hidden_size, batch_first=True)\n",
    "        self.out = nn.Linear(hidden_size, output_size)\n",
    "        self.dropout = nn.Dropout(dropout_p)\n",
    "\n",
    "    def forward(self, encoder_outputs, encoder_hidden, target_tensor=None):\n",
    "        batch_size = encoder_outputs.size(0)\n",
    "        decoder_input = torch.empty(batch_size, 1, dtype=torch.long, device=device).fill_(SOS_token)\n",
    "        decoder_hidden = encoder_hidden\n",
    "        decoder_outputs = []\n",
    "        attentions = []\n",
    "\n",
    "        for i in range(MAX_SEQUENCE_LENGTH):\n",
    "            decoder_output, decoder_hidden, attn_weights = self.forward_step(\n",
    "                decoder_input, decoder_hidden, encoder_outputs\n",
    "            )\n",
    "            decoder_outputs.append(decoder_output)\n",
    "            attentions.append(attn_weights)\n",
    "\n",
    "            if target_tensor is not None:\n",
    "                # Teacher forcing: Feed the target as the next input\n",
    "                decoder_input = target_tensor[:, i].unsqueeze(1) # Teacher forcing\n",
    "            else:\n",
    "                # Without teacher forcing: use its own predictions as the next input\n",
    "                _, topi = decoder_output.topk(1)\n",
    "                decoder_input = topi.squeeze(-1).detach()  # detach from history as input\n",
    "\n",
    "        decoder_outputs = torch.cat(decoder_outputs, dim=1)\n",
    "        decoder_outputs = F.log_softmax(decoder_outputs, dim=-1)\n",
    "        attentions = torch.cat(attentions, dim=1)\n",
    "\n",
    "        return decoder_outputs, decoder_hidden, attentions\n",
    "\n",
    "\n",
    "    def forward_step(self, input, hidden, encoder_outputs):\n",
    "        embedded =  self.dropout(self.embedding(input))\n",
    "\n",
    "        query = hidden.permute(1, 0, 2)\n",
    "        context, attn_weights = self.attention(query, encoder_outputs)\n",
    "        input_gru = torch.cat((embedded, context), dim=2)\n",
    "\n",
    "        output, hidden = self.gru(input_gru, hidden)\n",
    "        output = self.out(output)\n",
    "\n",
    "        return output, hidden, attn_weights"
   ]
  },
  {
   "cell_type": "markdown",
   "metadata": {},
   "source": [
    "## Training"
   ]
  },
  {
   "cell_type": "code",
   "execution_count": 26,
   "metadata": {},
   "outputs": [
    {
     "data": {
      "text/plain": [
       "{'<SOS>': 0,\n",
       " '<EOS>': 1,\n",
       " '<UNK>': 2,\n",
       " 'namaste': 3,\n",
       " 'hello': 4,\n",
       " 'k': 5,\n",
       " 'cha': 6,\n",
       " '?': 7,\n",
       " 'kasto': 8,\n",
       " 'chha': 9,\n",
       " 'hi': 10,\n",
       " 'good': 11,\n",
       " 'morning': 12,\n",
       " 'afternoon': 13,\n",
       " 'evening': 14,\n",
       " 'sanchai': 15,\n",
       " 'ma': 16,\n",
       " 'tapai': 17,\n",
       " 'lai': 18,\n",
       " 'kasari': 19,\n",
       " 'madat': 20,\n",
       " 'garna': 21,\n",
       " 'sakchu': 22,\n",
       " 'ke': 23,\n",
       " 'hunuhunchha': 24,\n",
       " 'chhu': 25,\n",
       " 'sab': 26,\n",
       " 'thikai': 27,\n",
       " 'chahincha': 28,\n",
       " 'namaskar': 29,\n",
       " 'din': 30,\n",
       " 'bhayo': 31,\n",
       " 'ko': 32,\n",
       " 'day': 33,\n",
       " 'hunu': 34,\n",
       " 'hunchha': 35,\n",
       " 'sabai': 36,\n",
       " '!': 37,\n",
       " 'aaj': 38}"
      ]
     },
     "execution_count": 26,
     "metadata": {},
     "output_type": "execute_result"
    }
   ],
   "source": [
    "question_data_class.word2index"
   ]
  },
  {
   "cell_type": "code",
   "execution_count": 27,
   "metadata": {},
   "outputs": [],
   "source": [
    "def convert_to_ids(type: QuestionAnswer, sentence: str):\n",
    "    ids = []\n",
    "    for word in sentence.split():\n",
    "        try:\n",
    "            ids.append(type.word2index[word])\n",
    "        except KeyError:\n",
    "            ids.append(type.word2index[\"<UNK>\"])\n",
    "            \n",
    "    return ids"
   ]
  },
  {
   "cell_type": "code",
   "execution_count": 28,
   "metadata": {},
   "outputs": [
    {
     "data": {
      "text/plain": [
       "[2, 2, 2, 2]"
      ]
     },
     "execution_count": 28,
     "metadata": {},
     "output_type": "execute_result"
    }
   ],
   "source": [
    "convert_to_ids(question_data_class, \"Hello how are you\")"
   ]
  },
  {
   "cell_type": "code",
   "execution_count": 29,
   "metadata": {},
   "outputs": [],
   "source": [
    "def tensor_from_sentence(type: QuestionAnswer, sentence: str):\n",
    "    ids = convert_to_ids(type, sentence)\n",
    "    ids.append(EOS_token)\n",
    "    return torch.tensor(ids, dtype=torch.long, device=device).view(1, -1)"
   ]
  },
  {
   "cell_type": "code",
   "execution_count": 30,
   "metadata": {},
   "outputs": [
    {
     "data": {
      "text/plain": [
       "tensor([[2, 2, 2, 1]])"
      ]
     },
     "execution_count": 30,
     "metadata": {},
     "output_type": "execute_result"
    }
   ],
   "source": [
    "tensor_from_sentence(question_data_class, \"what you do?\")"
   ]
  },
  {
   "cell_type": "code",
   "execution_count": 31,
   "metadata": {},
   "outputs": [],
   "source": [
    "def tensor_from_pair(pair):\n",
    "    \"\"\"\n",
    "    Takes question answer pair and return ids\n",
    "    \"\"\"\n",
    "    input_tensor = tensor_from_sentence(question_data_class, pair[0])\n",
    "    target_tensor = tensor_from_sentence(answer_data_class, pair[1])\n",
    "    \n",
    "    return (input_tensor, target_tensor)"
   ]
  },
  {
   "cell_type": "code",
   "execution_count": 32,
   "metadata": {},
   "outputs": [
    {
     "data": {
      "text/plain": [
       "(tensor([[2, 2, 2, 2, 1]]), tensor([[2, 2, 2, 1]]))"
      ]
     },
     "execution_count": 32,
     "metadata": {},
     "output_type": "execute_result"
    }
   ],
   "source": [
    "tensor_from_pair([\"Hello how are you?\", \"I am fine\"])"
   ]
  },
  {
   "cell_type": "code",
   "execution_count": 33,
   "metadata": {},
   "outputs": [],
   "source": [
    "def get_dataloader(batch_size):\n",
    "    question_data_class, output_data_class, pairs = prepareData(question=questions, answer=answers)\n",
    "    \n",
    "    n = len(pairs)\n",
    "    input_ids = np.zeros((n, MAX_SEQUENCE_LENGTH), dtype=np.int32)\n",
    "    target_ids = np.zeros((n, MAX_SEQUENCE_LENGTH), dtype=np.int32)\n",
    "    \n",
    "    for idx, (ipt, tgt) in enumerate(pairs):\n",
    "        inp_ids = convert_to_ids(question_data_class, ipt)\n",
    "        tar_ids = convert_to_ids(answer_data_class, tgt)\n",
    "        inp_ids.append(EOS_token)\n",
    "        tar_ids.append(EOS_token)\n",
    "        input_ids[idx, :len(inp_ids)] = inp_ids\n",
    "        target_ids[idx, :len(tar_ids)] = tar_ids\n",
    "        \n",
    "    print(input_ids.shape)\n",
    "    print(target_ids.shape)\n",
    "        \n",
    "    train_data = TensorDataset(\n",
    "        torch.LongTensor(input_ids).to(device),\n",
    "        torch.LongTensor(target_ids).to(device)\n",
    "    )\n",
    "    train_sampler = RandomSampler(train_data)\n",
    "    \n",
    "    train_data_loader = DataLoader(train_data, sampler=train_sampler, batch_size=batch_size)\n",
    "    return question_data_class, answer_data_class, train_data_loader"
   ]
  },
  {
   "cell_type": "code",
   "execution_count": 34,
   "metadata": {},
   "outputs": [
    {
     "name": "stdout",
     "output_type": "stream",
     "text": [
      "Question and Answer 39 39\n",
      "(500, 30)\n",
      "(500, 30)\n"
     ]
    }
   ],
   "source": [
    "q, a, t = get_dataloader(2)"
   ]
  },
  {
   "cell_type": "code",
   "execution_count": 35,
   "metadata": {},
   "outputs": [],
   "source": [
    "i_, t_ = next(iter(t))"
   ]
  },
  {
   "cell_type": "code",
   "execution_count": 36,
   "metadata": {},
   "outputs": [
    {
     "data": {
      "text/plain": [
       "tensor([[ 2,  8,  2,  1,  0,  0,  0,  0,  0,  0,  0,  0,  0,  0,  0,  0,  0,  0,\n",
       "          0,  0,  0,  0,  0,  0,  0,  0,  0,  0,  0,  0],\n",
       "        [ 2, 26, 27,  2,  1,  0,  0,  0,  0,  0,  0,  0,  0,  0,  0,  0,  0,  0,\n",
       "          0,  0,  0,  0,  0,  0,  0,  0,  0,  0,  0,  0]])"
      ]
     },
     "execution_count": 36,
     "metadata": {},
     "output_type": "execute_result"
    }
   ],
   "source": [
    "i_"
   ]
  },
  {
   "cell_type": "code",
   "execution_count": 37,
   "metadata": {},
   "outputs": [
    {
     "data": {
      "text/plain": [
       "tensor([[ 2, 26,  2,  6,  7,  8,  9, 10,  2,  1,  0,  0,  0,  0,  0,  0,  0,  0,\n",
       "          0,  0,  0,  0,  0,  0,  0,  0,  0,  0,  0,  0],\n",
       "        [ 2,  2, 17,  2,  6,  7,  8,  9, 10,  2,  1,  0,  0,  0,  0,  0,  0,  0,\n",
       "          0,  0,  0,  0,  0,  0,  0,  0,  0,  0,  0,  0]])"
      ]
     },
     "execution_count": 37,
     "metadata": {},
     "output_type": "execute_result"
    }
   ],
   "source": [
    "t_"
   ]
  },
  {
   "cell_type": "code",
   "execution_count": 38,
   "metadata": {},
   "outputs": [],
   "source": [
    "def train_epoch(dataloader, encoder, decoder, encoder_optimizer, decoder_optimizer, criterion):\n",
    "    total_loss = 0\n",
    "    for data in dataloader:\n",
    "        input_tensor, target_tensor = data\n",
    "        \n",
    "        encoder_optimizer.zero_grad()\n",
    "        decoder_optimizer.zero_grad()\n",
    "        \n",
    "        encoder_outputs, encoder_hidden = encoder(input_tensor)\n",
    "        decoder_outputs, _, _ = decoder(encoder_outputs, encoder_hidden, target_tensor)\n",
    "        \n",
    "        loss = criterion(\n",
    "            decoder_outputs.view(-1, decoder_outputs.size(-1)),\n",
    "            target_tensor.view(-1)\n",
    "        )\n",
    "        loss.backward()\n",
    "\n",
    "        encoder_optimizer.step()\n",
    "        decoder_optimizer.step()\n",
    "\n",
    "        total_loss += loss.item()\n",
    "\n",
    "    return total_loss / len(dataloader)"
   ]
  },
  {
   "cell_type": "code",
   "execution_count": 39,
   "metadata": {},
   "outputs": [],
   "source": [
    "import time\n",
    "import math\n",
    "\n",
    "def asMinutes(s):\n",
    "    m = math.floor(s / 60)\n",
    "    s -= m * 60\n",
    "    return '%dm %ds' % (m, s)\n",
    "\n",
    "def timeSince(since, percent):\n",
    "    now = time.time()\n",
    "    s = now - since\n",
    "    es = s / (percent)\n",
    "    rs = es - s\n",
    "    return '%s (- %s)' % (asMinutes(s), asMinutes(rs))"
   ]
  },
  {
   "cell_type": "markdown",
   "metadata": {},
   "source": [
    "## training loop"
   ]
  },
  {
   "cell_type": "code",
   "execution_count": 40,
   "metadata": {},
   "outputs": [],
   "source": [
    "def train(train_dataloader, encoder, decoder, n_epochs, learning_rate=0.001,\n",
    "               print_every=100, plot_every=100):\n",
    "    start = time.time()\n",
    "    plot_losses = []\n",
    "    print_loss_total = 0  # Reset every print_every\n",
    "    plot_loss_total = 0  # Reset every plot_every\n",
    "\n",
    "    encoder_optimizer = optim.Adam(encoder.parameters(), lr=learning_rate)\n",
    "    decoder_optimizer = optim.Adam(decoder.parameters(), lr=learning_rate)\n",
    "    criterion = nn.NLLLoss()\n",
    "\n",
    "    for epoch in range(1, n_epochs + 1):\n",
    "        loss = train_epoch(train_dataloader, encoder, decoder, encoder_optimizer, decoder_optimizer, criterion)\n",
    "        print_loss_total += loss\n",
    "        plot_loss_total += loss\n",
    "\n",
    "        if epoch % print_every == 0:\n",
    "            print_loss_avg = print_loss_total / print_every\n",
    "            print_loss_total = 0\n",
    "            print('%s (%d %d%%) %.4f' % (timeSince(start, epoch / n_epochs),\n",
    "                                        epoch, epoch / n_epochs * 100, print_loss_avg))\n",
    "\n",
    "        if epoch % plot_every == 0:\n",
    "            plot_loss_avg = plot_loss_total / plot_every\n",
    "            plot_losses.append(plot_loss_avg)\n",
    "            plot_loss_total = 0"
   ]
  },
  {
   "cell_type": "markdown",
   "metadata": {},
   "source": [
    "## Plot"
   ]
  },
  {
   "cell_type": "code",
   "execution_count": 41,
   "metadata": {},
   "outputs": [],
   "source": [
    "import matplotlib.pyplot as plt\n",
    "plt.switch_backend('agg')\n",
    "import matplotlib.ticker as ticker\n",
    "import numpy as np\n",
    "\n",
    "def showPlot(points):\n",
    "    plt.figure()\n",
    "    fig, ax = plt.subplots()\n",
    "    # this locator puts ticks at regular intervals\n",
    "    loc = ticker.MultipleLocator(base=0.2)\n",
    "    ax.yaxis.set_major_locator(loc)\n",
    "    plt.plot(points)"
   ]
  },
  {
   "cell_type": "code",
   "execution_count": 42,
   "metadata": {},
   "outputs": [
    {
     "name": "stdout",
     "output_type": "stream",
     "text": [
      "Question and Answer 39 39\n",
      "(500, 30)\n",
      "(500, 30)\n"
     ]
    }
   ],
   "source": [
    "hidden_size = 128\n",
    "batch_size = 4\n",
    "\n",
    "question_data_class, answer_data_class, train_data_loader = get_dataloader(batch_size)\n",
    "\n",
    "encoder = Encoder(question_data_class.n_words, hidden_size).to(device)\n",
    "decoder = AttnDecoderRNN(hidden_size, answer_data_class.n_words).to(device)"
   ]
  },
  {
   "cell_type": "code",
   "execution_count": 43,
   "metadata": {},
   "outputs": [
    {
     "name": "stdout",
     "output_type": "stream",
     "text": [
      "0m 7s (- 1m 9s) (1 10%) 0.4749\n",
      "0m 14s (- 0m 56s) (2 20%) 0.1435\n",
      "0m 20s (- 0m 47s) (3 30%) 0.0952\n",
      "0m 26s (- 0m 39s) (4 40%) 0.0557\n",
      "0m 32s (- 0m 32s) (5 50%) 0.0409\n",
      "0m 39s (- 0m 26s) (6 60%) 0.0324\n",
      "0m 45s (- 0m 19s) (7 70%) 0.0298\n",
      "0m 51s (- 0m 12s) (8 80%) 0.0267\n",
      "0m 58s (- 0m 6s) (9 90%) 0.0248\n",
      "1m 4s (- 0m 0s) (10 100%) 0.0225\n"
     ]
    }
   ],
   "source": [
    "train(train_dataloader=train_data_loader,n_epochs=10, encoder=encoder, decoder=decoder, print_every=1, plot_every=1)"
   ]
  },
  {
   "cell_type": "markdown",
   "metadata": {},
   "source": [
    "## Evaluate"
   ]
  },
  {
   "cell_type": "code",
   "execution_count": 44,
   "metadata": {},
   "outputs": [
    {
     "data": {
      "text/plain": [
       "AttnDecoderRNN(\n",
       "  (embedding): Embedding(39, 128)\n",
       "  (attention): BahdanauAttention(\n",
       "    (Wa): Linear(in_features=128, out_features=128, bias=True)\n",
       "    (Ua): Linear(in_features=128, out_features=128, bias=True)\n",
       "    (Va): Linear(in_features=128, out_features=1, bias=True)\n",
       "  )\n",
       "  (gru): GRU(256, 128, batch_first=True)\n",
       "  (out): Linear(in_features=128, out_features=39, bias=True)\n",
       "  (dropout): Dropout(p=0.1, inplace=False)\n",
       ")"
      ]
     },
     "execution_count": 44,
     "metadata": {},
     "output_type": "execute_result"
    }
   ],
   "source": [
    "encoder.eval()\n",
    "decoder.eval()"
   ]
  },
  {
   "cell_type": "code",
   "execution_count": 45,
   "metadata": {},
   "outputs": [
    {
     "data": {
      "text/plain": [
       "tensor([[4, 1]])"
      ]
     },
     "execution_count": 45,
     "metadata": {},
     "output_type": "execute_result"
    }
   ],
   "source": [
    "input_question = \"hello\"\n",
    "normalized_input_question = normalizeString(input_question)\n",
    "question_ids_tensor = tensor_from_sentence(question_data_class,normalized_input_question)\n",
    "\n",
    "question_ids_tensor"
   ]
  },
  {
   "cell_type": "code",
   "execution_count": 46,
   "metadata": {},
   "outputs": [],
   "source": [
    "encoder_outputs, encoder_hidden = encoder(question_ids_tensor)"
   ]
  },
  {
   "cell_type": "code",
   "execution_count": 47,
   "metadata": {},
   "outputs": [
    {
     "data": {
      "text/plain": [
       "(torch.Size([1, 2, 128]), torch.Size([1, 1, 128]))"
      ]
     },
     "execution_count": 47,
     "metadata": {},
     "output_type": "execute_result"
    }
   ],
   "source": [
    "encoder_outputs.shape, encoder_hidden.shape"
   ]
  },
  {
   "cell_type": "code",
   "execution_count": 48,
   "metadata": {},
   "outputs": [],
   "source": [
    "decoder_outputs, decoder_hidden, decoder_attention = decoder(encoder_outputs, encoder_hidden)"
   ]
  },
  {
   "cell_type": "code",
   "execution_count": 49,
   "metadata": {},
   "outputs": [
    {
     "data": {
      "text/plain": [
       "(torch.Size([1, 30, 39]), torch.Size([1, 1, 128]), torch.Size([1, 30, 2]))"
      ]
     },
     "execution_count": 49,
     "metadata": {},
     "output_type": "execute_result"
    }
   ],
   "source": [
    "decoder_outputs.shape, decoder_hidden.shape, decoder_attention.shape"
   ]
  },
  {
   "cell_type": "code",
   "execution_count": 50,
   "metadata": {},
   "outputs": [
    {
     "data": {
      "text/plain": [
       "tensor([0, 0, 0, 0, 0, 0, 0, 0, 0, 0, 0, 0, 0, 0, 0, 0, 0, 0, 0, 0, 0, 0, 0, 0,\n",
       "        0, 0, 0, 0, 0, 0])"
      ]
     },
     "execution_count": 50,
     "metadata": {},
     "output_type": "execute_result"
    }
   ],
   "source": [
    "_, topi = decoder_outputs.topk(1)\n",
    "output_ids = topi.squeeze()\n",
    "\n",
    "output_ids"
   ]
  },
  {
   "cell_type": "code",
   "execution_count": 51,
   "metadata": {},
   "outputs": [
    {
     "data": {
      "text/plain": [
       "'<SOS> <SOS> <SOS> <SOS> <SOS> <SOS> <SOS> <SOS> <SOS> <SOS> <SOS> <SOS> <SOS> <SOS> <SOS> <SOS> <SOS> <SOS> <SOS> <SOS> <SOS> <SOS> <SOS> <SOS> <SOS> <SOS> <SOS> <SOS> <SOS> <SOS>'"
      ]
     },
     "execution_count": 51,
     "metadata": {},
     "output_type": "execute_result"
    }
   ],
   "source": [
    "decoded_words = []\n",
    "for idx in output_ids:\n",
    "    if idx.item() == EOS_token:\n",
    "        decoded_words.append(\"EOS\")\n",
    "        break\n",
    "    decoded_words.append(answer_data_class.index2word[idx.item()])\n",
    "\n",
    "\" \".join(decoded_words)"
   ]
  },
  {
   "cell_type": "code",
   "execution_count": 52,
   "metadata": {},
   "outputs": [],
   "source": [
    "def evaluate(encoder, decoder, sentence, question_class, answer_class):\n",
    "    with torch.no_grad():\n",
    "        input_tensor = tensor_from_sentence(question_class, sentence)\n",
    "\n",
    "        encoder_outputs, encoder_hidden = encoder(input_tensor)\n",
    "        decoder_outputs, decoder_hidden, decoder_attn = decoder(encoder_outputs, encoder_hidden)\n",
    "\n",
    "        _, topi = decoder_outputs.topk(1)\n",
    "        decoded_ids = topi.squeeze()\n",
    "\n",
    "        decoded_words = []\n",
    "        for idx in decoded_ids:\n",
    "            if idx.item() == EOS_token:\n",
    "                decoded_words.append('<EOS>')\n",
    "                break\n",
    "            decoded_words.append(answer_class.index2word[idx.item()])\n",
    "    return decoded_words, decoder_attn"
   ]
  },
  {
   "cell_type": "code",
   "execution_count": 53,
   "metadata": {},
   "outputs": [],
   "source": [
    "def chat(sentence):\n",
    "    answer, attention = evaluate(encoder, decoder, sentence, question_data_class, answer_data_class)\n",
    "    print(\" \".join(answer))"
   ]
  },
  {
   "cell_type": "code",
   "execution_count": 56,
   "metadata": {},
   "outputs": [
    {
     "name": "stdout",
     "output_type": "stream",
     "text": [
      "<SOS> <SOS> <SOS> <SOS> <SOS> <SOS> <SOS> <SOS> <SOS> <SOS> <SOS> <SOS> <SOS> <SOS> <SOS> <SOS> <SOS> <SOS> <SOS> <SOS> <SOS> <SOS> <SOS> <SOS> <SOS> <SOS> <SOS> <SOS> <SOS> <SOS>\n"
     ]
    }
   ],
   "source": [
    "chat(\"hi\")"
   ]
  }
 ],
 "metadata": {
  "kernelspec": {
   "display_name": "Python 3",
   "language": "python",
   "name": "python3"
  },
  "language_info": {
   "codemirror_mode": {
    "name": "ipython",
    "version": 3
   },
   "file_extension": ".py",
   "mimetype": "text/x-python",
   "name": "python",
   "nbconvert_exporter": "python",
   "pygments_lexer": "ipython3",
   "version": "3.12.1"
  }
 },
 "nbformat": 4,
 "nbformat_minor": 2
}
