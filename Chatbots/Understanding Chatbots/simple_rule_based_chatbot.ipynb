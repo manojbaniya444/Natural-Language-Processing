{
 "cells": [
  {
   "cell_type": "markdown",
   "metadata": {},
   "source": [
    "# Rule Based Bot"
   ]
  },
  {
   "cell_type": "code",
   "execution_count": 1,
   "metadata": {},
   "outputs": [],
   "source": [
    "import re\n",
    "import random"
   ]
  },
  {
   "cell_type": "code",
   "execution_count": 29,
   "metadata": {},
   "outputs": [],
   "source": [
    "class RuleBot:\n",
    "    # Potential Negative Responses\n",
    "    negative_responses = (\"no\", \"nope\", \"nah\", \"naw\", \"not a chance\", \"sorry\")\n",
    "    # Exit conversation keywords\n",
    "    exit_commands = (\"quit\", \"pause\", \"exit\", \"goodbye\", \"bye\", \"later\")\n",
    "    # Random starter question\n",
    "    random_questions = (\n",
    "        \"why are you here?\",\n",
    "        \"Are there many humans like you?\",\n",
    "        \"What do you consume for sustenance?\",\n",
    "        \"Is there intelligent life on this planet?\",\n",
    "        \"Does Earth have a leader?\",\n",
    "        \"What planets have you visited?\",\n",
    "        \"What technology do you have on this planet?\"\n",
    "    )\n",
    "    \n",
    "    def __init__(self):\n",
    "        # all intents\n",
    "        self.alienbabble = {\n",
    "            'describe_planet_intent': r'.*\\s*your planet.*',\n",
    "            'answer_why_intent': r'.*why\\s*',\n",
    "            'about_ai_intent': r'.*about.*(\\d+)',\n",
    "        }\n",
    "        \n",
    "    def greet(self):\n",
    "        self.name = input(\"Hello, what is your name?\")\n",
    "        will_help = input(\n",
    "            f\"Hi {self.name}, I am a bot. Will you help me learn about your planet?\\n\"\n",
    "\n",
    "        )\n",
    "        if will_help in self.negative_responses:\n",
    "            print(\"Ok, have a nice day!\")\n",
    "            return\n",
    "        self.chat()\n",
    "        \n",
    "    def make_exit(self, reply):\n",
    "        # exit if the user command is one of the exit command.\n",
    "        for command in self.exit_commands:\n",
    "            if reply == command:\n",
    "                print(\"Okay, have a nice Earth day.\")\n",
    "                return True\n",
    "\n",
    "    def chat(self):\n",
    "        reply = input(random.choice(self.random_questions)).lower()\n",
    "        print(reply)\n",
    "        while not self.make_exit(reply):\n",
    "            reply = input(self.match_reply(reply))\n",
    "            print(reply)\n",
    "            \n",
    "    def match_reply(self, reply):\n",
    "        for key, value in self.alienbabble.items():\n",
    "            intent = key\n",
    "            regex_pattern = value\n",
    "            found_match = re.match(regex_pattern, reply)\n",
    "            if found_match and intent == \"describe_planet_intent\":\n",
    "                return self.describe_planet_intent()\n",
    "            elif found_match and intent == \"answer_why_intent\":\n",
    "                return self.answer_why_intent()\n",
    "            elif found_match and intent == \"about_ai_intent\":\n",
    "                return self.about_ai_intent()\n",
    "            if not found_match:\n",
    "                return self.no_intent()\n",
    "            \n",
    "    def describe_planet_intent(self):\n",
    "        responses = (\"My planet is a utopia of diverse organisms and species.\\n\",\n",
    "        \"I am from opidipus, the capital of the wayward galaxies.\\n\")\n",
    "        response =  random.choice(responses)\n",
    "        print(response)\n",
    "        return response\n",
    "    \n",
    "    def answer_why_intent(self):\n",
    "        responses = (\"I come in peace\\n\",\"I am here to collect data on your planet and its inhabitants\\n\",\"I heard the coffee is good here\\n\")\n",
    "        response =  random.choice(responses)\n",
    "        print(response)\n",
    "        return response\n",
    "    \n",
    "    def about_ai_intent(self):\n",
    "        responses = (\n",
    "            \"AI is making machine intelligent and capable to think like human.\\n\",\n",
    "            \"AI (Artificial Intelligence) is a branch of computer science that deals with making machine intelligent.\\n\"\n",
    "            \"AI is Artificial Intelligence.\\n\"\n",
    "        )\n",
    "        response =  random.choice(responses)\n",
    "        print(response)\n",
    "        return response\n",
    "    \n",
    "    def no_intent(self):\n",
    "        responses = (\n",
    "            \"Sorry I did not get that.\\n\",\n",
    "            \"I am really sorry, I did not understand you said I need to learn more.\\n\"\n",
    "        )\n",
    "        return random.choice(responses)"
   ]
  },
  {
   "cell_type": "code",
   "execution_count": 30,
   "metadata": {},
   "outputs": [],
   "source": [
    "alienbot = RuleBot()"
   ]
  },
  {
   "cell_type": "code",
   "execution_count": 31,
   "metadata": {},
   "outputs": [
    {
     "name": "stdout",
     "output_type": "stream",
     "text": [
      "what is ai\n",
      "write about ai\n",
      "why are you here\n",
      "tell me about your planet.\n",
      "I am from opidipus, the capital of the wayward galaxies.\n",
      "\n",
      "why are you  here\n",
      "your planet.\n",
      "I am from opidipus, the capital of the wayward galaxies.\n",
      "\n",
      "about.ai\n",
      "tell me about. ai\n",
      "tell about ai\n",
      "why are you here\n",
      "why\n",
      ".why you here\n",
      "bye\n",
      "Okay, have a nice Earth day.\n"
     ]
    }
   ],
   "source": [
    "alienbot.greet()"
   ]
  }
 ],
 "metadata": {
  "kernelspec": {
   "display_name": "Python 3",
   "language": "python",
   "name": "python3"
  },
  "language_info": {
   "codemirror_mode": {
    "name": "ipython",
    "version": 3
   },
   "file_extension": ".py",
   "mimetype": "text/x-python",
   "name": "python",
   "nbconvert_exporter": "python",
   "pygments_lexer": "ipython3",
   "version": "3.12.1"
  }
 },
 "nbformat": 4,
 "nbformat_minor": 2
}
