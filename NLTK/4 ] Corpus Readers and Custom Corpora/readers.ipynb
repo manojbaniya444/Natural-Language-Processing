{
 "cells": [
  {
   "cell_type": "markdown",
   "metadata": {},
   "source": [
    "## What is a corpus?\n",
    "A corpus is a large collection in structured format of machine readable texts that have been produced in a natural communicative setting. The word **Corpora** is a plural form of **corpus**."
   ]
  },
  {
   "cell_type": "markdown",
   "metadata": {},
   "source": [
    "## Building a custom corpus?"
   ]
  },
  {
   "cell_type": "code",
   "execution_count": 1,
   "metadata": {},
   "outputs": [
    {
     "data": {
      "text/plain": [
       "True"
      ]
     },
     "execution_count": 1,
     "metadata": {},
     "output_type": "execute_result"
    }
   ],
   "source": [
    "import os, os.path\n",
    "\n",
    "# creating custom corpora\n",
    "\n",
    "path = os.path.expanduser(\"~/nltk_data\")\n",
    "\n",
    "if not os.path.exists(path):\n",
    "    os.mkdir(path)\n",
    "    \n",
    "os.path.exists(path)"
   ]
  },
  {
   "cell_type": "code",
   "execution_count": 2,
   "metadata": {},
   "outputs": [
    {
     "data": {
      "text/plain": [
       "True"
      ]
     },
     "execution_count": 2,
     "metadata": {},
     "output_type": "execute_result"
    }
   ],
   "source": [
    "# check whether we have nltk_data directory in our home directory or not.\n",
    "\n",
    "import nltk.data\n",
    "path in nltk.data.path"
   ]
  },
  {
   "cell_type": "code",
   "execution_count": 4,
   "metadata": {},
   "outputs": [
    {
     "data": {
      "text/plain": [
       "b'Hi iam from the user home -> nltk_data -> corpus -> wordfile.txt path.'"
      ]
     },
     "execution_count": 4,
     "metadata": {},
     "output_type": "execute_result"
    }
   ],
   "source": [
    "# Now we will make a wordlist file named wordfile.txt and put it in a folder named corpus in nltk_data directory (~/nltk_data/corpus/wordfile.txt) and try to load it using nltk.data.load here\n",
    "\n",
    "import nltk.data\n",
    "\n",
    "nltk.data.load('corpus/wordfile.txt', format='raw')"
   ]
  },
  {
   "cell_type": "markdown",
   "metadata": {},
   "source": [
    "## Corpus readers\n",
    "\n",
    "NLTK provides various readers classes."
   ]
  },
  {
   "cell_type": "code",
   "execution_count": 5,
   "metadata": {},
   "outputs": [],
   "source": [
    "from nltk.corpus.reader import WordListCorpusReader"
   ]
  },
  {
   "cell_type": "code",
   "execution_count": null,
   "metadata": {},
   "outputs": [],
   "source": [
    "reader_corpus = WordListCorpusReader(\".\", [\"list\"])\n",
    "\n",
    "reader_corpus.words()\n",
    "\n",
    "#TODO: this needs to be seen from internet"
   ]
  },
  {
   "cell_type": "markdown",
   "metadata": {},
   "source": [
    "## Creating POS tagged word corpus\n",
    "NLTK has TaggedCorpusReader class with the help of which we can create a POS tagged word corpus. Actually POS tagging is the process of identifying the part-of-speech tag for a word.\n",
    "\n",
    "One of the simplest formats for a tagged corpus is of the form \"word/tag\" like following the brown corpus.\n",
    "\n",
    "\"The /at-tl expense/nn and/cc time/nn involved/vbn are/ber astronomical//jj ./.\"\n",
    "In the above excerpt, each word has a tag which denotes its POS. for example vb refers to a verb nn noun jj adjective."
   ]
  },
  {
   "cell_type": "code",
   "execution_count": 17,
   "metadata": {},
   "outputs": [
    {
     "data": {
      "text/plain": [
       "[('The', None), ('', 'AT-TL'), ('expense', 'NN'), ...]"
      ]
     },
     "execution_count": 17,
     "metadata": {},
     "output_type": "execute_result"
    }
   ],
   "source": [
    "from nltk.corpus.reader import TaggedCorpusReader\n",
    "\n",
    "reader_corpus = TaggedCorpusReader(\".\", r\".*\\.pos\")\n",
    "\n",
    "reader_corpus.tagged_words()"
   ]
  },
  {
   "cell_type": "code",
   "execution_count": 24,
   "metadata": {},
   "outputs": [],
   "source": [
    "from nltk.corpus.reader import ChunkedCorpusReader\n",
    "\n",
    "reader_corpus = TaggedCorpusReader(\".\", r\".*\\.chunk\")\n",
    "\n",
    "# reader_corpus.chunked_words()"
   ]
  },
  {
   "cell_type": "markdown",
   "metadata": {},
   "source": [
    "## Creating Categorized Text Corpus\n",
    "\n",
    "Read from internet."
   ]
  }
 ],
 "metadata": {
  "kernelspec": {
   "display_name": "Python 3",
   "language": "python",
   "name": "python3"
  },
  "language_info": {
   "codemirror_mode": {
    "name": "ipython",
    "version": 3
   },
   "file_extension": ".py",
   "mimetype": "text/x-python",
   "name": "python",
   "nbconvert_exporter": "python",
   "pygments_lexer": "ipython3",
   "version": "3.12.1"
  }
 },
 "nbformat": 4,
 "nbformat_minor": 2
}
