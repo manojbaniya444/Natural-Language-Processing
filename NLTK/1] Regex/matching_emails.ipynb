{
 "cells": [
  {
   "cell_type": "markdown",
   "metadata": {},
   "source": [
    "# Regular Expressions for emails"
   ]
  },
  {
   "cell_type": "code",
   "execution_count": 2,
   "metadata": {},
   "outputs": [],
   "source": [
    "import re"
   ]
  },
  {
   "cell_type": "code",
   "execution_count": 33,
   "metadata": {},
   "outputs": [],
   "source": [
    "pattern = r'[a-z0-9A-Z_]*@[a-z]*\\.[a-z]*'\n",
    "# explanation\n",
    "# [a-z0-9A-Z_]* : * any number of letters, digits, or underscores\n",
    "# @ : matches @\n",
    "# [a-z]* : * any number of letters for domain\n",
    "# \\. : matches .\n",
    "# [a-z] : any letter for domain"
   ]
  },
  {
   "cell_type": "code",
   "execution_count": 5,
   "metadata": {},
   "outputs": [
    {
     "name": "stdout",
     "output_type": "stream",
     "text": [
      "['john@gmail.com']\n"
     ]
    }
   ],
   "source": [
    "chat = \"Hi my email is john@gmail.com and my friend's email is jessica12@gmail!com and his friend email is 12scammer$gmail.com\"\n",
    "\n",
    "matches = re.findall(pattern, chat)\n",
    "print(matches)"
   ]
  },
  {
   "cell_type": "markdown",
   "metadata": {},
   "source": [
    "## getting order number from chat"
   ]
  },
  {
   "cell_type": "code",
   "execution_count": 20,
   "metadata": {},
   "outputs": [],
   "source": [
    "chat1 = \"Hello I am having an issue with my order # 12345. Can you help me?\"\n",
    "chat2 = \"My order number 12345 can you help me track it?\"\n",
    "\n",
    "chat3 = \"I have a question about my order 12345 help me.\""
   ]
  },
  {
   "cell_type": "code",
   "execution_count": 32,
   "metadata": {},
   "outputs": [],
   "source": [
    "pattern1 = r'order[\\D]*\\d*'\n",
    "\n",
    "pattern2 = r'order[\\D]*(\\d*)'\n",
    "\n",
    "# [\\D]* : any number of non-digits\n",
    "# \\d* : any number of digits\n",
    "# () : capture group\n"
   ]
  },
  {
   "cell_type": "code",
   "execution_count": 30,
   "metadata": {},
   "outputs": [
    {
     "name": "stdout",
     "output_type": "stream",
     "text": [
      "['order # 12345']\n",
      "['order number 12345']\n",
      "['order 12345']\n"
     ]
    }
   ],
   "source": [
    "match1 = re.findall(pattern1, chat1)\n",
    "match2 = re.findall(pattern1, chat2)\n",
    "match3 = re.findall(pattern1, chat3)\n",
    "\n",
    "print(match1)\n",
    "print(match2)\n",
    "print(match3)"
   ]
  },
  {
   "cell_type": "code",
   "execution_count": 31,
   "metadata": {},
   "outputs": [
    {
     "name": "stdout",
     "output_type": "stream",
     "text": [
      "['12345']\n",
      "['12345']\n",
      "['12345']\n"
     ]
    }
   ],
   "source": [
    "match1 = re.findall(pattern2, chat1)\n",
    "match2 = re.findall(pattern2, chat2)\n",
    "match3 = re.findall(pattern2, chat3)\n",
    "\n",
    "print(match1)\n",
    "print(match2)\n",
    "print(match3)\n"
   ]
  }
 ],
 "metadata": {
  "kernelspec": {
   "display_name": "Python 3",
   "language": "python",
   "name": "python3"
  },
  "language_info": {
   "codemirror_mode": {
    "name": "ipython",
    "version": 3
   },
   "file_extension": ".py",
   "mimetype": "text/x-python",
   "name": "python",
   "nbconvert_exporter": "python",
   "pygments_lexer": "ipython3",
   "version": "3.12.1"
  }
 },
 "nbformat": 4,
 "nbformat_minor": 2
}
