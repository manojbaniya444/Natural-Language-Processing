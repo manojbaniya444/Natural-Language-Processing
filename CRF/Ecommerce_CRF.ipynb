{
 "cells": [
  {
   "cell_type": "markdown",
   "metadata": {},
   "source": [
    "## Entity Recognition for Ecommerce Chatbot"
   ]
  },
  {
   "cell_type": "code",
   "execution_count": 1,
   "metadata": {},
   "outputs": [],
   "source": [
    "feature_dict = {\n",
    "    \"brands\": [\n",
    "        \"redmi\", \"samsung\", \"casio\", \"apple\"\n",
    "    ],\n",
    "    \"category\": [\n",
    "        \"smartphone\", \"mobile\", \"phone\", \"watch\", \"calculator\", \"laptop\", \"television\", \"tv\", \"computer\", \"headphone\"\n",
    "    ]\n",
    "}"
   ]
  },
  {
   "cell_type": "code",
   "execution_count": 2,
   "metadata": {},
   "outputs": [
    {
     "data": {
      "text/plain": [
       "False"
      ]
     },
     "execution_count": 2,
     "metadata": {},
     "output_type": "execute_result"
    }
   ],
   "source": [
    "\"ORD123\".isdigit()"
   ]
  },
  {
   "cell_type": "markdown",
   "metadata": {},
   "source": [
    "## Features"
   ]
  },
  {
   "cell_type": "code",
   "execution_count": 3,
   "metadata": {},
   "outputs": [],
   "source": [
    "def get_word_shape(word):\n",
    "    shape = \"\"\n",
    "    last_char_type = \"\"\n",
    "    \n",
    "    for char in word:\n",
    "        if char.isupper():\n",
    "            char_type = \"X\"\n",
    "        elif char.islower():\n",
    "            char_type = \"x\"\n",
    "        elif char.isdigit():\n",
    "            char_type = \"d\"\n",
    "        else:\n",
    "            char_type = char\n",
    "        if char_type != last_char_type:\n",
    "            shape += char_type\n",
    "            last_char_type = char_type\n",
    "            \n",
    "    return shape"
   ]
  },
  {
   "cell_type": "code",
   "execution_count": 6,
   "metadata": {},
   "outputs": [
    {
     "data": {
      "text/plain": [
       "('Xd', 'X', 'Xdx')"
      ]
     },
     "execution_count": 6,
     "metadata": {},
     "output_type": "execute_result"
    }
   ],
   "source": [
    "get_word_shape(\"ORD123\"), get_word_shape(\"ORD\"), get_word_shape(\"ORD123abc\")"
   ]
  },
  {
   "cell_type": "code",
   "execution_count": 8,
   "metadata": {},
   "outputs": [
    {
     "data": {
      "text/plain": [
       "'xXdxdx'"
      ]
     },
     "execution_count": 8,
     "metadata": {},
     "output_type": "execute_result"
    }
   ],
   "source": [
    "get_word_shape(\"oO11o1o\")"
   ]
  },
  {
   "cell_type": "code",
   "execution_count": 10,
   "metadata": {},
   "outputs": [],
   "source": [
    "import re\n",
    "\n",
    "def get_ecommerce_features(sentence: list[str] , index: int) -> dict:\n",
    "    \"\"\"\n",
    "    Creates a feature dictionary for a given word in a sentence.\n",
    "    \n",
    "    Args:\n",
    "    sentence: list of words in a sentence\n",
    "    index: index of the word in the sentence\n",
    "    Returns:\n",
    "    dict: features\n",
    "    \"\"\"\n",
    "    features = dict()\n",
    "    word = sentence[index]\n",
    "    \n",
    "    features.update(\n",
    "        {\n",
    "            \"has_number\": bool(re.search(r\"\\d\", word)),\n",
    "            \"is_brand\": word.lower() in feature_dict[\"brands\"],\n",
    "            \"is_category\": word.lower() in feature_dict[\"category\"],\n",
    "            \"word_shape\": get_word_shape(word)\n",
    "        }\n",
    "    )\n",
    "    \n",
    "    if index < len(sentence) - 1:\n",
    "        word_next = sentence[index + 1]\n",
    "        features.update({\n",
    "            \"next_word.lower\": word_next.lower(),\n",
    "            \"next_word.istitle\": word_next.istitle(),\n",
    "            \"next_word.isupper\": word_next.isupper(),\n",
    "            \"next_word.isdigit\": word_next.isdigit()\n",
    "        })\n",
    "    else:\n",
    "        features[\"EOS\"] = True\n",
    "    \n",
    "    if index > 0:\n",
    "        word_prev = sentence[index - 1]\n",
    "        features.update({\n",
    "            \"prev_word.lower\": word_prev.lower(),\n",
    "            \"prev_word.istitle\": word_prev.istitle(),\n",
    "            \"prev_word.isupper\": word_prev.isupper(),\n",
    "            \"prev_word.isdigit\": word_prev.isdigit()\n",
    "        })\n",
    "    else:\n",
    "        features[\"BOS\"] = True\n",
    "        \n",
    "    return features"
   ]
  }
 ],
 "metadata": {
  "kernelspec": {
   "display_name": "Python 3",
   "language": "python",
   "name": "python3"
  },
  "language_info": {
   "codemirror_mode": {
    "name": "ipython",
    "version": 3
   },
   "file_extension": ".py",
   "mimetype": "text/x-python",
   "name": "python",
   "nbconvert_exporter": "python",
   "pygments_lexer": "ipython3",
   "version": "3.12.1"
  }
 },
 "nbformat": 4,
 "nbformat_minor": 2
}
