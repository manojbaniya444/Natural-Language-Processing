{
 "cells": [
  {
   "cell_type": "markdown",
   "metadata": {},
   "source": [
    "## Preparing Dataset"
   ]
  },
  {
   "cell_type": "code",
   "execution_count": 79,
   "metadata": {},
   "outputs": [],
   "source": [
    "# Training example\n",
    "sentences = [\n",
    "    [\"tapaiko\", \"storema\", \"Redmi\", \"Note\", \"9\", \"Pro\", \"mobile\", \"xa\"],\n",
    "    [\"Redmi\", \"9\", \"ko\", \"price\", \"kati\", \"ho\"],\n",
    "    [\"Samsung\", \"ko\", \"mobile\", \"kati\", \"ho\"],\n",
    "    [\"mero\", \"order\", \"number\", \"ORD1234\", \"track\", \"garidinu\"],\n",
    "    [\"Redmi\", \"phone\", \"kati\", \"ho\"],\n",
    "    [\"Redmi\", \"ra\", \"Samsung\", \"ko\", \"mobile\", \"kati\", \"ho\"],\n",
    "    [\"maile\", \"gareko\", \"order\", \"ORD989\", \"track\", \"garidinu\"],\n",
    "    # Add more training examples\n",
    "]\n",
    "\n",
    "labels = [\n",
    "    [\"O\", \"O\", \"B-Brand\", \"I-Brand\", \"I-Brand\", \"I-Brand\", \"B-Category\", \"O\"],\n",
    "    [\"B-Brand\", \"I-Brand\", \"O\", \"B-Attribute\", \"O\", \"O\"],\n",
    "    [\"B-Brand\", \"O\", \"B-Category\", \"O\", \"O\"],\n",
    "    [\"O\", \"O\", \"O\", \"B-OrderID\", \"O\", \"O\"],\n",
    "    [\"B-Brand\", \"B-Category\", \"O\", \"O\"],\n",
    "    [\"B-Brand\", \"O\", \"B-Brand\", \"O\", \"B-Category\", \"O\", \"O\"],\n",
    "    [\"O\", \"O\", \"O\", \"B-OrderID\", \"O\", \"O\"],\n",
    "    # Corresponding labels\n",
    "]"
   ]
  },
  {
   "cell_type": "markdown",
   "metadata": {},
   "source": [
    "## Importing Libraries"
   ]
  },
  {
   "cell_type": "code",
   "execution_count": 80,
   "metadata": {},
   "outputs": [],
   "source": [
    "import numpy as np\n",
    "from sklearn_crfsuite import CRF\n",
    "from sklearn_crfsuite.metrics import flat_classification_report\n",
    "import re"
   ]
  },
  {
   "cell_type": "markdown",
   "metadata": {},
   "source": [
    "## Creating Features"
   ]
  },
  {
   "cell_type": "code",
   "execution_count": 81,
   "metadata": {},
   "outputs": [],
   "source": [
    "def word_shape(word):\n",
    "    shape = \"\"\n",
    "    for char in word:\n",
    "        if char.isupper():\n",
    "            shape += \"X\"\n",
    "        elif char.islower():\n",
    "            shape += \"x\"\n",
    "        elif char.isdigit():\n",
    "            shape += \"d\"\n",
    "        else:\n",
    "            shape += char\n",
    "    return shape"
   ]
  },
  {
   "cell_type": "code",
   "execution_count": 82,
   "metadata": {},
   "outputs": [],
   "source": [
    "def create_word_features(sentence, index):\n",
    "    word = sentence[index]\n",
    "    \n",
    "    features = {\n",
    "        \"word.lower\": word.lower(),\n",
    "        \"word.isupper\": word.isupper(),\n",
    "        \"word.istitle\": word.istitle(),\n",
    "        \"word.shape\": word_shape(word),\n",
    "        \"word.isdigit\": word.isdigit()\n",
    "    }\n",
    "    \n",
    "    # adding surrounding word features\n",
    "    if index > 0:\n",
    "        word_prev = sentence[index - 1]\n",
    "        features.update({\n",
    "            \"prev_word.lower\": word_prev.lower(),\n",
    "            \"prev_word.istitle\": word_prev.istitle(),\n",
    "            \"prev_word.isupper\": word_prev.isupper(),\n",
    "            \"prev_word.isdigit\": word_prev.isdigit()\n",
    "        })\n",
    "    else:\n",
    "        features[\"BOS\"] = True\n",
    "        \n",
    "    if index < len(sentence) - 1:\n",
    "        word_next = sentence[index + 1]\n",
    "        features.update({\n",
    "            \"next_word.lower\": word_next.lower(),\n",
    "            \"next_word.istitle\": word_next.istitle(),\n",
    "            \"next_word.isupper\": word_next.isupper(),\n",
    "            \"next_word.isdigit\": word_next.isdigit()\n",
    "        })\n",
    "    else:\n",
    "        features[\"EOS\"] = True\n",
    "        \n",
    "    return features"
   ]
  },
  {
   "cell_type": "markdown",
   "metadata": {},
   "source": [
    "## Preparing Training Data"
   ]
  },
  {
   "cell_type": "code",
   "execution_count": 83,
   "metadata": {},
   "outputs": [],
   "source": [
    "def prepare_data(sentences, labels):\n",
    "    X, y = [], []\n",
    "    \n",
    "    for sentence, sentence_labels in zip(sentences, labels):\n",
    "        sentence_features = []\n",
    "        for i in range(len(sentence)):\n",
    "            word_features = create_word_features(sentence, i)\n",
    "            sentence_features.append(word_features)\n",
    "            \n",
    "        X.append(sentence_features)\n",
    "        y.append(sentence_labels)\n",
    "        \n",
    "    return X, y"
   ]
  },
  {
   "cell_type": "code",
   "execution_count": 84,
   "metadata": {},
   "outputs": [],
   "source": [
    "X_train, y_train = prepare_data(sentences, labels)"
   ]
  },
  {
   "cell_type": "code",
   "execution_count": 85,
   "metadata": {},
   "outputs": [
    {
     "data": {
      "text/plain": [
       "[{'word.lower': 'tapaiko',\n",
       "  'word.isupper': False,\n",
       "  'word.istitle': False,\n",
       "  'word.shape': 'xxxxxxx',\n",
       "  'word.isdigit': False,\n",
       "  'BOS': True,\n",
       "  'next_word.lower': 'storema',\n",
       "  'next_word.istitle': False,\n",
       "  'next_word.isupper': False,\n",
       "  'next_word.isdigit': False},\n",
       " {'word.lower': 'storema',\n",
       "  'word.isupper': False,\n",
       "  'word.istitle': False,\n",
       "  'word.shape': 'xxxxxxx',\n",
       "  'word.isdigit': False,\n",
       "  'prev_word.lower': 'tapaiko',\n",
       "  'prev_word.istitle': False,\n",
       "  'prev_word.isupper': False,\n",
       "  'prev_word.isdigit': False,\n",
       "  'next_word.lower': 'redmi',\n",
       "  'next_word.istitle': True,\n",
       "  'next_word.isupper': False,\n",
       "  'next_word.isdigit': False},\n",
       " {'word.lower': 'redmi',\n",
       "  'word.isupper': False,\n",
       "  'word.istitle': True,\n",
       "  'word.shape': 'Xxxxx',\n",
       "  'word.isdigit': False,\n",
       "  'prev_word.lower': 'storema',\n",
       "  'prev_word.istitle': False,\n",
       "  'prev_word.isupper': False,\n",
       "  'prev_word.isdigit': False,\n",
       "  'next_word.lower': 'note',\n",
       "  'next_word.istitle': True,\n",
       "  'next_word.isupper': False,\n",
       "  'next_word.isdigit': False},\n",
       " {'word.lower': 'note',\n",
       "  'word.isupper': False,\n",
       "  'word.istitle': True,\n",
       "  'word.shape': 'Xxxx',\n",
       "  'word.isdigit': False,\n",
       "  'prev_word.lower': 'redmi',\n",
       "  'prev_word.istitle': True,\n",
       "  'prev_word.isupper': False,\n",
       "  'prev_word.isdigit': False,\n",
       "  'next_word.lower': '9',\n",
       "  'next_word.istitle': False,\n",
       "  'next_word.isupper': False,\n",
       "  'next_word.isdigit': True},\n",
       " {'word.lower': '9',\n",
       "  'word.isupper': False,\n",
       "  'word.istitle': False,\n",
       "  'word.shape': 'd',\n",
       "  'word.isdigit': True,\n",
       "  'prev_word.lower': 'note',\n",
       "  'prev_word.istitle': True,\n",
       "  'prev_word.isupper': False,\n",
       "  'prev_word.isdigit': False,\n",
       "  'next_word.lower': 'pro',\n",
       "  'next_word.istitle': True,\n",
       "  'next_word.isupper': False,\n",
       "  'next_word.isdigit': False},\n",
       " {'word.lower': 'pro',\n",
       "  'word.isupper': False,\n",
       "  'word.istitle': True,\n",
       "  'word.shape': 'Xxx',\n",
       "  'word.isdigit': False,\n",
       "  'prev_word.lower': '9',\n",
       "  'prev_word.istitle': False,\n",
       "  'prev_word.isupper': False,\n",
       "  'prev_word.isdigit': True,\n",
       "  'next_word.lower': 'mobile',\n",
       "  'next_word.istitle': False,\n",
       "  'next_word.isupper': False,\n",
       "  'next_word.isdigit': False},\n",
       " {'word.lower': 'mobile',\n",
       "  'word.isupper': False,\n",
       "  'word.istitle': False,\n",
       "  'word.shape': 'xxxxxx',\n",
       "  'word.isdigit': False,\n",
       "  'prev_word.lower': 'pro',\n",
       "  'prev_word.istitle': True,\n",
       "  'prev_word.isupper': False,\n",
       "  'prev_word.isdigit': False,\n",
       "  'next_word.lower': 'xa',\n",
       "  'next_word.istitle': False,\n",
       "  'next_word.isupper': False,\n",
       "  'next_word.isdigit': False},\n",
       " {'word.lower': 'xa',\n",
       "  'word.isupper': False,\n",
       "  'word.istitle': False,\n",
       "  'word.shape': 'xx',\n",
       "  'word.isdigit': False,\n",
       "  'prev_word.lower': 'mobile',\n",
       "  'prev_word.istitle': False,\n",
       "  'prev_word.isupper': False,\n",
       "  'prev_word.isdigit': False,\n",
       "  'EOS': True}]"
      ]
     },
     "execution_count": 85,
     "metadata": {},
     "output_type": "execute_result"
    }
   ],
   "source": [
    "X_train[0]"
   ]
  },
  {
   "cell_type": "code",
   "execution_count": 86,
   "metadata": {},
   "outputs": [
    {
     "data": {
      "text/plain": [
       "['O', 'O', 'B-Brand', 'I-Brand', 'I-Brand', 'I-Brand', 'B-Category', 'O']"
      ]
     },
     "execution_count": 86,
     "metadata": {},
     "output_type": "execute_result"
    }
   ],
   "source": [
    "y_train[0]"
   ]
  },
  {
   "cell_type": "markdown",
   "metadata": {},
   "source": [
    "## Model Train CRF"
   ]
  },
  {
   "cell_type": "code",
   "execution_count": 87,
   "metadata": {},
   "outputs": [],
   "source": [
    "crf = CRF(\n",
    "    algorithm=\"lbfgs\",\n",
    "    c1=0.1,\n",
    "    c2=0.2,\n",
    "    max_iterations=100,\n",
    "    all_possible_transitions=True\n",
    ")"
   ]
  },
  {
   "cell_type": "code",
   "execution_count": 88,
   "metadata": {},
   "outputs": [
    {
     "data": {
      "text/html": [
       "<style>#sk-container-id-2 {\n",
       "  /* Definition of color scheme common for light and dark mode */\n",
       "  --sklearn-color-text: black;\n",
       "  --sklearn-color-line: gray;\n",
       "  /* Definition of color scheme for unfitted estimators */\n",
       "  --sklearn-color-unfitted-level-0: #fff5e6;\n",
       "  --sklearn-color-unfitted-level-1: #f6e4d2;\n",
       "  --sklearn-color-unfitted-level-2: #ffe0b3;\n",
       "  --sklearn-color-unfitted-level-3: chocolate;\n",
       "  /* Definition of color scheme for fitted estimators */\n",
       "  --sklearn-color-fitted-level-0: #f0f8ff;\n",
       "  --sklearn-color-fitted-level-1: #d4ebff;\n",
       "  --sklearn-color-fitted-level-2: #b3dbfd;\n",
       "  --sklearn-color-fitted-level-3: cornflowerblue;\n",
       "\n",
       "  /* Specific color for light theme */\n",
       "  --sklearn-color-text-on-default-background: var(--sg-text-color, var(--theme-code-foreground, var(--jp-content-font-color1, black)));\n",
       "  --sklearn-color-background: var(--sg-background-color, var(--theme-background, var(--jp-layout-color0, white)));\n",
       "  --sklearn-color-border-box: var(--sg-text-color, var(--theme-code-foreground, var(--jp-content-font-color1, black)));\n",
       "  --sklearn-color-icon: #696969;\n",
       "\n",
       "  @media (prefers-color-scheme: dark) {\n",
       "    /* Redefinition of color scheme for dark theme */\n",
       "    --sklearn-color-text-on-default-background: var(--sg-text-color, var(--theme-code-foreground, var(--jp-content-font-color1, white)));\n",
       "    --sklearn-color-background: var(--sg-background-color, var(--theme-background, var(--jp-layout-color0, #111)));\n",
       "    --sklearn-color-border-box: var(--sg-text-color, var(--theme-code-foreground, var(--jp-content-font-color1, white)));\n",
       "    --sklearn-color-icon: #878787;\n",
       "  }\n",
       "}\n",
       "\n",
       "#sk-container-id-2 {\n",
       "  color: var(--sklearn-color-text);\n",
       "}\n",
       "\n",
       "#sk-container-id-2 pre {\n",
       "  padding: 0;\n",
       "}\n",
       "\n",
       "#sk-container-id-2 input.sk-hidden--visually {\n",
       "  border: 0;\n",
       "  clip: rect(1px 1px 1px 1px);\n",
       "  clip: rect(1px, 1px, 1px, 1px);\n",
       "  height: 1px;\n",
       "  margin: -1px;\n",
       "  overflow: hidden;\n",
       "  padding: 0;\n",
       "  position: absolute;\n",
       "  width: 1px;\n",
       "}\n",
       "\n",
       "#sk-container-id-2 div.sk-dashed-wrapped {\n",
       "  border: 1px dashed var(--sklearn-color-line);\n",
       "  margin: 0 0.4em 0.5em 0.4em;\n",
       "  box-sizing: border-box;\n",
       "  padding-bottom: 0.4em;\n",
       "  background-color: var(--sklearn-color-background);\n",
       "}\n",
       "\n",
       "#sk-container-id-2 div.sk-container {\n",
       "  /* jupyter's `normalize.less` sets `[hidden] { display: none; }`\n",
       "     but bootstrap.min.css set `[hidden] { display: none !important; }`\n",
       "     so we also need the `!important` here to be able to override the\n",
       "     default hidden behavior on the sphinx rendered scikit-learn.org.\n",
       "     See: https://github.com/scikit-learn/scikit-learn/issues/21755 */\n",
       "  display: inline-block !important;\n",
       "  position: relative;\n",
       "}\n",
       "\n",
       "#sk-container-id-2 div.sk-text-repr-fallback {\n",
       "  display: none;\n",
       "}\n",
       "\n",
       "div.sk-parallel-item,\n",
       "div.sk-serial,\n",
       "div.sk-item {\n",
       "  /* draw centered vertical line to link estimators */\n",
       "  background-image: linear-gradient(var(--sklearn-color-text-on-default-background), var(--sklearn-color-text-on-default-background));\n",
       "  background-size: 2px 100%;\n",
       "  background-repeat: no-repeat;\n",
       "  background-position: center center;\n",
       "}\n",
       "\n",
       "/* Parallel-specific style estimator block */\n",
       "\n",
       "#sk-container-id-2 div.sk-parallel-item::after {\n",
       "  content: \"\";\n",
       "  width: 100%;\n",
       "  border-bottom: 2px solid var(--sklearn-color-text-on-default-background);\n",
       "  flex-grow: 1;\n",
       "}\n",
       "\n",
       "#sk-container-id-2 div.sk-parallel {\n",
       "  display: flex;\n",
       "  align-items: stretch;\n",
       "  justify-content: center;\n",
       "  background-color: var(--sklearn-color-background);\n",
       "  position: relative;\n",
       "}\n",
       "\n",
       "#sk-container-id-2 div.sk-parallel-item {\n",
       "  display: flex;\n",
       "  flex-direction: column;\n",
       "}\n",
       "\n",
       "#sk-container-id-2 div.sk-parallel-item:first-child::after {\n",
       "  align-self: flex-end;\n",
       "  width: 50%;\n",
       "}\n",
       "\n",
       "#sk-container-id-2 div.sk-parallel-item:last-child::after {\n",
       "  align-self: flex-start;\n",
       "  width: 50%;\n",
       "}\n",
       "\n",
       "#sk-container-id-2 div.sk-parallel-item:only-child::after {\n",
       "  width: 0;\n",
       "}\n",
       "\n",
       "/* Serial-specific style estimator block */\n",
       "\n",
       "#sk-container-id-2 div.sk-serial {\n",
       "  display: flex;\n",
       "  flex-direction: column;\n",
       "  align-items: center;\n",
       "  background-color: var(--sklearn-color-background);\n",
       "  padding-right: 1em;\n",
       "  padding-left: 1em;\n",
       "}\n",
       "\n",
       "\n",
       "/* Toggleable style: style used for estimator/Pipeline/ColumnTransformer box that is\n",
       "clickable and can be expanded/collapsed.\n",
       "- Pipeline and ColumnTransformer use this feature and define the default style\n",
       "- Estimators will overwrite some part of the style using the `sk-estimator` class\n",
       "*/\n",
       "\n",
       "/* Pipeline and ColumnTransformer style (default) */\n",
       "\n",
       "#sk-container-id-2 div.sk-toggleable {\n",
       "  /* Default theme specific background. It is overwritten whether we have a\n",
       "  specific estimator or a Pipeline/ColumnTransformer */\n",
       "  background-color: var(--sklearn-color-background);\n",
       "}\n",
       "\n",
       "/* Toggleable label */\n",
       "#sk-container-id-2 label.sk-toggleable__label {\n",
       "  cursor: pointer;\n",
       "  display: block;\n",
       "  width: 100%;\n",
       "  margin-bottom: 0;\n",
       "  padding: 0.5em;\n",
       "  box-sizing: border-box;\n",
       "  text-align: center;\n",
       "}\n",
       "\n",
       "#sk-container-id-2 label.sk-toggleable__label-arrow:before {\n",
       "  /* Arrow on the left of the label */\n",
       "  content: \"▸\";\n",
       "  float: left;\n",
       "  margin-right: 0.25em;\n",
       "  color: var(--sklearn-color-icon);\n",
       "}\n",
       "\n",
       "#sk-container-id-2 label.sk-toggleable__label-arrow:hover:before {\n",
       "  color: var(--sklearn-color-text);\n",
       "}\n",
       "\n",
       "/* Toggleable content - dropdown */\n",
       "\n",
       "#sk-container-id-2 div.sk-toggleable__content {\n",
       "  max-height: 0;\n",
       "  max-width: 0;\n",
       "  overflow: hidden;\n",
       "  text-align: left;\n",
       "  /* unfitted */\n",
       "  background-color: var(--sklearn-color-unfitted-level-0);\n",
       "}\n",
       "\n",
       "#sk-container-id-2 div.sk-toggleable__content.fitted {\n",
       "  /* fitted */\n",
       "  background-color: var(--sklearn-color-fitted-level-0);\n",
       "}\n",
       "\n",
       "#sk-container-id-2 div.sk-toggleable__content pre {\n",
       "  margin: 0.2em;\n",
       "  border-radius: 0.25em;\n",
       "  color: var(--sklearn-color-text);\n",
       "  /* unfitted */\n",
       "  background-color: var(--sklearn-color-unfitted-level-0);\n",
       "}\n",
       "\n",
       "#sk-container-id-2 div.sk-toggleable__content.fitted pre {\n",
       "  /* unfitted */\n",
       "  background-color: var(--sklearn-color-fitted-level-0);\n",
       "}\n",
       "\n",
       "#sk-container-id-2 input.sk-toggleable__control:checked~div.sk-toggleable__content {\n",
       "  /* Expand drop-down */\n",
       "  max-height: 200px;\n",
       "  max-width: 100%;\n",
       "  overflow: auto;\n",
       "}\n",
       "\n",
       "#sk-container-id-2 input.sk-toggleable__control:checked~label.sk-toggleable__label-arrow:before {\n",
       "  content: \"▾\";\n",
       "}\n",
       "\n",
       "/* Pipeline/ColumnTransformer-specific style */\n",
       "\n",
       "#sk-container-id-2 div.sk-label input.sk-toggleable__control:checked~label.sk-toggleable__label {\n",
       "  color: var(--sklearn-color-text);\n",
       "  background-color: var(--sklearn-color-unfitted-level-2);\n",
       "}\n",
       "\n",
       "#sk-container-id-2 div.sk-label.fitted input.sk-toggleable__control:checked~label.sk-toggleable__label {\n",
       "  background-color: var(--sklearn-color-fitted-level-2);\n",
       "}\n",
       "\n",
       "/* Estimator-specific style */\n",
       "\n",
       "/* Colorize estimator box */\n",
       "#sk-container-id-2 div.sk-estimator input.sk-toggleable__control:checked~label.sk-toggleable__label {\n",
       "  /* unfitted */\n",
       "  background-color: var(--sklearn-color-unfitted-level-2);\n",
       "}\n",
       "\n",
       "#sk-container-id-2 div.sk-estimator.fitted input.sk-toggleable__control:checked~label.sk-toggleable__label {\n",
       "  /* fitted */\n",
       "  background-color: var(--sklearn-color-fitted-level-2);\n",
       "}\n",
       "\n",
       "#sk-container-id-2 div.sk-label label.sk-toggleable__label,\n",
       "#sk-container-id-2 div.sk-label label {\n",
       "  /* The background is the default theme color */\n",
       "  color: var(--sklearn-color-text-on-default-background);\n",
       "}\n",
       "\n",
       "/* On hover, darken the color of the background */\n",
       "#sk-container-id-2 div.sk-label:hover label.sk-toggleable__label {\n",
       "  color: var(--sklearn-color-text);\n",
       "  background-color: var(--sklearn-color-unfitted-level-2);\n",
       "}\n",
       "\n",
       "/* Label box, darken color on hover, fitted */\n",
       "#sk-container-id-2 div.sk-label.fitted:hover label.sk-toggleable__label.fitted {\n",
       "  color: var(--sklearn-color-text);\n",
       "  background-color: var(--sklearn-color-fitted-level-2);\n",
       "}\n",
       "\n",
       "/* Estimator label */\n",
       "\n",
       "#sk-container-id-2 div.sk-label label {\n",
       "  font-family: monospace;\n",
       "  font-weight: bold;\n",
       "  display: inline-block;\n",
       "  line-height: 1.2em;\n",
       "}\n",
       "\n",
       "#sk-container-id-2 div.sk-label-container {\n",
       "  text-align: center;\n",
       "}\n",
       "\n",
       "/* Estimator-specific */\n",
       "#sk-container-id-2 div.sk-estimator {\n",
       "  font-family: monospace;\n",
       "  border: 1px dotted var(--sklearn-color-border-box);\n",
       "  border-radius: 0.25em;\n",
       "  box-sizing: border-box;\n",
       "  margin-bottom: 0.5em;\n",
       "  /* unfitted */\n",
       "  background-color: var(--sklearn-color-unfitted-level-0);\n",
       "}\n",
       "\n",
       "#sk-container-id-2 div.sk-estimator.fitted {\n",
       "  /* fitted */\n",
       "  background-color: var(--sklearn-color-fitted-level-0);\n",
       "}\n",
       "\n",
       "/* on hover */\n",
       "#sk-container-id-2 div.sk-estimator:hover {\n",
       "  /* unfitted */\n",
       "  background-color: var(--sklearn-color-unfitted-level-2);\n",
       "}\n",
       "\n",
       "#sk-container-id-2 div.sk-estimator.fitted:hover {\n",
       "  /* fitted */\n",
       "  background-color: var(--sklearn-color-fitted-level-2);\n",
       "}\n",
       "\n",
       "/* Specification for estimator info (e.g. \"i\" and \"?\") */\n",
       "\n",
       "/* Common style for \"i\" and \"?\" */\n",
       "\n",
       ".sk-estimator-doc-link,\n",
       "a:link.sk-estimator-doc-link,\n",
       "a:visited.sk-estimator-doc-link {\n",
       "  float: right;\n",
       "  font-size: smaller;\n",
       "  line-height: 1em;\n",
       "  font-family: monospace;\n",
       "  background-color: var(--sklearn-color-background);\n",
       "  border-radius: 1em;\n",
       "  height: 1em;\n",
       "  width: 1em;\n",
       "  text-decoration: none !important;\n",
       "  margin-left: 1ex;\n",
       "  /* unfitted */\n",
       "  border: var(--sklearn-color-unfitted-level-1) 1pt solid;\n",
       "  color: var(--sklearn-color-unfitted-level-1);\n",
       "}\n",
       "\n",
       ".sk-estimator-doc-link.fitted,\n",
       "a:link.sk-estimator-doc-link.fitted,\n",
       "a:visited.sk-estimator-doc-link.fitted {\n",
       "  /* fitted */\n",
       "  border: var(--sklearn-color-fitted-level-1) 1pt solid;\n",
       "  color: var(--sklearn-color-fitted-level-1);\n",
       "}\n",
       "\n",
       "/* On hover */\n",
       "div.sk-estimator:hover .sk-estimator-doc-link:hover,\n",
       ".sk-estimator-doc-link:hover,\n",
       "div.sk-label-container:hover .sk-estimator-doc-link:hover,\n",
       ".sk-estimator-doc-link:hover {\n",
       "  /* unfitted */\n",
       "  background-color: var(--sklearn-color-unfitted-level-3);\n",
       "  color: var(--sklearn-color-background);\n",
       "  text-decoration: none;\n",
       "}\n",
       "\n",
       "div.sk-estimator.fitted:hover .sk-estimator-doc-link.fitted:hover,\n",
       ".sk-estimator-doc-link.fitted:hover,\n",
       "div.sk-label-container:hover .sk-estimator-doc-link.fitted:hover,\n",
       ".sk-estimator-doc-link.fitted:hover {\n",
       "  /* fitted */\n",
       "  background-color: var(--sklearn-color-fitted-level-3);\n",
       "  color: var(--sklearn-color-background);\n",
       "  text-decoration: none;\n",
       "}\n",
       "\n",
       "/* Span, style for the box shown on hovering the info icon */\n",
       ".sk-estimator-doc-link span {\n",
       "  display: none;\n",
       "  z-index: 9999;\n",
       "  position: relative;\n",
       "  font-weight: normal;\n",
       "  right: .2ex;\n",
       "  padding: .5ex;\n",
       "  margin: .5ex;\n",
       "  width: min-content;\n",
       "  min-width: 20ex;\n",
       "  max-width: 50ex;\n",
       "  color: var(--sklearn-color-text);\n",
       "  box-shadow: 2pt 2pt 4pt #999;\n",
       "  /* unfitted */\n",
       "  background: var(--sklearn-color-unfitted-level-0);\n",
       "  border: .5pt solid var(--sklearn-color-unfitted-level-3);\n",
       "}\n",
       "\n",
       ".sk-estimator-doc-link.fitted span {\n",
       "  /* fitted */\n",
       "  background: var(--sklearn-color-fitted-level-0);\n",
       "  border: var(--sklearn-color-fitted-level-3);\n",
       "}\n",
       "\n",
       ".sk-estimator-doc-link:hover span {\n",
       "  display: block;\n",
       "}\n",
       "\n",
       "/* \"?\"-specific style due to the `<a>` HTML tag */\n",
       "\n",
       "#sk-container-id-2 a.estimator_doc_link {\n",
       "  float: right;\n",
       "  font-size: 1rem;\n",
       "  line-height: 1em;\n",
       "  font-family: monospace;\n",
       "  background-color: var(--sklearn-color-background);\n",
       "  border-radius: 1rem;\n",
       "  height: 1rem;\n",
       "  width: 1rem;\n",
       "  text-decoration: none;\n",
       "  /* unfitted */\n",
       "  color: var(--sklearn-color-unfitted-level-1);\n",
       "  border: var(--sklearn-color-unfitted-level-1) 1pt solid;\n",
       "}\n",
       "\n",
       "#sk-container-id-2 a.estimator_doc_link.fitted {\n",
       "  /* fitted */\n",
       "  border: var(--sklearn-color-fitted-level-1) 1pt solid;\n",
       "  color: var(--sklearn-color-fitted-level-1);\n",
       "}\n",
       "\n",
       "/* On hover */\n",
       "#sk-container-id-2 a.estimator_doc_link:hover {\n",
       "  /* unfitted */\n",
       "  background-color: var(--sklearn-color-unfitted-level-3);\n",
       "  color: var(--sklearn-color-background);\n",
       "  text-decoration: none;\n",
       "}\n",
       "\n",
       "#sk-container-id-2 a.estimator_doc_link.fitted:hover {\n",
       "  /* fitted */\n",
       "  background-color: var(--sklearn-color-fitted-level-3);\n",
       "}\n",
       "</style><div id=\"sk-container-id-2\" class=\"sk-top-container\"><div class=\"sk-text-repr-fallback\"><pre>CRF(algorithm=&#x27;lbfgs&#x27;, all_possible_transitions=True, c1=0.1, c2=0.2,\n",
       "    max_iterations=100)</pre><b>In a Jupyter environment, please rerun this cell to show the HTML representation or trust the notebook. <br />On GitHub, the HTML representation is unable to render, please try loading this page with nbviewer.org.</b></div><div class=\"sk-container\" hidden><div class=\"sk-item\"><div class=\"sk-estimator fitted sk-toggleable\"><input class=\"sk-toggleable__control sk-hidden--visually\" id=\"sk-estimator-id-2\" type=\"checkbox\" checked><label for=\"sk-estimator-id-2\" class=\"sk-toggleable__label fitted sk-toggleable__label-arrow fitted\">&nbsp;CRF<span class=\"sk-estimator-doc-link fitted\">i<span>Fitted</span></span></label><div class=\"sk-toggleable__content fitted\"><pre>CRF(algorithm=&#x27;lbfgs&#x27;, all_possible_transitions=True, c1=0.1, c2=0.2,\n",
       "    max_iterations=100)</pre></div> </div></div></div></div>"
      ],
      "text/plain": [
       "CRF(algorithm='lbfgs', all_possible_transitions=True, c1=0.1, c2=0.2,\n",
       "    max_iterations=100)"
      ]
     },
     "execution_count": 88,
     "metadata": {},
     "output_type": "execute_result"
    }
   ],
   "source": [
    "crf.fit(X_train, y_train)"
   ]
  },
  {
   "cell_type": "code",
   "execution_count": 89,
   "metadata": {},
   "outputs": [],
   "source": [
    "def predict_entities(crf_model: CRF, sentence: list):\n",
    "    sentence_features = [create_word_features(sentence, i) for i in range(len(sentence))]\n",
    "    predictions = crf_model.predict([sentence_features])[0]\n",
    "    return predictions"
   ]
  },
  {
   "cell_type": "code",
   "execution_count": 90,
   "metadata": {},
   "outputs": [
    {
     "name": "stdout",
     "output_type": "stream",
     "text": [
      "['B-Brand' 'B-Category' 'O' 'O']\n"
     ]
    }
   ],
   "source": [
    "new_sentence = [\"Redmi\", \"mobile\", \"kati\", \"ho\"]\n",
    "predicted_labels = predict_entities(crf, new_sentence)\n",
    "print(predicted_labels)"
   ]
  },
  {
   "cell_type": "code",
   "execution_count": 91,
   "metadata": {},
   "outputs": [
    {
     "name": "stdout",
     "output_type": "stream",
     "text": [
      "['B-Brand' 'B-Category' 'O' 'O' 'O' 'O' 'O']\n"
     ]
    }
   ],
   "source": [
    "new_sentence = [\"Apple\", \"mobile\", \"Rs\", \"100000\", \"vanda\", \"sasto\", \"ho\"]\n",
    "predicted_labels = predict_entities(crf, new_sentence)\n",
    "print(predicted_labels)"
   ]
  },
  {
   "cell_type": "code",
   "execution_count": 92,
   "metadata": {},
   "outputs": [
    {
     "name": "stdout",
     "output_type": "stream",
     "text": [
      "['B-Brand' 'B-Category' 'O' 'O' 'O' 'B-OrderID' 'O' 'O']\n"
     ]
    }
   ],
   "source": [
    "new_sentence = [\"Apple\", \"mobile\", \"order\", \"gareko\", \"id\", \"ORD12\", \"track\", \"garidinu\"]\n",
    "predicted_labels = predict_entities(crf, new_sentence)\n",
    "print(predicted_labels)"
   ]
  },
  {
   "cell_type": "code",
   "execution_count": 93,
   "metadata": {},
   "outputs": [
    {
     "name": "stdout",
     "output_type": "stream",
     "text": [
      "['B-Brand' 'O' 'B-Brand' 'O' 'B-Category' 'O' 'O']\n"
     ]
    }
   ],
   "source": [
    "new_sentence = [\"Oppo\", \"ra\", \"Vivo\", \"ko\", \"mobile\", \"kati\", \"ho\"]\n",
    "predicted_labels = predict_entities(crf, new_sentence)\n",
    "print(predicted_labels)"
   ]
  },
  {
   "cell_type": "code",
   "execution_count": 94,
   "metadata": {},
   "outputs": [
    {
     "name": "stdout",
     "output_type": "stream",
     "text": [
      "['B-Brand' 'B-Category' 'O' 'B-Attribute' 'O' 'O']\n"
     ]
    }
   ],
   "source": [
    "new_sentence = [\"Redmi\", \"mobile\", \"ko\", \"price\", \"kati\", \"ho\"]\n",
    "predicted_labels = predict_entities(crf, new_sentence)\n",
    "print(predicted_labels)"
   ]
  },
  {
   "cell_type": "code",
   "execution_count": 95,
   "metadata": {},
   "outputs": [
    {
     "name": "stdout",
     "output_type": "stream",
     "text": [
      "['B-Brand' 'O' 'O' 'B-Attribute' 'O' 'O']\n"
     ]
    }
   ],
   "source": [
    "new_sentence = [\"Huawei\", \"calculator\", \"ko\", \"price\", \"kati\", \"ho\"]\n",
    "predicted_labels = predict_entities(crf, new_sentence)\n",
    "print(predicted_labels)"
   ]
  },
  {
   "cell_type": "markdown",
   "metadata": {},
   "source": [
    "## Evaluation"
   ]
  },
  {
   "cell_type": "code",
   "execution_count": 96,
   "metadata": {},
   "outputs": [
    {
     "data": {
      "text/plain": [
       "array([['B-Brand', 'O', 'O', 'B-Attribute', 'O', 'O']], dtype=object)"
      ]
     },
     "execution_count": 96,
     "metadata": {},
     "output_type": "execute_result"
    }
   ],
   "source": [
    "X_test = [\"Casio\", \"calculator\", \"ko\", \"price\", \"kati\", \"ho\"]\n",
    "y_test = [\"B-Brand\", \"B-Category\", \"O\", \"B-Attribute\", \"O\", \"O\"]\n",
    "\n",
    "X_test_features = [create_word_features(X_test, i) for i in range(len(X_test))]\n",
    "y_pred = crf.predict([X_test_features])\n",
    "\n",
    "y_pred"
   ]
  },
  {
   "cell_type": "code",
   "execution_count": 97,
   "metadata": {},
   "outputs": [
    {
     "data": {
      "text/plain": [
       "array([{'O': 0.0876059968925813, 'B-Brand': 0.7340555607162239, 'I-Brand': 0.07023751092973064, 'B-Category': 0.038001674764988655, 'B-Attribute': 0.03462219903527901, 'B-OrderID': 0.03547705766119632},\n",
       "       {'O': 0.3350934164311626, 'B-Brand': 0.0988055039088461, 'I-Brand': 0.19101552750279535, 'B-Category': 0.23256099842037847, 'B-Attribute': 0.060283371356210466, 'B-OrderID': 0.08224118238060696},\n",
       "       {'O': 0.899847297363934, 'B-Brand': 0.016777104532296364, 'I-Brand': 0.024117264562654565, 'B-Category': 0.02037916594012317, 'B-Attribute': 0.01863006116380619, 'B-OrderID': 0.020249106437185766},\n",
       "       {'O': 0.3107754933152471, 'B-Brand': 0.026105709025310928, 'I-Brand': 0.012191983875474837, 'B-Category': 0.1622303374647279, 'B-Attribute': 0.45336399300913727, 'B-OrderID': 0.03533248331010196},\n",
       "       {'O': 0.8845411968550176, 'B-Brand': 0.021812661110052617, 'I-Brand': 0.016731481307206864, 'B-Category': 0.03175378990731769, 'B-Attribute': 0.019203568032846584, 'B-OrderID': 0.025957302787558506},\n",
       "       {'O': 0.948197685496375, 'B-Brand': 0.01154709647942961, 'I-Brand': 0.00725932454128071, 'B-Category': 0.008751853422597815, 'B-Attribute': 0.010693858709134052, 'B-OrderID': 0.013550181351182987}],\n",
       "      dtype=object)"
      ]
     },
     "execution_count": 97,
     "metadata": {},
     "output_type": "execute_result"
    }
   ],
   "source": [
    "labels = crf.predict_marginals([X_test_features])[0]\n",
    "\n",
    "labels"
   ]
  },
  {
   "cell_type": "code",
   "execution_count": 98,
   "metadata": {},
   "outputs": [
    {
     "data": {
      "text/plain": [
       "('b', 2)"
      ]
     },
     "execution_count": 98,
     "metadata": {},
     "output_type": "execute_result"
    }
   ],
   "source": [
    "dict_ = {\n",
    "    \"a\": 1,\n",
    "    \"b\": 2\n",
    "}\n",
    "\n",
    "max(dict_.items(), key=lambda x: x[1])"
   ]
  },
  {
   "cell_type": "code",
   "execution_count": 99,
   "metadata": {},
   "outputs": [
    {
     "data": {
      "text/plain": [
       "dict_items([('a', 1), ('b', 2)])"
      ]
     },
     "execution_count": 99,
     "metadata": {},
     "output_type": "execute_result"
    }
   ],
   "source": [
    "dict_.items()"
   ]
  },
  {
   "cell_type": "code",
   "execution_count": 100,
   "metadata": {},
   "outputs": [],
   "source": [
    "threshold = 0.5\n",
    "\n",
    "final_predictions = []\n",
    "\n",
    "for token_probs in labels:\n",
    "    best_label = max(token_probs.items(), key=lambda x: x[1])\n",
    "    if best_label[1] > threshold:\n",
    "        final_predictions.append(best_label[0])\n",
    "    else:\n",
    "        final_predictions.append(\"O\")"
   ]
  },
  {
   "cell_type": "code",
   "execution_count": 101,
   "metadata": {},
   "outputs": [
    {
     "data": {
      "text/plain": [
       "['B-Brand', 'O', 'O', 'O', 'O', 'O']"
      ]
     },
     "execution_count": 101,
     "metadata": {},
     "output_type": "execute_result"
    }
   ],
   "source": [
    "final_predictions"
   ]
  }
 ],
 "metadata": {
  "kernelspec": {
   "display_name": "Python 3",
   "language": "python",
   "name": "python3"
  },
  "language_info": {
   "codemirror_mode": {
    "name": "ipython",
    "version": 3
   },
   "file_extension": ".py",
   "mimetype": "text/x-python",
   "name": "python",
   "nbconvert_exporter": "python",
   "pygments_lexer": "ipython3",
   "version": "3.12.1"
  }
 },
 "nbformat": 4,
 "nbformat_minor": 2
}
